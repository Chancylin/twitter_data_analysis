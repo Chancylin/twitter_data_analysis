{
 "cells": [
  {
   "cell_type": "code",
   "execution_count": 1,
   "metadata": {},
   "outputs": [],
   "source": [
    "%load_ext autoreload\n",
    "%autoreload 2"
   ]
  },
  {
   "cell_type": "code",
   "execution_count": 2,
   "metadata": {},
   "outputs": [],
   "source": [
    "import sys\n",
    "import os"
   ]
  },
  {
   "cell_type": "code",
   "execution_count": 3,
   "metadata": {},
   "outputs": [],
   "source": [
    "sys.path.insert(0, \"../\")"
   ]
  },
  {
   "cell_type": "code",
   "execution_count": 4,
   "metadata": {},
   "outputs": [
    {
     "data": {
      "text/plain": [
       "['../',\n",
       " '/Users/lcx/Documents/weclouddata/my_project/notebook',\n",
       " '/Users/lcx/anaconda3/envs/ML_py37/lib/python37.zip',\n",
       " '/Users/lcx/anaconda3/envs/ML_py37/lib/python3.7',\n",
       " '/Users/lcx/anaconda3/envs/ML_py37/lib/python3.7/lib-dynload',\n",
       " '',\n",
       " '/Users/lcx/anaconda3/envs/ML_py37/lib/python3.7/site-packages',\n",
       " '/Users/lcx/anaconda3/envs/ML_py37/lib/python3.7/site-packages/IPython/extensions',\n",
       " '/Users/lcx/.ipython']"
      ]
     },
     "execution_count": 4,
     "metadata": {},
     "output_type": "execute_result"
    }
   ],
   "source": [
    "sys.path"
   ]
  },
  {
   "cell_type": "markdown",
   "metadata": {},
   "source": [
    "## import class TweetAnalyzer"
   ]
  },
  {
   "cell_type": "code",
   "execution_count": 5,
   "metadata": {},
   "outputs": [],
   "source": [
    "from TweetAnalyzer import TweetAnalyzer"
   ]
  },
  {
   "cell_type": "code",
   "execution_count": 6,
   "metadata": {},
   "outputs": [],
   "source": [
    "twAnalyze = TweetAnalyzer()"
   ]
  },
  {
   "cell_type": "markdown",
   "metadata": {},
   "source": [
    "### import data to pandas df"
   ]
  },
  {
   "cell_type": "code",
   "execution_count": 7,
   "metadata": {},
   "outputs": [],
   "source": [
    "df_tweets = twAnalyze.load_to_csv(\"../twitter_data/twitter_data_fetched_test_4.txt\")"
   ]
  },
  {
   "cell_type": "code",
   "execution_count": 8,
   "metadata": {},
   "outputs": [
    {
     "data": {
      "text/html": [
       "<div>\n",
       "<style scoped>\n",
       "    .dataframe tbody tr th:only-of-type {\n",
       "        vertical-align: middle;\n",
       "    }\n",
       "\n",
       "    .dataframe tbody tr th {\n",
       "        vertical-align: top;\n",
       "    }\n",
       "\n",
       "    .dataframe thead th {\n",
       "        text-align: right;\n",
       "    }\n",
       "</style>\n",
       "<table border=\"1\" class=\"dataframe\">\n",
       "  <thead>\n",
       "    <tr style=\"text-align: right;\">\n",
       "      <th></th>\n",
       "      <th>tweet</th>\n",
       "      <th>hashtags</th>\n",
       "      <th>date</th>\n",
       "      <th>retweet_count</th>\n",
       "      <th>favorite_count</th>\n",
       "      <th>is_retweet</th>\n",
       "      <th>truncated</th>\n",
       "      <th>user_id</th>\n",
       "      <th>user_name</th>\n",
       "      <th>user_screen_name</th>\n",
       "      <th>user_followers_count</th>\n",
       "      <th>user_loc</th>\n",
       "      <th>geo</th>\n",
       "    </tr>\n",
       "  </thead>\n",
       "  <tbody>\n",
       "    <tr>\n",
       "      <th>0</th>\n",
       "      <td>Reinforcement Learning #MachineLearning #AI  h...</td>\n",
       "      <td>MachineLearning, AI</td>\n",
       "      <td>Sun Sep 13 19:45:57 +0000 2020</td>\n",
       "      <td>0</td>\n",
       "      <td>0</td>\n",
       "      <td>True</td>\n",
       "      <td>False</td>\n",
       "      <td>1305231261879869441</td>\n",
       "      <td>六左衛門</td>\n",
       "      <td>The_Keitoku</td>\n",
       "      <td>2446</td>\n",
       "      <td>夢おおいまち</td>\n",
       "      <td>None</td>\n",
       "    </tr>\n",
       "    <tr>\n",
       "      <th>1</th>\n",
       "      <td>BEGINNING 1 #RealisticVirtualEarth &amp;gt; https:...</td>\n",
       "      <td>RealisticVirtualEarth, GoogleStreetView, TimeS...</td>\n",
       "      <td>Sun Sep 13 19:45:59 +0000 2020</td>\n",
       "      <td>0</td>\n",
       "      <td>0</td>\n",
       "      <td>True</td>\n",
       "      <td>False</td>\n",
       "      <td>1305231269597384704</td>\n",
       "      <td>HarbinBook</td>\n",
       "      <td>HarbinBook</td>\n",
       "      <td>417</td>\n",
       "      <td>Berkeley, CA</td>\n",
       "      <td>None</td>\n",
       "    </tr>\n",
       "    <tr>\n",
       "      <th>2</th>\n",
       "      <td>These Lego-like bricks are actually robots v/ ...</td>\n",
       "      <td>AI, Robotics</td>\n",
       "      <td>Sun Sep 13 19:46:03 +0000 2020</td>\n",
       "      <td>0</td>\n",
       "      <td>0</td>\n",
       "      <td>True</td>\n",
       "      <td>False</td>\n",
       "      <td>1305231285212905472</td>\n",
       "      <td>Franco Ronconi 🇮🇹</td>\n",
       "      <td>FrRonconi</td>\n",
       "      <td>25280</td>\n",
       "      <td>Padova</td>\n",
       "      <td>None</td>\n",
       "    </tr>\n",
       "    <tr>\n",
       "      <th>3</th>\n",
       "      <td>These Lego-like bricks are actually robots v/ ...</td>\n",
       "      <td>AI, Robotics</td>\n",
       "      <td>Sun Sep 13 19:46:04 +0000 2020</td>\n",
       "      <td>0</td>\n",
       "      <td>0</td>\n",
       "      <td>True</td>\n",
       "      <td>False</td>\n",
       "      <td>1305231291923804160</td>\n",
       "      <td>Alexandre T. Rosario</td>\n",
       "      <td>alerosario09</td>\n",
       "      <td>63</td>\n",
       "      <td>Campinas, São Paulo, Brasil</td>\n",
       "      <td>None</td>\n",
       "    </tr>\n",
       "    <tr>\n",
       "      <th>4</th>\n",
       "      <td>#AI #Innovation #hyperconnected #Humans   Thes...</td>\n",
       "      <td>AI, Innovation, hyperconnected, Humans, innova...</td>\n",
       "      <td>Sun Sep 13 19:46:04 +0000 2020</td>\n",
       "      <td>0</td>\n",
       "      <td>0</td>\n",
       "      <td>True</td>\n",
       "      <td>False</td>\n",
       "      <td>1305231291873456128</td>\n",
       "      <td>bnsuep</td>\n",
       "      <td>bnsuep1</td>\n",
       "      <td>192</td>\n",
       "      <td>Brooklyn, NY</td>\n",
       "      <td>None</td>\n",
       "    </tr>\n",
       "  </tbody>\n",
       "</table>\n",
       "</div>"
      ],
      "text/plain": [
       "                                               tweet  \\\n",
       "0  Reinforcement Learning #MachineLearning #AI  h...   \n",
       "1  BEGINNING 1 #RealisticVirtualEarth &gt; https:...   \n",
       "2  These Lego-like bricks are actually robots v/ ...   \n",
       "3  These Lego-like bricks are actually robots v/ ...   \n",
       "4  #AI #Innovation #hyperconnected #Humans   Thes...   \n",
       "\n",
       "                                            hashtags  \\\n",
       "0                                MachineLearning, AI   \n",
       "1  RealisticVirtualEarth, GoogleStreetView, TimeS...   \n",
       "2                                       AI, Robotics   \n",
       "3                                       AI, Robotics   \n",
       "4  AI, Innovation, hyperconnected, Humans, innova...   \n",
       "\n",
       "                             date  retweet_count  favorite_count  is_retweet  \\\n",
       "0  Sun Sep 13 19:45:57 +0000 2020              0               0        True   \n",
       "1  Sun Sep 13 19:45:59 +0000 2020              0               0        True   \n",
       "2  Sun Sep 13 19:46:03 +0000 2020              0               0        True   \n",
       "3  Sun Sep 13 19:46:04 +0000 2020              0               0        True   \n",
       "4  Sun Sep 13 19:46:04 +0000 2020              0               0        True   \n",
       "\n",
       "   truncated              user_id             user_name user_screen_name  \\\n",
       "0      False  1305231261879869441                  六左衛門      The_Keitoku   \n",
       "1      False  1305231269597384704            HarbinBook       HarbinBook   \n",
       "2      False  1305231285212905472     Franco Ronconi 🇮🇹        FrRonconi   \n",
       "3      False  1305231291923804160  Alexandre T. Rosario     alerosario09   \n",
       "4      False  1305231291873456128                bnsuep          bnsuep1   \n",
       "\n",
       "   user_followers_count                     user_loc   geo  \n",
       "0                  2446                       夢おおいまち  None  \n",
       "1                   417                 Berkeley, CA  None  \n",
       "2                 25280                       Padova  None  \n",
       "3                    63  Campinas, São Paulo, Brasil  None  \n",
       "4                   192                 Brooklyn, NY  None  "
      ]
     },
     "execution_count": 8,
     "metadata": {},
     "output_type": "execute_result"
    }
   ],
   "source": [
    "df_tweets.head(5)"
   ]
  },
  {
   "cell_type": "markdown",
   "metadata": {},
   "source": [
    "### clean the tweets"
   ]
  },
  {
   "cell_type": "code",
   "execution_count": 20,
   "metadata": {},
   "outputs": [],
   "source": [
    "df_tweets[\"tweet_cleaned\"]= df_tweets.apply(lambda row: twAnalyze.clean_tweet(row[\"tweet\"]), axis=1)"
   ]
  },
  {
   "cell_type": "code",
   "execution_count": 22,
   "metadata": {},
   "outputs": [
    {
     "name": "stdout",
     "output_type": "stream",
     "text": [
      "Reinforcement Learning\n",
      "BEGINNING 1 in w for learning with via App Google open sources soccer\n",
      "These Lego like bricks are actually robots v cc\n",
      "These Lego like bricks are actually robots v cc\n",
      "These Anti procrastination Smart Glasses Use Artificial Intelligence to Monitor What You Look at all Day via TY MT\n",
      "LEAD THE WAY FOLLOW SEE ME BEHIND YOU\n",
      "Reinforcement Learning\n",
      "Race against a hologram\n",
      "Reinforcement Learning\n",
      "LEAD THE WAY FOLLOW SEE ME BEHIND YOU\n"
     ]
    }
   ],
   "source": [
    "# print the first 10 tweets to check\n",
    "for ele in range(10):\n",
    "    print(df_tweets.loc[ele, \"tweet_cleaned\"])"
   ]
  },
  {
   "cell_type": "markdown",
   "metadata": {},
   "source": [
    "### get the sentiment result"
   ]
  },
  {
   "cell_type": "code",
   "execution_count": 23,
   "metadata": {},
   "outputs": [],
   "source": [
    "df_tweets[\"sentiment\"]= df_tweets.apply(lambda row: twAnalyze.analyze_sentiment(row[\"tweet_cleaned\"]), axis=1)"
   ]
  },
  {
   "cell_type": "code",
   "execution_count": 35,
   "metadata": {},
   "outputs": [
    {
     "name": "stdout",
     "output_type": "stream",
     "text": [
      "Total:  248 \n",
      "Postive:  66 \n",
      "Neutral:  156 \n",
      "Negative:  26\n"
     ]
    }
   ],
   "source": [
    "pos_count = df_tweets[df_tweets[\"sentiment\"]==1].shape[0]\n",
    "neutral_count = df_tweets[df_tweets[\"sentiment\"]==0].shape[0]\n",
    "neg_count = df_tweets[df_tweets[\"sentiment\"]==-1].shape[0]\n",
    "\n",
    "print(\"Total: \", df_tweets.shape[0], \"\\nPostive: \", pos_count, \"\\nNeutral: \", neutral_count, \"\\nNegative: \", neg_count)"
   ]
  }
 ],
 "metadata": {
  "kernelspec": {
   "display_name": "Python [conda env:ML_py37] *",
   "language": "python",
   "name": "conda-env-ML_py37-py"
  },
  "language_info": {
   "codemirror_mode": {
    "name": "ipython",
    "version": 3
   },
   "file_extension": ".py",
   "mimetype": "text/x-python",
   "name": "python",
   "nbconvert_exporter": "python",
   "pygments_lexer": "ipython3",
   "version": "3.7.5"
  }
 },
 "nbformat": 4,
 "nbformat_minor": 4
}
