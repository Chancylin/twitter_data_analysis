{
 "cells": [
  {
   "cell_type": "code",
   "execution_count": null,
   "metadata": {
    "application/vnd.databricks.v1+cell": {
     "inputWidgets": {},
     "nuid": "ae7f7763-4c8f-4e18-bfc4-b1fff4f73052",
     "showTitle": false,
     "title": ""
    }
   },
   "outputs": [],
   "source": [
    "import sys\n",
    "from pyspark import SparkContext\n",
    "from pyspark.sql import SparkSession\n",
    "from pyspark.streaming import StreamingContext\n",
    "from pyspark.streaming.kinesis import KinesisUtils, InitialPositionInStream\n",
    "from pyspark.sql.types import *\n",
    "\n",
    "spark = SparkSession.builder\\\n",
    "                    .master(\"local\")\\\n",
    "                    .appName(\"Structured Streaming - Twitter Sentiment\")\\\n",
    "                    .getOrCreate()"
   ]
  },
  {
   "cell_type": "code",
   "execution_count": null,
   "metadata": {
    "application/vnd.databricks.v1+cell": {
     "inputWidgets": {},
     "nuid": "ef66eea2-56af-42d4-8592-b0e595aa09cc",
     "showTitle": false,
     "title": ""
    }
   },
   "outputs": [],
   "source": [
    "\n",
    "kinesisStreamName = \"twitter-data-kinesis\" \n",
    "kinesisRegion = \"us-east-1\"\n",
    "\n",
    "awsAccessKeyId = \"\" # update the access key\n",
    "awsSecretKey = \"\" "
   ]
  },
  {
   "cell_type": "code",
   "execution_count": null,
   "metadata": {
    "application/vnd.databricks.v1+cell": {
     "inputWidgets": {},
     "nuid": "2690c106-0d79-4329-a98d-5176cbac55d7",
     "showTitle": false,
     "title": ""
    }
   },
   "outputs": [],
   "source": [
    "\n",
    "kinesisDF = spark \\\n",
    "  .readStream \\\n",
    "  .format(\"kinesis\") \\\n",
    "  .option(\"streamName\", kinesisStreamName)\\\n",
    "  .option(\"region\", kinesisRegion) \\\n",
    "  .option(\"initialPosition\", \"latest\") \\\n",
    "  .option(\"format\", \"json\") \\\n",
    "  .option(\"awsAccessKey\", awsAccessKeyId)\\\n",
    "  .option(\"awsSecretKey\", awsSecretKey) \\\n",
    "  .option(\"inferSchema\", \"true\") \\\n",
    "  .load()\n",
    "\n",
    "df = kinesisDF \\\n",
    "  .writeStream \\\n",
    "  .format(\"memory\") \\\n",
    "  .outputMode(\"append\") \\\n",
    "  .queryName(\"tweets\")  \\\n",
    "  .start()"
   ]
  },
  {
   "cell_type": "code",
   "execution_count": null,
   "metadata": {
    "application/vnd.databricks.v1+cell": {
     "inputWidgets": {},
     "nuid": "97d5572e-c939-4202-a6bf-70c6e7108fe8",
     "showTitle": false,
     "title": ""
    }
   },
   "outputs": [],
   "source": [
    "df.stop()"
   ]
  },
  {
   "cell_type": "code",
   "execution_count": null,
   "metadata": {
    "application/vnd.databricks.v1+cell": {
     "inputWidgets": {},
     "nuid": "a718bc5b-061d-405e-96d1-b82a43ddbe98",
     "showTitle": false,
     "title": ""
    }
   },
   "outputs": [],
   "source": [
    "%sql\n",
    "\n",
    "select partitionKey, cast(data as string) from tweets;"
   ]
  },
  {
   "cell_type": "code",
   "execution_count": null,
   "metadata": {
    "application/vnd.databricks.v1+cell": {
     "inputWidgets": {},
     "nuid": "3351f8e1-8ec3-4ef2-a82b-879c91492887",
     "showTitle": false,
     "title": ""
    }
   },
   "outputs": [],
   "source": [
    "tweets = spark.sql(\"select cast(data as string) from tweets\")"
   ]
  },
  {
   "cell_type": "code",
   "execution_count": null,
   "metadata": {
    "application/vnd.databricks.v1+cell": {
     "inputWidgets": {},
     "nuid": "6134b97c-2e28-4360-9532-13fc8b7bdb64",
     "showTitle": false,
     "title": ""
    }
   },
   "outputs": [],
   "source": [
    "tweets.printSchema()"
   ]
  },
  {
   "cell_type": "code",
   "execution_count": null,
   "metadata": {
    "application/vnd.databricks.v1+cell": {
     "inputWidgets": {},
     "nuid": "881573fa-3b43-4453-857a-4b4de5d316ce",
     "showTitle": false,
     "title": ""
    }
   },
   "outputs": [],
   "source": [
    "tweets.show(5, truncate=False)"
   ]
  },
  {
   "cell_type": "code",
   "execution_count": null,
   "metadata": {
    "application/vnd.databricks.v1+cell": {
     "inputWidgets": {},
     "nuid": "919eeecb-3393-4b0f-b79e-26342c39b0f3",
     "showTitle": false,
     "title": ""
    }
   },
   "outputs": [],
   "source": [
    "tweets.count()"
   ]
  },
  {
   "cell_type": "code",
   "execution_count": null,
   "metadata": {
    "application/vnd.databricks.v1+cell": {
     "inputWidgets": {},
     "nuid": "0d7a0637-5d5e-4398-92b6-d431cf10ea3f",
     "showTitle": false,
     "title": ""
    }
   },
   "outputs": [],
   "source": [
    "tweets_sample = tweets.limit(50)\n",
    "tweets_sample.cache()\n",
    "tweets_sample.show(5)"
   ]
  },
  {
   "cell_type": "code",
   "execution_count": null,
   "metadata": {
    "application/vnd.databricks.v1+cell": {
     "inputWidgets": {},
     "nuid": "b978444a-4091-4732-9abf-864e1aeb5880",
     "showTitle": false,
     "title": ""
    }
   },
   "outputs": [],
   "source": [
    "tweets_sample.show(5, truncate=False)"
   ]
  },
  {
   "cell_type": "code",
   "execution_count": null,
   "metadata": {
    "application/vnd.databricks.v1+cell": {
     "inputWidgets": {},
     "nuid": "972d05ee-d842-42d9-b9f2-4b7ab4a1bba0",
     "showTitle": false,
     "title": ""
    }
   },
   "outputs": [],
   "source": []
  },
  {
   "cell_type": "code",
   "execution_count": null,
   "metadata": {
    "application/vnd.databricks.v1+cell": {
     "inputWidgets": {},
     "nuid": "8c304b77-6f1c-4c07-920a-842afd0b2b13",
     "showTitle": false,
     "title": ""
    }
   },
   "outputs": [],
   "source": [
    "%fs ls /mnt/"
   ]
  },
  {
   "cell_type": "code",
   "execution_count": null,
   "metadata": {
    "application/vnd.databricks.v1+cell": {
     "inputWidgets": {},
     "nuid": "a264d766-749d-4d2e-9425-35b9584692e9",
     "showTitle": false,
     "title": ""
    }
   },
   "outputs": [],
   "source": [
    "%fs ls /mnt/my_twitter_data_project/"
   ]
  },
  {
   "cell_type": "code",
   "execution_count": null,
   "metadata": {
    "application/vnd.databricks.v1+cell": {
     "inputWidgets": {},
     "nuid": "78345202-a851-4abd-b553-3e974ffb4d47",
     "showTitle": false,
     "title": ""
    }
   },
   "outputs": [],
   "source": [
    "sc = spark.sparkContext\n",
    "sc.addPyFile(\"dbfs:/mnt/my_twitter_data_project/sparkLDA.zip\")"
   ]
  },
  {
   "cell_type": "code",
   "execution_count": null,
   "metadata": {
    "application/vnd.databricks.v1+cell": {
     "inputWidgets": {},
     "nuid": "d9238d5a-77aa-4016-9c87-ca5351242d19",
     "showTitle": false,
     "title": ""
    }
   },
   "outputs": [],
   "source": [
    "from sparkLDA.config import n_topics, extra_for_stemmed, seedNum, file_schema\n",
    "from sparkLDA.utils import show_topics, evaluate\n",
    "from sparkLDA.processing import preprocess_text"
   ]
  },
  {
   "cell_type": "code",
   "execution_count": null,
   "metadata": {
    "application/vnd.databricks.v1+cell": {
     "inputWidgets": {},
     "nuid": "c88c8f14-2c7a-43c3-84b8-ba5bbab8ccc2",
     "showTitle": false,
     "title": ""
    }
   },
   "outputs": [],
   "source": [
    "tweets_sample.schema"
   ]
  },
  {
   "cell_type": "code",
   "execution_count": null,
   "metadata": {
    "application/vnd.databricks.v1+cell": {
     "inputWidgets": {},
     "nuid": "4d27f7f6-7a06-44a7-81a5-58810c719aab",
     "showTitle": false,
     "title": ""
    }
   },
   "outputs": [],
   "source": [
    "tweets_sample.printSchema()"
   ]
  },
  {
   "cell_type": "code",
   "execution_count": null,
   "metadata": {
    "application/vnd.databricks.v1+cell": {
     "inputWidgets": {},
     "nuid": "5596eb24-92eb-4ccd-8b87-7e6c2e7e3be8",
     "showTitle": false,
     "title": ""
    }
   },
   "outputs": [],
   "source": [
    "file_schema_str = StructType([StructField(\"tweet_text\", StringType(), True), \n",
    "                          # StructField(\"hash_tag\", ArrayType(StringType(), True), True), \n",
    "                          StructField(\"hash_tag\", StringType(), True), \n",
    "                          StructField(\"created_at\", StringType(), True), \n",
    "                          StructField(\"retweet_count\", StringType(), True), \n",
    "                          StructField(\"favorite_count\", StringType(), True), \n",
    "                          StructField(\"retweeted\", StringType(), True), \n",
    "                          StructField(\"truncated\", StringType(), True), \n",
    "                          StructField(\"id\", StringType(), True), \n",
    "                          StructField(\"user_name\", StringType(), True), \n",
    "                          StructField(\"screen_name\", StringType(), True), \n",
    "                          StructField(\"followers_count\", StringType(), True), \n",
    "                          StructField(\"location\", StringType(), True), \n",
    "                          StructField(\"geo\", StringType(), True),\n",
    "                          StructField(\"invalid\", StringType(), True)])"
   ]
  },
  {
   "cell_type": "code",
   "execution_count": null,
   "metadata": {
    "application/vnd.databricks.v1+cell": {
     "inputWidgets": {},
     "nuid": "ff95689c-8382-44e6-b929-7b14793a6b68",
     "showTitle": false,
     "title": ""
    }
   },
   "outputs": [],
   "source": [
    "def parse_tweets(raw_records):\n",
    "  for pdf in raw_records:\n",
    "    # yield pdf.data.apply(lambda record: record.split(\"\\t\"))\n",
    "    yield pdf.data.str.split(pat=\"\\t\", expand=True)\n",
    "  \n",
    "tweets_sample.mapInPandas(parse_tweets, schema = file_schema_str).show()"
   ]
  },
  {
   "cell_type": "markdown",
   "metadata": {
    "application/vnd.databricks.v1+cell": {
     "inputWidgets": {},
     "nuid": "6a7dafba-b641-4073-ae17-5f54c707b02a",
     "showTitle": false,
     "title": ""
    }
   },
   "source": [
    "process the data in memory"
   ]
  },
  {
   "cell_type": "code",
   "execution_count": null,
   "metadata": {
    "application/vnd.databricks.v1+cell": {
     "inputWidgets": {},
     "nuid": "a00ded19-7d1e-402c-a1c4-e47e8fb48b2c",
     "showTitle": false,
     "title": ""
    }
   },
   "outputs": [],
   "source": [
    "df = tweets.mapInPandas(parse_tweets, schema = file_schema_str)\n",
    "df = preprocess_text(df)"
   ]
  },
  {
   "cell_type": "code",
   "execution_count": null,
   "metadata": {
    "application/vnd.databricks.v1+cell": {
     "inputWidgets": {},
     "nuid": "e82a9200-108b-4abc-a069-719d2833b154",
     "showTitle": false,
     "title": ""
    }
   },
   "outputs": [],
   "source": [
    "pipelinePath = \"dbfs:/mnt/my_twitter_data_project/ML_models/LDA-pipeline-model_Oct_data\"\n",
    "from pyspark.ml import PipelineModel"
   ]
  },
  {
   "cell_type": "code",
   "execution_count": null,
   "metadata": {
    "application/vnd.databricks.v1+cell": {
     "inputWidgets": {},
     "nuid": "7771059d-50b1-4ed4-ba73-242f1ec6834b",
     "showTitle": false,
     "title": ""
    }
   },
   "outputs": [],
   "source": [
    "savedPipelineModel = PipelineModel.load(pipelinePath)\n",
    "\n",
    "df_with_topics = savedPipelineModel.transform(df)"
   ]
  },
  {
   "cell_type": "code",
   "execution_count": null,
   "metadata": {
    "application/vnd.databricks.v1+cell": {
     "inputWidgets": {},
     "nuid": "c8fb9c7e-2c30-45c6-9d34-680e4696d949",
     "showTitle": false,
     "title": ""
    }
   },
   "outputs": [],
   "source": [
    "import pyspark.sql.functions as F\n",
    "\n",
    "from textblob import TextBlob\n",
    "\n",
    "def get_sentiment_vectorized(texts):\n",
    "    testimonials = texts.apply(lambda text: TextBlob(text).sentiment.polarity)\n",
    "    return testimonials\n",
    "  \n",
    "getSentiment = F.pandas_udf(get_sentiment_vectorized, FloatType())"
   ]
  },
  {
   "cell_type": "code",
   "execution_count": null,
   "metadata": {
    "application/vnd.databricks.v1+cell": {
     "inputWidgets": {},
     "nuid": "2cf9b27f-4eba-4783-98de-a8a5ed71f14e",
     "showTitle": false,
     "title": ""
    }
   },
   "outputs": [],
   "source": [
    "to_array = F.udf(lambda v: v.toArray().tolist(), ArrayType(FloatType()))\n",
    "\n",
    "df_with_topics = df_with_topics.withColumn(\"topicDistributionArray\", \n",
    "                                         to_array(\"topicDistribution\"))"
   ]
  },
  {
   "cell_type": "code",
   "execution_count": null,
   "metadata": {
    "application/vnd.databricks.v1+cell": {
     "inputWidgets": {},
     "nuid": "ec66c5db-9ae3-4b58-86a6-84be850082f6",
     "showTitle": false,
     "title": ""
    }
   },
   "outputs": [],
   "source": [
    "cols_select = ['tweet_text', 'hash_tag', 'created_at', 'retweet_count', 'favorite_count']\n",
    "print(cols_select)"
   ]
  },
  {
   "cell_type": "code",
   "execution_count": null,
   "metadata": {
    "application/vnd.databricks.v1+cell": {
     "inputWidgets": {},
     "nuid": "3369fdb5-e4b5-49e8-8767-dba3d1a4ea9e",
     "showTitle": false,
     "title": ""
    }
   },
   "outputs": [],
   "source": [
    "df_with_topics = df_with_topics.select(*cols_select, *[(F.col(\"topicDistributionArray\")[i])\n",
    "                                 .alias(\"topic_\"+str(i)) for i in range(n_topics)])"
   ]
  },
  {
   "cell_type": "code",
   "execution_count": null,
   "metadata": {
    "application/vnd.databricks.v1+cell": {
     "inputWidgets": {},
     "nuid": "a98b53b5-b45c-4f4c-a1ea-f4c66f914e51",
     "showTitle": false,
     "title": ""
    }
   },
   "outputs": [],
   "source": [
    "df_with_topics.show(5)"
   ]
  },
  {
   "cell_type": "code",
   "execution_count": null,
   "metadata": {
    "application/vnd.databricks.v1+cell": {
     "inputWidgets": {},
     "nuid": "4fd8c065-d583-4173-b6bc-debb83874c71",
     "showTitle": false,
     "title": ""
    }
   },
   "outputs": [],
   "source": [
    "df_with_topics_sentiment = df_with_topics.withColumn(\"sentiment\", getSentiment(F.col(\"tweet_text\")))\\\n",
    "                            .withColumn(\"sentiment\", F.format_number(\"sentiment\", 3))"
   ]
  },
  {
   "cell_type": "code",
   "execution_count": null,
   "metadata": {
    "application/vnd.databricks.v1+cell": {
     "inputWidgets": {},
     "nuid": "2fb8cd8a-0976-460c-9f7c-f254fdf46484",
     "showTitle": false,
     "title": ""
    }
   },
   "outputs": [],
   "source": [
    "[]"
   ]
  },
  {
   "cell_type": "code",
   "execution_count": null,
   "metadata": {
    "application/vnd.databricks.v1+cell": {
     "inputWidgets": {},
     "nuid": "70dd2d2e-7ff5-424d-bf6a-fc17adc13e0e",
     "showTitle": false,
     "title": ""
    }
   },
   "outputs": [],
   "source": [
    "df_with_topics_sentiment.select(\"tweet_text\", \"sentiment\", *[\"topic_\"+str(i) for i in range(n_topics)]).show(20, truncate=False)"
   ]
  },
  {
   "cell_type": "code",
   "execution_count": null,
   "metadata": {
    "application/vnd.databricks.v1+cell": {
     "inputWidgets": {},
     "nuid": "5a73b106-143f-4ac0-993d-b8fe78b22077",
     "showTitle": false,
     "title": ""
    }
   },
   "outputs": [],
   "source": []
  }
 ],
 "metadata": {
  "application/vnd.databricks.v1+notebook": {
   "dashboards": [],
   "language": "python",
   "notebookName": "spark_streaming_test",
   "notebookOrigID": 3229554690368122,
   "widgets": {}
  },
  "kernelspec": {
   "display_name": "Python 3",
   "language": "python",
   "name": "python3"
  },
  "language_info": {
   "codemirror_mode": {
    "name": "ipython",
    "version": 3
   },
   "file_extension": ".py",
   "mimetype": "text/x-python",
   "name": "python",
   "nbconvert_exporter": "python",
   "pygments_lexer": "ipython3",
   "version": "3.7.5"
  }
 },
 "nbformat": 4,
 "nbformat_minor": 4
}
