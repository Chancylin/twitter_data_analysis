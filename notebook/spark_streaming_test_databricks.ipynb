{
 "cells": [
  {
   "cell_type": "code",
   "execution_count": null,
   "metadata": {
    "application/vnd.databricks.v1+cell": {
     "inputWidgets": {},
     "nuid": "ae7f7763-4c8f-4e18-bfc4-b1fff4f73052",
     "showTitle": false,
     "title": ""
    }
   },
   "outputs": [
    {
     "data": {
      "text/html": [
       "<style scoped>\n",
       "  .ansiout {\n",
       "    display: block;\n",
       "    unicode-bidi: embed;\n",
       "    white-space: pre-wrap;\n",
       "    word-wrap: break-word;\n",
       "    word-break: break-all;\n",
       "    font-family: \"Source Code Pro\", \"Menlo\", monospace;;\n",
       "    font-size: 13px;\n",
       "    color: #555;\n",
       "    margin-left: 4px;\n",
       "    line-height: 19px;\n",
       "  }\n",
       "</style>\n",
       "<div class=\"ansiout\"></div>"
      ]
     },
     "metadata": {
      "application/vnd.databricks.v1+output": {
       "addedWidgets": {},
       "arguments": {},
       "data": "<div class=\"ansiout\"></div>",
       "datasetInfos": [],
       "removedWidgets": [],
       "type": "html"
      }
     },
     "output_type": "display_data"
    }
   ],
   "source": [
    "import sys\n",
    "from pyspark import SparkContext\n",
    "from pyspark.sql import SparkSession\n",
    "from pyspark.streaming import StreamingContext\n",
    "from pyspark.streaming.kinesis import KinesisUtils, InitialPositionInStream\n",
    "from pyspark.sql.types import *\n",
    "\n",
    "spark = SparkSession.builder\\\n",
    "                    .master(\"local\")\\\n",
    "                    .appName(\"Structured Streaming - Twitter Sentiment\")\\\n",
    "                    .getOrCreate()"
   ]
  },
  {
   "cell_type": "code",
   "execution_count": null,
   "metadata": {
    "application/vnd.databricks.v1+cell": {
     "inputWidgets": {},
     "nuid": "ef66eea2-56af-42d4-8592-b0e595aa09cc",
     "showTitle": false,
     "title": ""
    }
   },
   "outputs": [
    {
     "data": {
      "text/html": [
       "<style scoped>\n",
       "  .ansiout {\n",
       "    display: block;\n",
       "    unicode-bidi: embed;\n",
       "    white-space: pre-wrap;\n",
       "    word-wrap: break-word;\n",
       "    word-break: break-all;\n",
       "    font-family: \"Source Code Pro\", \"Menlo\", monospace;;\n",
       "    font-size: 13px;\n",
       "    color: #555;\n",
       "    margin-left: 4px;\n",
       "    line-height: 19px;\n",
       "  }\n",
       "</style>\n",
       "<div class=\"ansiout\"></div>"
      ]
     },
     "metadata": {
      "application/vnd.databricks.v1+output": {
       "addedWidgets": {},
       "arguments": {},
       "data": "<div class=\"ansiout\"></div>",
       "datasetInfos": [],
       "removedWidgets": [],
       "type": "html"
      }
     },
     "output_type": "display_data"
    }
   ],
   "source": [
    "\n",
    "kinesisStreamName = \"twitter-data-kinesis\" \n",
    "kinesisRegion = \"us-east-1\"\n",
    "\n",
    "awsAccessKeyId = \"\" # update the access key\n",
    "awsSecretKey = \"\" "
   ]
  },
  {
   "cell_type": "code",
   "execution_count": null,
   "metadata": {
    "application/vnd.databricks.v1+cell": {
     "inputWidgets": {},
     "nuid": "2690c106-0d79-4329-a98d-5176cbac55d7",
     "showTitle": false,
     "title": ""
    }
   },
   "outputs": [
    {
     "data": {
      "text/html": [
       "<style scoped>\n",
       "  .ansiout {\n",
       "    display: block;\n",
       "    unicode-bidi: embed;\n",
       "    white-space: pre-wrap;\n",
       "    word-wrap: break-word;\n",
       "    word-break: break-all;\n",
       "    font-family: \"Source Code Pro\", \"Menlo\", monospace;;\n",
       "    font-size: 13px;\n",
       "    color: #555;\n",
       "    margin-left: 4px;\n",
       "    line-height: 19px;\n",
       "  }\n",
       "</style>\n",
       "<div class=\"ansiout\"></div>"
      ]
     },
     "metadata": {
      "application/vnd.databricks.v1+output": {
       "addedWidgets": {},
       "arguments": {},
       "data": "<div class=\"ansiout\"></div>",
       "datasetInfos": [
        {
         "name": "kinesisDF",
         "schema": {
          "fields": [
           {
            "metadata": {},
            "name": "partitionKey",
            "nullable": true,
            "type": "string"
           },
           {
            "metadata": {},
            "name": "data",
            "nullable": true,
            "type": "binary"
           },
           {
            "metadata": {},
            "name": "stream",
            "nullable": true,
            "type": "string"
           },
           {
            "metadata": {},
            "name": "shardId",
            "nullable": true,
            "type": "string"
           },
           {
            "metadata": {},
            "name": "sequenceNumber",
            "nullable": true,
            "type": "string"
           },
           {
            "metadata": {},
            "name": "approximateArrivalTimestamp",
            "nullable": true,
            "type": "timestamp"
           }
          ],
          "type": "struct"
         },
         "tableIdentifier": null,
         "typeStr": "pyspark.sql.dataframe.DataFrame"
        }
       ],
       "removedWidgets": [],
       "type": "html"
      }
     },
     "output_type": "display_data"
    }
   ],
   "source": [
    "\n",
    "kinesisDF = spark \\\n",
    "  .readStream \\\n",
    "  .format(\"kinesis\") \\\n",
    "  .option(\"streamName\", kinesisStreamName)\\\n",
    "  .option(\"region\", kinesisRegion) \\\n",
    "  .option(\"initialPosition\", \"latest\") \\\n",
    "  .option(\"format\", \"json\") \\\n",
    "  .option(\"awsAccessKey\", awsAccessKeyId)\\\n",
    "  .option(\"awsSecretKey\", awsSecretKey) \\\n",
    "  .option(\"inferSchema\", \"true\") \\\n",
    "  .load()\n",
    "\n",
    "df = kinesisDF \\\n",
    "  .writeStream \\\n",
    "  .format(\"memory\") \\\n",
    "  .outputMode(\"append\") \\\n",
    "  .queryName(\"tweets\")  \\\n",
    "  .start()"
   ]
  },
  {
   "cell_type": "code",
   "execution_count": null,
   "metadata": {
    "application/vnd.databricks.v1+cell": {
     "inputWidgets": {},
     "nuid": "97d5572e-c939-4202-a6bf-70c6e7108fe8",
     "showTitle": false,
     "title": ""
    }
   },
   "outputs": [
    {
     "data": {
      "text/html": [
       "<style scoped>\n",
       "  .ansiout {\n",
       "    display: block;\n",
       "    unicode-bidi: embed;\n",
       "    white-space: pre-wrap;\n",
       "    word-wrap: break-word;\n",
       "    word-break: break-all;\n",
       "    font-family: \"Source Code Pro\", \"Menlo\", monospace;;\n",
       "    font-size: 13px;\n",
       "    color: #555;\n",
       "    margin-left: 4px;\n",
       "    line-height: 19px;\n",
       "  }\n",
       "</style>\n",
       "<div class=\"ansiout\"></div>"
      ]
     },
     "metadata": {
      "application/vnd.databricks.v1+output": {
       "addedWidgets": {},
       "arguments": {},
       "data": "<div class=\"ansiout\"></div>",
       "datasetInfos": [],
       "removedWidgets": [],
       "type": "html"
      }
     },
     "output_type": "display_data"
    },
    {
     "data": {
      "text/html": [
       "<style scoped>\n",
       "  .ansiout {\n",
       "    display: block;\n",
       "    unicode-bidi: embed;\n",
       "    white-space: pre-wrap;\n",
       "    word-wrap: break-word;\n",
       "    word-break: break-all;\n",
       "    font-family: \"Source Code Pro\", \"Menlo\", monospace;;\n",
       "    font-size: 13px;\n",
       "    color: #555;\n",
       "    margin-left: 4px;\n",
       "    line-height: 19px;\n",
       "  }\n",
       "</style>\n",
       "<div class=\"ansiout\"><span class=\"ansi-red-fg\">---------------------------------------------------------------------------</span>\n",
       "<span class=\"ansi-red-fg\">AttributeError</span>                            Traceback (most recent call last)\n",
       "<span class=\"ansi-green-fg\">&lt;command-3229554690368155&gt;</span> in <span class=\"ansi-cyan-fg\">&lt;module&gt;</span>\n",
       "<span class=\"ansi-green-fg\">----&gt; 1</span><span class=\"ansi-red-fg\"> </span>df<span class=\"ansi-blue-fg\">.</span>stop<span class=\"ansi-blue-fg\">(</span><span class=\"ansi-blue-fg\">)</span>\n",
       "\n",
       "<span class=\"ansi-green-fg\">/databricks/spark/python/pyspark/sql/dataframe.py</span> in <span class=\"ansi-cyan-fg\">__getattr__</span><span class=\"ansi-blue-fg\">(self, name)</span>\n",
       "<span class=\"ansi-green-intense-fg ansi-bold\">   1417</span>         <span class=\"ansi-green-fg\">if</span> name <span class=\"ansi-green-fg\">not</span> <span class=\"ansi-green-fg\">in</span> self<span class=\"ansi-blue-fg\">.</span>columns<span class=\"ansi-blue-fg\">:</span>\n",
       "<span class=\"ansi-green-intense-fg ansi-bold\">   1418</span>             raise AttributeError(\n",
       "<span class=\"ansi-green-fg\">-&gt; 1419</span><span class=\"ansi-red-fg\">                 &#34;&#39;%s&#39; object has no attribute &#39;%s&#39;&#34; % (self.__class__.__name__, name))\n",
       "</span><span class=\"ansi-green-intense-fg ansi-bold\">   1420</span>         jc <span class=\"ansi-blue-fg\">=</span> self<span class=\"ansi-blue-fg\">.</span>_jdf<span class=\"ansi-blue-fg\">.</span>apply<span class=\"ansi-blue-fg\">(</span>name<span class=\"ansi-blue-fg\">)</span>\n",
       "<span class=\"ansi-green-intense-fg ansi-bold\">   1421</span>         <span class=\"ansi-green-fg\">return</span> Column<span class=\"ansi-blue-fg\">(</span>jc<span class=\"ansi-blue-fg\">)</span>\n",
       "\n",
       "<span class=\"ansi-red-fg\">AttributeError</span>: &#39;DataFrame&#39; object has no attribute &#39;stop&#39;</div>"
      ]
     },
     "metadata": {
      "application/vnd.databricks.v1+output": {
       "arguments": {},
       "data": "<div class=\"ansiout\"><span class=\"ansi-red-fg\">---------------------------------------------------------------------------</span>\n<span class=\"ansi-red-fg\">AttributeError</span>                            Traceback (most recent call last)\n<span class=\"ansi-green-fg\">&lt;command-3229554690368155&gt;</span> in <span class=\"ansi-cyan-fg\">&lt;module&gt;</span>\n<span class=\"ansi-green-fg\">----&gt; 1</span><span class=\"ansi-red-fg\"> </span>df<span class=\"ansi-blue-fg\">.</span>stop<span class=\"ansi-blue-fg\">(</span><span class=\"ansi-blue-fg\">)</span>\n\n<span class=\"ansi-green-fg\">/databricks/spark/python/pyspark/sql/dataframe.py</span> in <span class=\"ansi-cyan-fg\">__getattr__</span><span class=\"ansi-blue-fg\">(self, name)</span>\n<span class=\"ansi-green-intense-fg ansi-bold\">   1417</span>         <span class=\"ansi-green-fg\">if</span> name <span class=\"ansi-green-fg\">not</span> <span class=\"ansi-green-fg\">in</span> self<span class=\"ansi-blue-fg\">.</span>columns<span class=\"ansi-blue-fg\">:</span>\n<span class=\"ansi-green-intense-fg ansi-bold\">   1418</span>             raise AttributeError(\n<span class=\"ansi-green-fg\">-&gt; 1419</span><span class=\"ansi-red-fg\">                 &#34;&#39;%s&#39; object has no attribute &#39;%s&#39;&#34; % (self.__class__.__name__, name))\n</span><span class=\"ansi-green-intense-fg ansi-bold\">   1420</span>         jc <span class=\"ansi-blue-fg\">=</span> self<span class=\"ansi-blue-fg\">.</span>_jdf<span class=\"ansi-blue-fg\">.</span>apply<span class=\"ansi-blue-fg\">(</span>name<span class=\"ansi-blue-fg\">)</span>\n<span class=\"ansi-green-intense-fg ansi-bold\">   1421</span>         <span class=\"ansi-green-fg\">return</span> Column<span class=\"ansi-blue-fg\">(</span>jc<span class=\"ansi-blue-fg\">)</span>\n\n<span class=\"ansi-red-fg\">AttributeError</span>: &#39;DataFrame&#39; object has no attribute &#39;stop&#39;</div>",
       "errorSummary": "<span class=\"ansi-red-fg\">AttributeError</span>: &#39;DataFrame&#39; object has no attribute &#39;stop&#39;",
       "type": "ipynbError"
      }
     },
     "output_type": "display_data"
    }
   ],
   "source": [
    "df.stop()"
   ]
  },
  {
   "cell_type": "code",
   "execution_count": null,
   "metadata": {
    "application/vnd.databricks.v1+cell": {
     "inputWidgets": {},
     "nuid": "a718bc5b-061d-405e-96d1-b82a43ddbe98",
     "showTitle": false,
     "title": ""
    }
   },
   "outputs": [
    {
     "data": {
      "text/html": [
       "<style scoped>\n",
       "  .table-result-container {\n",
       "    max-height: 300px;\n",
       "    overflow: auto;\n",
       "  }\n",
       "  table, th, td {\n",
       "    border: 1px solid black;\n",
       "    border-collapse: collapse;\n",
       "  }\n",
       "  th, td {\n",
       "    padding: 5px;\n",
       "  }\n",
       "  th {\n",
       "    text-align: left;\n",
       "  }\n",
       "</style><div class='table-result-container'><table class='table-result'><thead style='background-color: white'><tr><th>partitionKey</th><th>data</th></tr></thead><tbody><tr><td>welcomehier</td><td>The pope has joined forces with #Microsoft and #IBM to create a doctrine for ethical #AI and facial recognition. Here's how the Vatican wants to shape it👇 https://t.co/TW653XayEE\tMicrosoft, IBM, AI\tFri Nov 27 20:28:00 +0000 2020\t0\t0\tTrue\tFalse\t1332420933169143809\tAbdulrahmanAlSultan 🇸🇦\twelcomehier\t2482\tSA\tNone\t\n",
       "</td></tr><tr><td>AlexeyChang</td><td>Machine Learning with Core ML 2 and Swift 5  @udemy   ➡️https://t.co/xHqTShMund  #MachineLearning #Swift5 #AugmentedReality #DeepLearning #Analytics #DataScience #AI #IoT #IIoT #Python #RStats #CloudComputing #Serverless #Linux #Coding #100DaysofCode #100DaysOfMLCode #udemycoupon https://t.co/qD5q6TLm4a\tMachineLearning, Swift5, AugmentedReality, DeepLearning, Analytics, DataScience, AI, IoT, IIoT, Python, RStats, CloudComputing, Serverless, Linux, Coding, 100DaysofCode, 100DaysOfMLCode, udemycoupon\tFri Nov 27 20:28:04 +0000 2020\t0\t0\tTrue\tFalse\t1332420949266886659\tAlexey Chang\tAlexeyChang\t146\tRussia\tNone\t\n",
       "</td></tr><tr><td>UW_CSTV</td><td>New research: #AI systems lack common sense needed to generate plausible sentences https://t.co/ZDa0IHfkvc via @TechXplore_com\tAI\tFri Nov 27 20:28:07 +0000 2020\t0\t0\tFalse\tFalse\t1332420963556843524\tCSTV\tUW_CSTV\t190\tUniversity of Waterloo\tNone\t\n",
       "</td></tr><tr><td>fintechna</td><td>The latest Breaking Banks Asia! https://t.co/EuUiryRZI1 Thanks to @LeeSlaterSCB @MaximilieMoreau @AlgorithmXLab #fintech #ai\tfintech, ai\tFri Nov 27 20:28:09 +0000 2020\t0\t0\tTrue\tFalse\t1332420969680531456\tFINTECHNA\tfintechna\t27980\tLON | NYC | HKG  | SYD | SIN\tNone\t\n",
       "</td></tr><tr><td>ML_Tweet_Bot</td><td>Machine Learning with Core ML 2 and Swift 5  @udemy   ➡️https://t.co/xHqTShMund  #MachineLearning #Swift5 #AugmentedReality #DeepLearning #Analytics #DataScience #AI #IoT #IIoT #Python #RStats #CloudComputing #Serverless #Linux #Coding #100DaysofCode #100DaysOfMLCode #udemycoupon https://t.co/qD5q6TLm4a\tMachineLearning, Swift5, AugmentedReality, DeepLearning, Analytics, DataScience, AI, IoT, IIoT, Python, RStats, CloudComputing, Serverless, Linux, Coding, 100DaysofCode, 100DaysOfMLCode, udemycoupon\tFri Nov 27 20:28:09 +0000 2020\t0\t0\tTrue\tFalse\t1332420971844788229\tMachine Learning Bot\tML_Tweet_Bot\t4149\tNone\tNone\t\n",
       "</td></tr><tr><td>MarkTwa01197091</td><td>Drone taxis are a reality in China!  #AI #MachineLearning #Robotics #drone @XHNews  @SpirosMargaris @DeepLearn007 @HaroldSinnott @gvalan @Paula_Piccard @ipfconline1 @ShiCooks @diioannid @mvollmer1 @Ym78200 @kalydeoo @Nicochan33 @3itcom @Fabriziobustama  https://t.co/Sva8fpJgl1\tAI, MachineLearning, Robotics, drone\tFri Nov 27 20:28:09 +0000 2020\t0\t0\tTrue\tFalse\t1332420972692074496\tMark Twain\tMarkTwa01197091\t10583\tNone\tNone\t\n",
       "</td></tr><tr><td>mvollmer1</td><td>6 ways #5G mobile #Broadband will impact the world @wef  #AI #MachineLearning #IoT #CES2021 #Automation #4IR #DigitalTransformation #AR #FutureofWork cc @SpirosMargaris  @jblefevre60 @Nicochan33 @AudreyDesisto @mvollmer1 @Paula_Piccard        https://t.co/lwpBNyGICs\t5G, Broadband, AI, MachineLearning, IoT, CES2021, Automation, 4IR, DigitalTransformation, AR, FutureofWork\tFri Nov 27 20:28:13 +0000 2020\t0\t0\tTrue\tFalse\t1332420989892894720\tDr. Marcell Vollmer #StayHome #StaySafe\tmvollmer1\t65306\tFrankfurt, Germany\tNone\t\n",
       "</td></tr><tr><td>askN0B0DY</td><td>#Trending: UN experts sound alarm over AI-enhanced racial profiling - The Jakarta Post - Jakarta Post  #ai #ml #neuralnetworks #deeplearning #machinelearning  Read More Here: https://t.co/Cj9HVuiD9Q\tTrending, ai, ml, neuralnetworks, deeplearning, machinelearning\tFri Nov 27 20:28:16 +0000 2020\t0\t0\tTrue\tFalse\t1332420999552315394\tNobody\taskN0B0DY\t954\tSome Server\tNone\t\n",
       "</td></tr><tr><td>dcasacuberta</td><td>Looks promising...\t\tFri Nov 27 20:28:18 +0000 2020\t0\t0\tFalse\tFalse\t1332421009820045314\tDavid Casacuberta\tdcasacuberta\t2095\tBarcelona, Spain\tNone\t\n",
       "</td></tr><tr><td>SvonFriedeburg</td><td>#GoodNewsFriday: Using artificial intelligence, @NASA scientists mapped 1.8 billion trees to better understand climate change! Fascinating and indicative of the positive impact #AI can have. https://t.co/ua6iVmMZYH\tGoodNewsFriday, AI\tFri Nov 27 20:28:24 +0000 2020\t0\t0\tFalse\tTrue\t1332421034054725632\tStephanie von Friedeburg\tSvonFriedeburg\t3124\tWashington, DC\tNone\t\n",
       "</td></tr><tr><td>nourtra00456201</td><td>German Startup’s “AI Expert Roadmap” Gets 3.5k GitHub Stars #MachineLearning #learning #startup via https://t.co/fnUT00e3R8 https://t.co/qjlCCXvKHF\tMachineLearning, learning, startup\tFri Nov 27 20:28:28 +0000 2020\t0\t0\tTrue\tFalse\t1332421049863069704\tNourTrabelsi\tnourtra00456201\t1184\tWo noch niemand war\tNone\t\n",
       "</td></tr><tr><td>HumanAlexas</td><td>@amazon 5-year-old #Alexa in the UK.   #RespectNames #RebrandAlexa  #NameBombardment @alexa99  @AmazonLab126 #AmazonWishList  https://t.co/P9zZ6hf5TU https://t.co/hUirZ2K422\tAlexa, RespectNames, RebrandAlexa, NameBombardment, AmazonWishList\tFri Nov 27 20:28:28 +0000 2020\t0\t0\tFalse\tTrue\t1332421049766584322\tHuman Alexas\tHumanAlexas\t839\tUnited States\tNone\t\n",
       "</td></tr><tr><td>maddykutechno</td><td>The latest The Artificial Intelligence Daily! https://t.co/VpruiKS4zP Thanks to @AWI_US @storagegaga #deeplearning #machinelearning\tdeeplearning, machinelearning\tFri Nov 27 20:28:37 +0000 2020\t0\t0\tTrue\tFalse\t1332421090459721731\tMadhav Kunal\tmaddykutechno\t214\tEdison, NJ\tNone\t\n",
       "</td></tr><tr><td>mvollmer1</td><td>This cable driven parallel #Robot could be used for different purposes such as product assembling, rehabilitation and filmmaking. By @gigadgets_ #AI #IoT #4IR #Robotics  #ArtificialIntelligence Cc: @PawlowskiMario @jblefevre60 @labordeolivier @mvollmer1  @kuriharan @Nicochan33 https://t.co/DV2EgKlXWR\tRobot, AI, IoT, 4IR, Robotics, ArtificialIntelligence\tFri Nov 27 20:28:39 +0000 2020\t0\t0\tTrue\tFalse\t1332421095526461446\tDr. Marcell Vollmer #StayHome #StaySafe\tmvollmer1\t65306\tFrankfurt, Germany\tNone\t\n",
       "</td></tr><tr><td>iamChuckRussell</td><td>#TechStuff: Opinion: How AI can push for equitable access to COVID-19 vaccines - Devex  #ai #ml #neuralnetworks #deeplearning #machinelearning  Read More Here: https://t.co/cPJb1zkeiQ\tTechStuff, ai, ml, neuralnetworks, deeplearning, machinelearning\tFri Nov 27 20:28:55 +0000 2020\t0\t0\tFalse\tTrue\t1332421163532816387\tChuck Russell\tiamChuckRussell\t21454\tCamp Hill, PA\tNone\t\n",
       "</td></tr><tr><td>Nblackthorne</td><td>'5⭐️...elements of thrilling mystery, suspense, dystopian fantasy and science fiction.'  The Lenders Saga from @Travis_Borne.  #scifi #sciencefiction #AI #ArtificialIntelligence #Aliens #timetravel #apocalypse #IARTG #ASMSG  #Kindle #books #ebooks  https://t.co/ADmMk5zoE4 https://t.co/ZqOcOR67Il\tscifi, sciencefiction, AI, ArtificialIntelligence, Aliens, timetravel, apocalypse, IARTG, ASMSG, Kindle, books, ebooks\tFri Nov 27 20:28:56 +0000 2020\t0\t0\tTrue\tFalse\t1332421168880525312\tNatasha Blackthorne\tNblackthorne\t41642\tNone\tNone\t\n",
       "</td></tr><tr><td>NachoHPrado</td><td>Organisations that are not applying #AI #hyperautomation risk of becoming irrelevant in the market. Take action today to transform your business. https://t.co/Hrm3GFvIZ1 https://t.co/Nd2LmISAcx\tAI, hyperautomation\tFri Nov 27 20:28:57 +0000 2020\t0\t0\tTrue\tFalse\t1332421171908898817\tNacho H Prado\tNachoHPrado\t3304\tMadrid, Comunidad de Madrid\tNone\t\n",
       "</td></tr><tr><td>andrewmorrisuk</td><td>#TechStuff: Opinion: How AI can push for equitable access to COVID-19 vaccines - Devex  #ai #ml #neuralnetworks #deeplearning #machinelearning  Read More Here: https://t.co/cPJb1zkeiQ\tTechStuff, ai, ml, neuralnetworks, deeplearning, machinelearning\tFri Nov 27 20:28:57 +0000 2020\t0\t0\tTrue\tFalse\t1332421174526177280\tAndrew Morris\tandrewmorrisuk\t12134\tBedford\tNone\t\n",
       "</td></tr><tr><td>SeetaLabs</td><td>A beginner's guide to creating artwork for 2D video games #MachineLearning #learning #ui  https://t.co/BrGGDzbeLZ\tMachineLearning, learning, ui\tFri Nov 27 20:29:01 +0000 2020\t0\t0\tTrue\tFalse\t1332421188560281600\tSeetaLabs\tSeetaLabs\t1013\tItaly\tNone\t\n",
       "</td></tr><tr><td>ChrisGGarrod</td><td>RT/MT: Thanks to @CEO_AISOMA #HappyFriday !  #ArtificialIntelligence #AI #AIEthics #ethics #ResponsibleAI #ethicalAI #MachineLearning   cc: @pierrepinna @leimer @psb_dc @Eli_Krumova @JBarbosaPR @terence_mills https://t.co/ulRRa6T7XG\tHappyFriday, ArtificialIntelligence, AI, AIEthics, ethics, ResponsibleAI, ethicalAI, MachineLearning\tFri Nov 27 20:29:00 +0000 2020\t0\t0\tFalse\tTrue\t1332421187373240320\tChris Garrod\tChrisGGarrod\t5627\tBermuda, Other Places\tNone\t\n",
       "</td></tr><tr><td>andrewmorrisuk</td><td>German Startup’s “AI Expert Roadmap” Gets 3.5k GitHub Stars #MachineLearning #learning #startup via https://t.co/fnUT00e3R8 https://t.co/qjlCCXvKHF\tMachineLearning, learning, startup\tFri Nov 27 20:29:01 +0000 2020\t0\t0\tTrue\tFalse\t1332421188845449217\tAndrew Morris\tandrewmorrisuk\t12134\tBedford\tNone\t\n",
       "</td></tr><tr><td>LlnuxBot</td><td>Machine Learning with Core ML 2 and Swift 5  @udemy   ➡️https://t.co/xHqTShMund  #MachineLearning #Swift5 #AugmentedReality #DeepLearning #Analytics #DataScience #AI #IoT #IIoT #Python #RStats #CloudComputing #Serverless #Linux #Coding #100DaysofCode #100DaysOfMLCode #udemycoupon https://t.co/qD5q6TLm4a\tMachineLearning, Swift5, AugmentedReality, DeepLearning, Analytics, DataScience, AI, IoT, IIoT, Python, RStats, CloudComputing, Serverless, Linux, Coding, 100DaysofCode, 100DaysOfMLCode, udemycoupon\tFri Nov 27 20:29:02 +0000 2020\t0\t0\tTrue\tFalse\t1332421194583207936\tLinuxBot\tLlnuxBot\t3166\tRaspberry Pi\tNone\t\n",
       "</td></tr><tr><td>SeetaLabs</td><td>#Trending: UN experts sound alarm over AI-enhanced racial profiling - The Jakarta Post - Jakarta Post  #ai #ml #neuralnetworks #deeplearning #machinelearning  Read More Here: https://t.co/Cj9HVuiD9Q\tTrending, ai, ml, neuralnetworks, deeplearning, machinelearning\tFri Nov 27 20:29:06 +0000 2020\t0\t0\tTrue\tFalse\t1332421210131591168\tSeetaLabs\tSeetaLabs\t1013\tItaly\tNone\t\n",
       "</td></tr><tr><td>andrewmorrisuk</td><td>#Trending: UN experts sound alarm over AI-enhanced racial profiling - The Jakarta Post - Jakarta Post  #ai #ml #neuralnetworks #deeplearning #machinelearning  Read More Here: https://t.co/Cj9HVuiD9Q\tTrending, ai, ml, neuralnetworks, deeplearning, machinelearning\tFri Nov 27 20:29:09 +0000 2020\t0\t0\tTrue\tFalse\t1332421224127926272\tAndrew Morris\tandrewmorrisuk\t12134\tBedford\tNone\t\n",
       "</td></tr><tr><td>SeetaLabs</td><td>New research: #AI systems lack common sense needed to generate plausible sentences https://t.co/ZDa0IHfkvc via @TechXplore_com\tAI\tFri Nov 27 20:29:14 +0000 2020\t0\t0\tTrue\tFalse\t1332421244722024448\tSeetaLabs\tSeetaLabs\t1013\tItaly\tNone\t\n",
       "</td></tr><tr><td>andrewmorrisuk</td><td>6 ways #5G mobile #Broadband will impact the world @wef  #AI #MachineLearning #IoT #CES2021 #Automation #4IR #DigitalTransformation #AR #FutureofWork cc @SpirosMargaris  @jblefevre60 @Nicochan33 @AudreyDesisto @mvollmer1 @Paula_Piccard        https://t.co/lwpBNyGICs\t5G, Broadband, AI, MachineLearning, IoT, CES2021, Automation, 4IR, DigitalTransformation, AR, FutureofWork\tFri Nov 27 20:29:18 +0000 2020\t0\t0\tTrue\tFalse\t1332421259410419712\tAndrew Morris\tandrewmorrisuk\t12134\tBedford\tNone\t\n",
       "</td></tr><tr><td>SeetaLabs</td><td>#GoodNewsFriday: Using artificial intelligence, @NASA scientists mapped 1.8 billion trees to better understand climate change! Fascinating and indicative of the positive impact #AI can have. https://t.co/ua6iVmMZYH\tGoodNewsFriday, AI\tFri Nov 27 20:29:18 +0000 2020\t0\t0\tTrue\tFalse\t1332421262107414531\tSeetaLabs\tSeetaLabs\t1013\tItaly\tNone\t\n",
       "</td></tr><tr><td>jfendarac</td><td>#Calculus Cheat Sheets. #BigData #Analytics #DataScience #AI #MachineLearning #IoT #IIoT #PyTorch #Python #RStats #TensorFlow #Java #JavaScript #ReactJS #CloudComputing #Serverless #DataScientist #Linux #Mathematics #Programming #Coding #100DaysofCode  https://t.co/bklfuAfFlA https://t.co/ipj8HH2p9y\tCalculus, BigData, Analytics, DataScience, AI, MachineLearning, IoT, IIoT, PyTorch, Python, RStats, TensorFlow, Java, JavaScript, ReactJS, CloudComputing, Serverless, DataScientist, Linux, Mathematics, Programming, Coding, 100DaysofCode\tFri Nov 27 20:29:19 +0000 2020\t0\t0\tTrue\tFalse\t1332421264976326656\tJaime Francisco Endara Clavijo\tjfendarac\t682\tQuito, Ecuador\tNone\t\n",
       "</td></tr><tr><td>SeetaLabs</td><td>#TechStuff: Opinion: How AI can push for equitable access to COVID-19 vaccines - Devex  #ai #ml #neuralnetworks #deeplearning #machinelearning  Read More Here: https://t.co/cPJb1zkeiQ\tTechStuff, ai, ml, neuralnetworks, deeplearning, machinelearning\tFri Nov 27 20:29:20 +0000 2020\t0\t0\tTrue\tFalse\t1332421271087411207\tSeetaLabs\tSeetaLabs\t1013\tItaly\tNone\t\n",
       "</td></tr><tr><td>vrhiphop</td><td>As we augment our reality, we augment ourselves. Our latest #ProjectNorthStar creation combines #AR, #AI, hand tracking, a smart object, and some thoughts on the future of skills training. Also table tennis! https://t.co/nBksy5jqSS https://t.co/rgXCcRFjoX\tProjectNorthStar, AR, AI\tFri Nov 27 20:29:25 +0000 2020\t0\t0\tTrue\tFalse\t1332421289202552836\tVRHipHop\tvrhiphop\t1726\tIn Space\tNone\t\n",
       "</td></tr><tr><td>EuBert</td><td>Free training day to accelerate innovation at your company- Microsoft Azure AI Machine Learning, Cognitive Services, Cognitive Search, bots - sign up here: https://t.co/CUaHF7rNqn https://t.co/CU0a5owXnc #innovation #AI\tinnovation, AI\tFri Nov 27 20:29:25 +0000 2020\t0\t0\tFalse\tTrue\t1332421292184772608\tBert Farrell\tEuBert\t336\tIreland\tNone\t\n",
       "</td></tr><tr><td>soydigitalwoman</td><td>Our advisor @pilarmanchon talking about #green #algorithms with the presence of the Secretary of State and innovation @carmeartigas  #Inspiringwomenleaders #Wstartupc #AI #ML\tgreen, algorithms, Inspiringwomenleaders, Wstartupc, AI, ML\tFri Nov 27 20:29:26 +0000 2020\t0\t0\tFalse\tTrue\t1332421294726537217\tW Startup C\tsoydigitalwoman\t2402\tEU\tNone\t\n",
       "</td></tr><tr><td>ML_Tweet_Bot</td><td>Free training day to accelerate innovation at your company- Microsoft Azure AI Machine Learning, Cognitive Services, Cognitive Search, bots - sign up here: https://t.co/CUaHF7rNqn https://t.co/CU0a5owXnc #innovation #AI https://t.co/sqKjoq3P7c\tinnovation, AI\tFri Nov 27 20:29:31 +0000 2020\t0\t0\tTrue\tFalse\t1332421314590760962\tMachine Learning Bot\tML_Tweet_Bot\t4149\tNone\tNone\t\n",
       "</td></tr><tr><td>trendsinAI</td><td>Our advisor @pilarmanchon talking about #green #algorithms with the presence of the Secretary of State and innovation @carmeartigas  #Inspiringwomenleaders #Wstartupc #AI #ML https://t.co/nD6FtN6F2U\tgreen, algorithms, Inspiringwomenleaders, Wstartupc, AI, ML\tFri Nov 27 20:29:32 +0000 2020\t0\t0\tTrue\tFalse\t1332421318222995456\tAI Bot\ttrendsinAI\t437\tNone\tNone\t\n",
       "</td></tr><tr><td>PhilARodriguez</td><td>The Global Partnership on Artificial Intelligence website is now live! For updates, please follow @GPAI_PMIA  https://t.co/b5fVmEeERL #AI #ResponsibleAI\tAI, ResponsibleAI\tFri Nov 27 20:29:48 +0000 2020\t0\t0\tFalse\tTrue\t1332421386627903494\tPhilippe Rodriguez\tPhilARodriguez\t441\tNone\tNone\t\n",
       "</td></tr><tr><td>Manifattura40</td><td>#GoodNewsFriday: Using artificial intelligence, @NASA scientists mapped 1.8 billion trees to better understand climate change! Fascinating and indicative of the positive impact #AI can have. https://t.co/ua6iVmMZYH\tGoodNewsFriday, AI\tFri Nov 27 20:29:54 +0000 2020\t0\t0\tTrue\tFalse\t1332421414012538882\tIndustry 4.0\tManifattura40\t4693\tWeb\tNone\t\n",
       "</td></tr><tr><td>Will_Gaines</td><td>The latest The People and Workforce Analytics Daily! https://t.co/phOu1j6AQe Thanks to @avantage #ai #2021digitaltrends\tai, 2021digitaltrends\tFri Nov 27 20:29:55 +0000 2020\t0\t0\tFalse\tFalse\t1332421416373940258\tWill Gaines\tWill_Gaines\t1232\tSF Bay Area | Central Valley\tNone\t\n",
       "</td></tr><tr><td>AgileThought</td><td>With #manufacturing, optimization is the name of the game. That’s why manufacturers are looking for ways to build cost-effective products more efficiently and easily. Read part one of this series to learn how #AI can help optimize processes: https://t.co/7O5d78OQme\tmanufacturing, AI\tFri Nov 27 20:29:59 +0000 2020\t0\t0\tFalse\tTrue\t1332421432412954625\tAgileThought\tAgileThought\t1568\tTampa, FL\tNone\t\n",
       "</td></tr><tr><td>SusanBratton_1</td><td>For companies that use #AI, #datamanagement is the foundation for success. Storage space and processing power must work together in a manner that supports high flow of #data from numerous applications while maintaining #dataprivacy and retention. https://t.co/86kFkSkEQo\tAI, datamanagement, data, dataprivacy\tFri Nov 27 20:30:00 +0000 2020\t0\t0\tFalse\tTrue\t1332421436615626756\tSusan Bratton\tSusanBratton_1\t1012\tNew York, USA\tNone\t\n",
       "</td></tr><tr><td>MirrorReview1</td><td>Toby Ruckert, CEO &amp; Founder of @uibglobal is a serial #entrepreneur, board director, strategic advisor, mentor, trustee, and notably, a trained pianist. Read more about him.  #Chatbots #VirtualAssistants #AI #IoT #AIoT #NLP #RPA #ConversationalAIoT #H2M https://t.co/h9sJCdpyQJ\tentrepreneur, Chatbots, VirtualAssistants, AI, IoT, AIoT, NLP, RPA, ConversationalAIoT, H2M\tFri Nov 27 20:30:00 +0000 2020\t0\t0\tFalse\tTrue\t1332421437341245448\tMirrorReview\tMirrorReview1\t4348\tPune, India\tNone\t\n",
       "</td></tr><tr><td>obj_news</td><td>#Appliedresearch and #technologytransfer at @uOttawaGenie is addressing a range of societal needs to benefit all of us. Read about one team’s work with #AI and natural language processing, or #NLP. #uOttawa (sponsored)\tAppliedresearch, technologytransfer, AI, NLP, uOttawa\tFri Nov 27 20:30:00 +0000 2020\t0\t0\tFalse\tTrue\t1332421438117175299\tOBJ Ottawa News\tobj_news\t17355\tOttawa, Canada\tNone\t\n",
       "</td></tr><tr><td>5stocksinto</td><td>5 Chinese Stocks Into E-Governance https://t.co/ZpTfTjzZxp #China #Technology #Stocks #Investing #Surveillance #SmartCities #CCTV #AI #Biometrics #Facialrecognition #cybersecurity #Detection #IoT #Stockmarket #Dividends #BigData\tChina, Technology, Stocks, Investing, Surveillance, SmartCities, CCTV, AI, Biometrics, Facialrecognition, cybersecurity, Detection, IoT, Stockmarket, Dividends, BigData\tFri Nov 27 20:30:03 +0000 2020\t0\t0\tTrue\tFalse\t1332421451274612737\tAndrew Duff\t5stocksinto\t1067\tWorldWide\tNone\t\n",
       "</td></tr><tr><td>Manifattura40</td><td>#TechStuff: Opinion: How AI can push for equitable access to COVID-19 vaccines - Devex  #ai #ml #neuralnetworks #deeplearning #machinelearning  Read More Here: https://t.co/cPJb1zkeiQ\tTechStuff, ai, ml, neuralnetworks, deeplearning, machinelearning\tFri Nov 27 20:30:04 +0000 2020\t0\t0\tTrue\tFalse\t1332421452419756041\tIndustry 4.0\tManifattura40\t4693\tWeb\tNone\t\n",
       "</td></tr><tr><td>bobehayes</td><td>December 2nd - #AI Enabled Business Live Premiere Registration... with @Ronald_vanLoon \"How to Advance Resilience and Agility with AI-Enabled Business Processes\"  https://t.co/J13neg0rTo  @SAP #artificialintelligence https://t.co/7w4A8k4o3e\tAI, artificialintelligence\tFri Nov 27 20:30:04 +0000 2020\t0\t0\tFalse\tTrue\t1332421453405417472\tBob E. Hayes\tbobehayes\t46161\tSeattle, WA\tNone\t\n",
       "</td></tr><tr><td>ConstructCanMag</td><td>@autodesk acquires tech company @spacemaker_ai. https://t.co/kGRqSdRgl6. #ai #generativedesign #technology https://t.co/msymyuASBX\tai, generativedesign, technology\tFri Nov 27 20:30:06 +0000 2020\t0\t0\tFalse\tFalse\t1332421463098310659\tConstruction Canada\tConstructCanMag\t3544\tNone\tNone\t\n",
       "</td></tr><tr><td>FlutterBot007</td><td>Our Pick For The Best Online Data Science courses And Programs https://t.co/KH2kKEOlsJ   #MachineLearning #DataScience #Python #AI #100DaysOfCode #DEVCommunity #IoT #flutter #javascript #Serverless #cybersecurity #RStats #CodeNewbie #WomenWhoCode #dataviz #DeepLearning #MLOps\tMachineLearning, DataScience, Python, AI, 100DaysOfCode, DEVCommunity, IoT, flutter, javascript, Serverless, cybersecurity, RStats, CodeNewbie, WomenWhoCode, dataviz, DeepLearning, MLOps\tFri Nov 27 20:30:07 +0000 2020\t0\t0\tTrue\tFalse\t1332421465648615433\tFlutter Bot\tFlutterBot007\t53\tNone\tNone\t\n",
       "</td></tr><tr><td>pdisoftware</td><td>Manual processes reduce the time you have to focus on your customers. PDI #logistics solutions leverage #AI and #machinelearning to provide insights and improve decision making so you can focus on value-added work. https://t.co/HDWkE4BtYw https://t.co/nCNyXwEoA2\tlogistics, AI, machinelearning\tFri Nov 27 20:30:07 +0000 2020\t0\t0\tFalse\tTrue\t1332421466252603392\tPDI Software\tpdisoftware\t764\tAtlanta, GA\tNone\t\n",
       "</td></tr><tr><td>jmmoran12</td><td>Bringing machine learning into marketing CAN improve business results. Here's how. https://t.co/Se2zSY6q02 #marketing #analytics #machinelearning #datascience\tmarketing, analytics, machinelearning, datascience\tFri Nov 27 20:30:09 +0000 2020\t0\t0\tFalse\tTrue\t1332421475580645376\tJonathan Moran\tjmmoran12\t619\tRaleigh, NC\tNone\t\n",
       "</td></tr><tr><td>TheCuriousLuke</td><td>Bringing machine learning into marketing CAN improve business results. Here's how. https://t.co/Se2zSY6q02 #marketing #analytics #machinelearning #datascience\tmarketing, analytics, machinelearning, datascience\tFri Nov 27 20:30:12 +0000 2020\t0\t0\tTrue\tFalse\t1332421486855016448\tCurious Luke\tTheCuriousLuke\t5626\tSwitzerland\tNone\t\n",
       "</td></tr><tr><td>ML_Tweet_Bot</td><td>Bringing machine learning into marketing CAN improve business results. Here's how. https://t.co/Se2zSY6q02 #marketing #analytics #machinelearning #datascience\tmarketing, analytics, machinelearning, datascience\tFri Nov 27 20:30:15 +0000 2020\t0\t0\tTrue\tFalse\t1332421498305474564\tMachine Learning Bot\tML_Tweet_Bot\t4149\tNone\tNone\t\n",
       "</td></tr><tr><td>iamShyd2</td><td>This cable driven parallel #Robot could be used for different purposes such as product assembling, rehabilitation and filmmaking. By @gigadgets_ #AI #IoT #4IR #Robotics  #ArtificialIntelligence Cc: @PawlowskiMario @jblefevre60 @labordeolivier @mvollmer1  @kuriharan @Nicochan33 https://t.co/DV2EgKlXWR\tRobot, AI, IoT, 4IR, Robotics, ArtificialIntelligence\tFri Nov 27 20:30:15 +0000 2020\t0\t0\tTrue\tFalse\t1332421499718918147\tKwame Shyd 👑\tiamShyd2\t1392\tNone\tNone\t\n",
       "</td></tr><tr><td>WITI</td><td>#FeatureFriday Sue Savage is the CFO of Blue Yonder. She believes data, software, and artificial intelligence is the key to future business growth!   Read more here: https://t.co/PAnghK993S #JoinWITI #womenwhowork #empoweringwomen #mentoring #successfulwomen #fintech #article #ai https://t.co/aSqBaH69sD\tFeatureFriday, JoinWITI, womenwhowork, empoweringwomen, mentoring, successfulwomen, fintech, article, ai\tFri Nov 27 20:30:15 +0000 2020\t0\t0\tFalse\tTrue\t1332421502285844482\tWITI - Women In Technology International\tWITI\t9607\tHeadquartered in CA\tNone\t\n",
       "</td></tr><tr><td>PeopleHum</td><td>https://t.co/0Oexg2Cb1a Catch @stelzner, the founder and managing principal at IA as he discusses how the new-age leaders are stepping up &amp; moulding the future of work in HR in a positive way for the long haul! #hr #hrtech #futureofwork #nowofwork #ai #automation #leadership\thr, hrtech, futureofwork, nowofwork, ai, automation, leadership\tFri Nov 27 20:30:17 +0000 2020\t0\t0\tFalse\tTrue\t1332421509688778754\tpeopleHum\tPeopleHum\t2687\tSingapore\tNone\t\n",
       "</td></tr><tr><td>Manifattura40</td><td>Free training day to accelerate innovation at your company- Microsoft Azure AI Machine Learning, Cognitive Services, Cognitive Search, bots - sign up here: https://t.co/CUaHF7rNqn https://t.co/CU0a5owXnc #innovation #AI https://t.co/sqKjoq3P7c\tinnovation, AI\tFri Nov 27 20:30:18 +0000 2020\t0\t0\tTrue\tFalse\t1332421512192782344\tIndustry 4.0\tManifattura40\t4693\tWeb\tNone\t\n",
       "</td></tr><tr><td>VUEngineering</td><td>Starting w/ #COVID-19 open-source data, team will use #NSFConvergence pilot grant to streamline how research translates  to real-world applications #imaging #AI https://t.co/rmSaNrfdpY\tCOVID, NSFConvergence, imaging, AI\tFri Nov 27 20:30:20 +0000 2020\t0\t0\tFalse\tTrue\t1332421521038602244\tVU Engineering\tVUEngineering\t4033\tNashville, Tennessee\tNone\t\n",
       "</td></tr><tr><td>ConnectedWMag</td><td>A new team is dedicated to the development and promotion of a standard for commercial markets. https://t.co/FP4rQw0Mla #IoT #sustainability #AI #5G #cloud #edge #futureofwork #infrastructure #digitaltransformation .@zigbeealliance .@SchneiderElec\tIoT, sustainability, AI, 5G, cloud, edge, futureofwork, infrastructure, digitaltransformation\tFri Nov 27 20:30:21 +0000 2020\t0\t0\tFalse\tTrue\t1332421525002211328\tPeggy Smedley\tConnectedWMag\t30726\tCarol Stream, IL\tNone\t\n",
       "</td></tr><tr><td>DataSocietyTW</td><td>Get ready to take your organization’s decision making into the fast lane as we unveil the future of analytics #AI #ChiefDataOfficer #BusinessIntelligence @thoughtspot  https://t.co/elTQvqJ61f #7wDataEvent  https://t.co/e1XVPQpytb\tAI, ChiefDataOfficer, BusinessIntelligence, 7wDataEvent\tFri Nov 27 20:30:21 +0000 2020\t0\t0\tTrue\tFalse\t1332421526788988932\tData Society TW\tDataSocietyTW\t1180\tNetwork\tNone\t\n",
       "</td></tr><tr><td>Manifattura40</td><td>Our advisor @pilarmanchon talking about #green #algorithms with the presence of the Secretary of State and innovation @carmeartigas  #Inspiringwomenleaders #Wstartupc #AI #ML https://t.co/nD6FtN6F2U\tgreen, algorithms, Inspiringwomenleaders, Wstartupc, AI, ML\tFri Nov 27 20:30:24 +0000 2020\t0\t0\tTrue\tFalse\t1332421537991946242\tIndustry 4.0\tManifattura40\t4693\tWeb\tNone\t\n",
       "</td></tr><tr><td>MetaPropNYC</td><td>Are connected cars, kitchens and homes really the epitome of AI value?  There’s increased quality of life, reduced admin, improved budgeting, better use of resources and many others that optimize, transform and improve.  Read more: https://t.co/ajtiGYN7sC #PropTech #Investing #AI\tPropTech, Investing, AI\tFri Nov 27 20:30:24 +0000 2020\t0\t0\tFalse\tTrue\t1332421539376099331\tMetaProp\tMetaPropNYC\t6630\tNew York, NY\tNone\t\n",
       "</td></tr><tr><td>Multimedia_MMV</td><td>The Journal of Multimedia MMV  https://t.co/2KLwzzTzxF #cybersecurity #ai\tcybersecurity, ai\tFri Nov 27 20:30:28 +0000 2020\t0\t0\tFalse\tFalse\t1332421552948850688\tMULTIMEDIA VALENCIA (MMV)\tMultimedia_MMV\t5305\tNone\tNone\t\n",
       "</td></tr><tr><td>BalanceOt</td><td>#AI look at hourly charts #BTC  Since the top at 19488.81 on 2020/11/25  at 13 pm BTC/USD has been trending downwards on the one-hour chart, a series of lower lows and lower highs clearly indicates downwards...  Just choose your coin and be an expert! #crypto #trading https://t.co/JxFbicBHSv\tAI, BTC, crypto, trading\tFri Nov 27 20:30:28 +0000 2020\t0\t0\tFalse\tTrue\t1332421552932057088\tOcean Trade Balance (tweets ≠ financial advice)\tBalanceOt\t101\tNone\tNone\t\n",
       "</td></tr><tr><td>Manifattura40</td><td>The Global Partnership on Artificial Intelligence website is now live! For updates, please follow @GPAI_PMIA  https://t.co/b5fVmEeERL #AI #ResponsibleAI\tAI, ResponsibleAI\tFri Nov 27 20:30:30 +0000 2020\t0\t0\tTrue\tFalse\t1332421563837247501\tIndustry 4.0\tManifattura40\t4693\tWeb\tNone\t\n",
       "</td></tr><tr><td>Strategic_Adv</td><td>The latest Today's Daily Snapshot! https://t.co/ZLfiG0Qoop Thanks to @risingbricsam #nlp #machinelearning\tnlp, machinelearning\tFri Nov 27 20:30:31 +0000 2020\t0\t0\tFalse\tFalse\t1332421567901528065\tStrategic Growth LLC\tStrategic_Adv\t1\tNone\tNone\t\n",
       "</td></tr><tr><td>nfteam3</td><td>Digital Twin Technology Simulation Models and Why Are They Special  #Machinelearning #100DaysOfCode #IoT #IIoT #Bigdata #100DaysOfMLCode #Python #flutter #cybersecurity #RStats #CodeNewbie #DataScience #DEVCommunity #RPA #artificialintelligence  https://t.co/Sx4Lat9apu\tMachinelearning, 100DaysOfCode, IoT, IIoT, Bigdata, 100DaysOfMLCode, Python, flutter, cybersecurity, RStats, CodeNewbie, DataScience, DEVCommunity, RPA, artificialintelligence\tFri Nov 27 20:30:40 +0000 2020\t0\t0\tTrue\tFalse\t1332421603431473155\tnfteam\tnfteam3\t1094\tSpain\tNone\t\n",
       "</td></tr><tr><td>AICatFacts</td><td>How can I build a cute cat? It seems like you're very talented. It would be awesome to build a robot cat like your cat. Click to expand. #ai #cats https://t.co/fHMXBrUon8\tai, cats\tFri Nov 27 20:30:45 +0000 2020\t0\t0\tFalse\tTrue\t1332421627972255745\tA.I. Cat Facts\tAICatFacts\t602\tEphemeral instances\tNone\t\n",
       "</td></tr><tr><td>E_v_e__l_y_n</td><td>WATCH: China's first high-speed maglev prototype with a designed top speed of 600 km/h CC @CurieuxExplorer #Robotics #FemTech #womenintech #AI #ArtificialIntelligence #Automation #100DaysOfCode #MachineLearning #CodeNewbie #100DaysOfMLCode #WomenWhoCode #VegaLMS 📽 via XHscitech https://t.co/2J7BzHfKV7\tRobotics, FemTech, womenintech, AI, ArtificialIntelligence, Automation, 100DaysOfCode, MachineLearning, CodeNewbie, 100DaysOfMLCode, WomenWhoCode, VegaLMS\tFri Nov 27 20:30:46 +0000 2020\t0\t0\tTrue\tFalse\t1332421630505734151\tEve-lyn\tE_v_e__l_y_n\t295\tNone\tNone\t\n",
       "</td></tr><tr><td>mlhcromwell16</td><td>Fascinating and scary at the same time 😊\t\tFri Nov 27 20:30:49 +0000 2020\t0\t0\tTrue\tFalse\t1332421643004645376\t🇺🇸🌴🌞DepMo 🌴🇺🇸\tmlhcromwell16\t14280\twishing4Maui\tNone\t\n",
       "</td></tr><tr><td>micadam</td><td>The latest The training Daily! https://t.co/d8Y597WwXL Thanks to @H2Standard #machinelearning #ai\tmachinelearning, ai\tFri Nov 27 20:30:52 +0000 2020\t0\t0\tFalse\tFalse\t1332421653654016007\tMic V Adam\tmicadam\t14254\tBrugge, Belgium\tNone\t\n",
       "</td></tr><tr><td>domingonarvaez1</td><td>Top 10 mobile #risks and how to secure devices and #apps against them https://t.co/gKfeUNALFa via @ingliguori #IoT #Appsec #IIoT #CyberSecurity #infosec #dataprotection #cybersec #infosecurity #AI #DigitalTransformation #encryption #Security #DataSecurity #Hacking @antgrasso https://t.co/OOhlDGhwtg\trisks, apps, IoT, Appsec, IIoT, CyberSecurity, infosec, dataprotection, cybersec, infosecurity, AI, DigitalTransformation, encryption, Security, DataSecurity, Hacking\tFri Nov 27 20:30:59 +0000 2020\t0\t0\tTrue\tFalse\t1332421686797492231\tDomingo Narvaez\tdomingonarvaez1\t534\tAragua-Vzla\tNone\t\n",
       "</td></tr><tr><td>RichardEudes</td><td>New technique builds animal brain–like spontaneity into AI https://t.co/KuUvAXqXZW #analytics, #artificialintelligence, #datascience, #machinelearning\tanalytics, artificialintelligence, datascience, machinelearning\tFri Nov 27 20:31:01 +0000 2020\t0\t0\tFalse\tTrue\t1332421691889291266\tRichard Eudes, PhD\tRichardEudes\t16570\tParis, France\tNone\t\n",
       "</td></tr><tr><td>Arnold_Haine</td><td>10 Awesome Real-World Applications Of #DataScience And #AI https://t.co/T9bMYKEQu4 https://t.co/SxBWe6tzMi\tDataScience, AI\tFri Nov 27 20:31:01 +0000 2020\t0\t0\tFalse\tFalse\t1332421695051853832\tArnold Haine\tArnold_Haine\t8381\tParis\tNone\t\n",
       "</td></tr><tr><td>lhbalance</td><td>The latest Strategy+Innovation! https://t.co/jFou1ctmbJ #ai #internetofthings\tai, internetofthings\tFri Nov 27 20:31:02 +0000 2020\t0\t0\tFalse\tFalse\t1332421697526517761\tLogical Heuristics\tlhbalance\t570\tAustin, TX\tNone\t\n",
       "</td></tr></tbody></table></div>"
      ]
     },
     "metadata": {
      "application/vnd.databricks.v1+output": {
       "addedWidgets": {},
       "aggData": [],
       "aggError": "",
       "aggOverflow": false,
       "aggSchema": [],
       "aggSeriesLimitReached": false,
       "aggType": "",
       "arguments": {},
       "columnCustomDisplayInfos": {},
       "data": [
        [
         "welcomehier",
         "The pope has joined forces with #Microsoft and #IBM to create a doctrine for ethical #AI and facial recognition. Here's how the Vatican wants to shape it👇 https://t.co/TW653XayEE\tMicrosoft, IBM, AI\tFri Nov 27 20:28:00 +0000 2020\t0\t0\tTrue\tFalse\t1332420933169143809\tAbdulrahmanAlSultan 🇸🇦\twelcomehier\t2482\tSA\tNone\t\n"
        ],
        [
         "AlexeyChang",
         "Machine Learning with Core ML 2 and Swift 5  @udemy   ➡️https://t.co/xHqTShMund  #MachineLearning #Swift5 #AugmentedReality #DeepLearning #Analytics #DataScience #AI #IoT #IIoT #Python #RStats #CloudComputing #Serverless #Linux #Coding #100DaysofCode #100DaysOfMLCode #udemycoupon https://t.co/qD5q6TLm4a\tMachineLearning, Swift5, AugmentedReality, DeepLearning, Analytics, DataScience, AI, IoT, IIoT, Python, RStats, CloudComputing, Serverless, Linux, Coding, 100DaysofCode, 100DaysOfMLCode, udemycoupon\tFri Nov 27 20:28:04 +0000 2020\t0\t0\tTrue\tFalse\t1332420949266886659\tAlexey Chang\tAlexeyChang\t146\tRussia\tNone\t\n"
        ],
        [
         "UW_CSTV",
         "New research: #AI systems lack common sense needed to generate plausible sentences https://t.co/ZDa0IHfkvc via @TechXplore_com\tAI\tFri Nov 27 20:28:07 +0000 2020\t0\t0\tFalse\tFalse\t1332420963556843524\tCSTV\tUW_CSTV\t190\tUniversity of Waterloo\tNone\t\n"
        ],
        [
         "fintechna",
         "The latest Breaking Banks Asia! https://t.co/EuUiryRZI1 Thanks to @LeeSlaterSCB @MaximilieMoreau @AlgorithmXLab #fintech #ai\tfintech, ai\tFri Nov 27 20:28:09 +0000 2020\t0\t0\tTrue\tFalse\t1332420969680531456\tFINTECHNA\tfintechna\t27980\tLON | NYC | HKG  | SYD | SIN\tNone\t\n"
        ],
        [
         "ML_Tweet_Bot",
         "Machine Learning with Core ML 2 and Swift 5  @udemy   ➡️https://t.co/xHqTShMund  #MachineLearning #Swift5 #AugmentedReality #DeepLearning #Analytics #DataScience #AI #IoT #IIoT #Python #RStats #CloudComputing #Serverless #Linux #Coding #100DaysofCode #100DaysOfMLCode #udemycoupon https://t.co/qD5q6TLm4a\tMachineLearning, Swift5, AugmentedReality, DeepLearning, Analytics, DataScience, AI, IoT, IIoT, Python, RStats, CloudComputing, Serverless, Linux, Coding, 100DaysofCode, 100DaysOfMLCode, udemycoupon\tFri Nov 27 20:28:09 +0000 2020\t0\t0\tTrue\tFalse\t1332420971844788229\tMachine Learning Bot\tML_Tweet_Bot\t4149\tNone\tNone\t\n"
        ],
        [
         "MarkTwa01197091",
         "Drone taxis are a reality in China!  #AI #MachineLearning #Robotics #drone @XHNews  @SpirosMargaris @DeepLearn007 @HaroldSinnott @gvalan @Paula_Piccard @ipfconline1 @ShiCooks @diioannid @mvollmer1 @Ym78200 @kalydeoo @Nicochan33 @3itcom @Fabriziobustama  https://t.co/Sva8fpJgl1\tAI, MachineLearning, Robotics, drone\tFri Nov 27 20:28:09 +0000 2020\t0\t0\tTrue\tFalse\t1332420972692074496\tMark Twain\tMarkTwa01197091\t10583\tNone\tNone\t\n"
        ],
        [
         "mvollmer1",
         "6 ways #5G mobile #Broadband will impact the world @wef  #AI #MachineLearning #IoT #CES2021 #Automation #4IR #DigitalTransformation #AR #FutureofWork cc @SpirosMargaris  @jblefevre60 @Nicochan33 @AudreyDesisto @mvollmer1 @Paula_Piccard        https://t.co/lwpBNyGICs\t5G, Broadband, AI, MachineLearning, IoT, CES2021, Automation, 4IR, DigitalTransformation, AR, FutureofWork\tFri Nov 27 20:28:13 +0000 2020\t0\t0\tTrue\tFalse\t1332420989892894720\tDr. Marcell Vollmer #StayHome #StaySafe\tmvollmer1\t65306\tFrankfurt, Germany\tNone\t\n"
        ],
        [
         "askN0B0DY",
         "#Trending: UN experts sound alarm over AI-enhanced racial profiling - The Jakarta Post - Jakarta Post  #ai #ml #neuralnetworks #deeplearning #machinelearning  Read More Here: https://t.co/Cj9HVuiD9Q\tTrending, ai, ml, neuralnetworks, deeplearning, machinelearning\tFri Nov 27 20:28:16 +0000 2020\t0\t0\tTrue\tFalse\t1332420999552315394\tNobody\taskN0B0DY\t954\tSome Server\tNone\t\n"
        ],
        [
         "dcasacuberta",
         "Looks promising...\t\tFri Nov 27 20:28:18 +0000 2020\t0\t0\tFalse\tFalse\t1332421009820045314\tDavid Casacuberta\tdcasacuberta\t2095\tBarcelona, Spain\tNone\t\n"
        ],
        [
         "SvonFriedeburg",
         "#GoodNewsFriday: Using artificial intelligence, @NASA scientists mapped 1.8 billion trees to better understand climate change! Fascinating and indicative of the positive impact #AI can have. https://t.co/ua6iVmMZYH\tGoodNewsFriday, AI\tFri Nov 27 20:28:24 +0000 2020\t0\t0\tFalse\tTrue\t1332421034054725632\tStephanie von Friedeburg\tSvonFriedeburg\t3124\tWashington, DC\tNone\t\n"
        ],
        [
         "nourtra00456201",
         "German Startup’s “AI Expert Roadmap” Gets 3.5k GitHub Stars #MachineLearning #learning #startup via https://t.co/fnUT00e3R8 https://t.co/qjlCCXvKHF\tMachineLearning, learning, startup\tFri Nov 27 20:28:28 +0000 2020\t0\t0\tTrue\tFalse\t1332421049863069704\tNourTrabelsi\tnourtra00456201\t1184\tWo noch niemand war\tNone\t\n"
        ],
        [
         "HumanAlexas",
         "@amazon 5-year-old #Alexa in the UK.   #RespectNames #RebrandAlexa  #NameBombardment @alexa99  @AmazonLab126 #AmazonWishList  https://t.co/P9zZ6hf5TU https://t.co/hUirZ2K422\tAlexa, RespectNames, RebrandAlexa, NameBombardment, AmazonWishList\tFri Nov 27 20:28:28 +0000 2020\t0\t0\tFalse\tTrue\t1332421049766584322\tHuman Alexas\tHumanAlexas\t839\tUnited States\tNone\t\n"
        ],
        [
         "maddykutechno",
         "The latest The Artificial Intelligence Daily! https://t.co/VpruiKS4zP Thanks to @AWI_US @storagegaga #deeplearning #machinelearning\tdeeplearning, machinelearning\tFri Nov 27 20:28:37 +0000 2020\t0\t0\tTrue\tFalse\t1332421090459721731\tMadhav Kunal\tmaddykutechno\t214\tEdison, NJ\tNone\t\n"
        ],
        [
         "mvollmer1",
         "This cable driven parallel #Robot could be used for different purposes such as product assembling, rehabilitation and filmmaking. By @gigadgets_ #AI #IoT #4IR #Robotics  #ArtificialIntelligence Cc: @PawlowskiMario @jblefevre60 @labordeolivier @mvollmer1  @kuriharan @Nicochan33 https://t.co/DV2EgKlXWR\tRobot, AI, IoT, 4IR, Robotics, ArtificialIntelligence\tFri Nov 27 20:28:39 +0000 2020\t0\t0\tTrue\tFalse\t1332421095526461446\tDr. Marcell Vollmer #StayHome #StaySafe\tmvollmer1\t65306\tFrankfurt, Germany\tNone\t\n"
        ],
        [
         "iamChuckRussell",
         "#TechStuff: Opinion: How AI can push for equitable access to COVID-19 vaccines - Devex  #ai #ml #neuralnetworks #deeplearning #machinelearning  Read More Here: https://t.co/cPJb1zkeiQ\tTechStuff, ai, ml, neuralnetworks, deeplearning, machinelearning\tFri Nov 27 20:28:55 +0000 2020\t0\t0\tFalse\tTrue\t1332421163532816387\tChuck Russell\tiamChuckRussell\t21454\tCamp Hill, PA\tNone\t\n"
        ],
        [
         "Nblackthorne",
         "'5⭐️...elements of thrilling mystery, suspense, dystopian fantasy and science fiction.'  The Lenders Saga from @Travis_Borne.  #scifi #sciencefiction #AI #ArtificialIntelligence #Aliens #timetravel #apocalypse #IARTG #ASMSG  #Kindle #books #ebooks  https://t.co/ADmMk5zoE4 https://t.co/ZqOcOR67Il\tscifi, sciencefiction, AI, ArtificialIntelligence, Aliens, timetravel, apocalypse, IARTG, ASMSG, Kindle, books, ebooks\tFri Nov 27 20:28:56 +0000 2020\t0\t0\tTrue\tFalse\t1332421168880525312\tNatasha Blackthorne\tNblackthorne\t41642\tNone\tNone\t\n"
        ],
        [
         "NachoHPrado",
         "Organisations that are not applying #AI #hyperautomation risk of becoming irrelevant in the market. Take action today to transform your business. https://t.co/Hrm3GFvIZ1 https://t.co/Nd2LmISAcx\tAI, hyperautomation\tFri Nov 27 20:28:57 +0000 2020\t0\t0\tTrue\tFalse\t1332421171908898817\tNacho H Prado\tNachoHPrado\t3304\tMadrid, Comunidad de Madrid\tNone\t\n"
        ],
        [
         "andrewmorrisuk",
         "#TechStuff: Opinion: How AI can push for equitable access to COVID-19 vaccines - Devex  #ai #ml #neuralnetworks #deeplearning #machinelearning  Read More Here: https://t.co/cPJb1zkeiQ\tTechStuff, ai, ml, neuralnetworks, deeplearning, machinelearning\tFri Nov 27 20:28:57 +0000 2020\t0\t0\tTrue\tFalse\t1332421174526177280\tAndrew Morris\tandrewmorrisuk\t12134\tBedford\tNone\t\n"
        ],
        [
         "SeetaLabs",
         "A beginner's guide to creating artwork for 2D video games #MachineLearning #learning #ui  https://t.co/BrGGDzbeLZ\tMachineLearning, learning, ui\tFri Nov 27 20:29:01 +0000 2020\t0\t0\tTrue\tFalse\t1332421188560281600\tSeetaLabs\tSeetaLabs\t1013\tItaly\tNone\t\n"
        ],
        [
         "ChrisGGarrod",
         "RT/MT: Thanks to @CEO_AISOMA #HappyFriday !  #ArtificialIntelligence #AI #AIEthics #ethics #ResponsibleAI #ethicalAI #MachineLearning   cc: @pierrepinna @leimer @psb_dc @Eli_Krumova @JBarbosaPR @terence_mills https://t.co/ulRRa6T7XG\tHappyFriday, ArtificialIntelligence, AI, AIEthics, ethics, ResponsibleAI, ethicalAI, MachineLearning\tFri Nov 27 20:29:00 +0000 2020\t0\t0\tFalse\tTrue\t1332421187373240320\tChris Garrod\tChrisGGarrod\t5627\tBermuda, Other Places\tNone\t\n"
        ],
        [
         "andrewmorrisuk",
         "German Startup’s “AI Expert Roadmap” Gets 3.5k GitHub Stars #MachineLearning #learning #startup via https://t.co/fnUT00e3R8 https://t.co/qjlCCXvKHF\tMachineLearning, learning, startup\tFri Nov 27 20:29:01 +0000 2020\t0\t0\tTrue\tFalse\t1332421188845449217\tAndrew Morris\tandrewmorrisuk\t12134\tBedford\tNone\t\n"
        ],
        [
         "LlnuxBot",
         "Machine Learning with Core ML 2 and Swift 5  @udemy   ➡️https://t.co/xHqTShMund  #MachineLearning #Swift5 #AugmentedReality #DeepLearning #Analytics #DataScience #AI #IoT #IIoT #Python #RStats #CloudComputing #Serverless #Linux #Coding #100DaysofCode #100DaysOfMLCode #udemycoupon https://t.co/qD5q6TLm4a\tMachineLearning, Swift5, AugmentedReality, DeepLearning, Analytics, DataScience, AI, IoT, IIoT, Python, RStats, CloudComputing, Serverless, Linux, Coding, 100DaysofCode, 100DaysOfMLCode, udemycoupon\tFri Nov 27 20:29:02 +0000 2020\t0\t0\tTrue\tFalse\t1332421194583207936\tLinuxBot\tLlnuxBot\t3166\tRaspberry Pi\tNone\t\n"
        ],
        [
         "SeetaLabs",
         "#Trending: UN experts sound alarm over AI-enhanced racial profiling - The Jakarta Post - Jakarta Post  #ai #ml #neuralnetworks #deeplearning #machinelearning  Read More Here: https://t.co/Cj9HVuiD9Q\tTrending, ai, ml, neuralnetworks, deeplearning, machinelearning\tFri Nov 27 20:29:06 +0000 2020\t0\t0\tTrue\tFalse\t1332421210131591168\tSeetaLabs\tSeetaLabs\t1013\tItaly\tNone\t\n"
        ],
        [
         "andrewmorrisuk",
         "#Trending: UN experts sound alarm over AI-enhanced racial profiling - The Jakarta Post - Jakarta Post  #ai #ml #neuralnetworks #deeplearning #machinelearning  Read More Here: https://t.co/Cj9HVuiD9Q\tTrending, ai, ml, neuralnetworks, deeplearning, machinelearning\tFri Nov 27 20:29:09 +0000 2020\t0\t0\tTrue\tFalse\t1332421224127926272\tAndrew Morris\tandrewmorrisuk\t12134\tBedford\tNone\t\n"
        ],
        [
         "SeetaLabs",
         "New research: #AI systems lack common sense needed to generate plausible sentences https://t.co/ZDa0IHfkvc via @TechXplore_com\tAI\tFri Nov 27 20:29:14 +0000 2020\t0\t0\tTrue\tFalse\t1332421244722024448\tSeetaLabs\tSeetaLabs\t1013\tItaly\tNone\t\n"
        ],
        [
         "andrewmorrisuk",
         "6 ways #5G mobile #Broadband will impact the world @wef  #AI #MachineLearning #IoT #CES2021 #Automation #4IR #DigitalTransformation #AR #FutureofWork cc @SpirosMargaris  @jblefevre60 @Nicochan33 @AudreyDesisto @mvollmer1 @Paula_Piccard        https://t.co/lwpBNyGICs\t5G, Broadband, AI, MachineLearning, IoT, CES2021, Automation, 4IR, DigitalTransformation, AR, FutureofWork\tFri Nov 27 20:29:18 +0000 2020\t0\t0\tTrue\tFalse\t1332421259410419712\tAndrew Morris\tandrewmorrisuk\t12134\tBedford\tNone\t\n"
        ],
        [
         "SeetaLabs",
         "#GoodNewsFriday: Using artificial intelligence, @NASA scientists mapped 1.8 billion trees to better understand climate change! Fascinating and indicative of the positive impact #AI can have. https://t.co/ua6iVmMZYH\tGoodNewsFriday, AI\tFri Nov 27 20:29:18 +0000 2020\t0\t0\tTrue\tFalse\t1332421262107414531\tSeetaLabs\tSeetaLabs\t1013\tItaly\tNone\t\n"
        ],
        [
         "jfendarac",
         "#Calculus Cheat Sheets. #BigData #Analytics #DataScience #AI #MachineLearning #IoT #IIoT #PyTorch #Python #RStats #TensorFlow #Java #JavaScript #ReactJS #CloudComputing #Serverless #DataScientist #Linux #Mathematics #Programming #Coding #100DaysofCode  https://t.co/bklfuAfFlA https://t.co/ipj8HH2p9y\tCalculus, BigData, Analytics, DataScience, AI, MachineLearning, IoT, IIoT, PyTorch, Python, RStats, TensorFlow, Java, JavaScript, ReactJS, CloudComputing, Serverless, DataScientist, Linux, Mathematics, Programming, Coding, 100DaysofCode\tFri Nov 27 20:29:19 +0000 2020\t0\t0\tTrue\tFalse\t1332421264976326656\tJaime Francisco Endara Clavijo\tjfendarac\t682\tQuito, Ecuador\tNone\t\n"
        ],
        [
         "SeetaLabs",
         "#TechStuff: Opinion: How AI can push for equitable access to COVID-19 vaccines - Devex  #ai #ml #neuralnetworks #deeplearning #machinelearning  Read More Here: https://t.co/cPJb1zkeiQ\tTechStuff, ai, ml, neuralnetworks, deeplearning, machinelearning\tFri Nov 27 20:29:20 +0000 2020\t0\t0\tTrue\tFalse\t1332421271087411207\tSeetaLabs\tSeetaLabs\t1013\tItaly\tNone\t\n"
        ],
        [
         "vrhiphop",
         "As we augment our reality, we augment ourselves. Our latest #ProjectNorthStar creation combines #AR, #AI, hand tracking, a smart object, and some thoughts on the future of skills training. Also table tennis! https://t.co/nBksy5jqSS https://t.co/rgXCcRFjoX\tProjectNorthStar, AR, AI\tFri Nov 27 20:29:25 +0000 2020\t0\t0\tTrue\tFalse\t1332421289202552836\tVRHipHop\tvrhiphop\t1726\tIn Space\tNone\t\n"
        ],
        [
         "EuBert",
         "Free training day to accelerate innovation at your company- Microsoft Azure AI Machine Learning, Cognitive Services, Cognitive Search, bots - sign up here: https://t.co/CUaHF7rNqn https://t.co/CU0a5owXnc #innovation #AI\tinnovation, AI\tFri Nov 27 20:29:25 +0000 2020\t0\t0\tFalse\tTrue\t1332421292184772608\tBert Farrell\tEuBert\t336\tIreland\tNone\t\n"
        ],
        [
         "soydigitalwoman",
         "Our advisor @pilarmanchon talking about #green #algorithms with the presence of the Secretary of State and innovation @carmeartigas  #Inspiringwomenleaders #Wstartupc #AI #ML\tgreen, algorithms, Inspiringwomenleaders, Wstartupc, AI, ML\tFri Nov 27 20:29:26 +0000 2020\t0\t0\tFalse\tTrue\t1332421294726537217\tW Startup C\tsoydigitalwoman\t2402\tEU\tNone\t\n"
        ],
        [
         "ML_Tweet_Bot",
         "Free training day to accelerate innovation at your company- Microsoft Azure AI Machine Learning, Cognitive Services, Cognitive Search, bots - sign up here: https://t.co/CUaHF7rNqn https://t.co/CU0a5owXnc #innovation #AI https://t.co/sqKjoq3P7c\tinnovation, AI\tFri Nov 27 20:29:31 +0000 2020\t0\t0\tTrue\tFalse\t1332421314590760962\tMachine Learning Bot\tML_Tweet_Bot\t4149\tNone\tNone\t\n"
        ],
        [
         "trendsinAI",
         "Our advisor @pilarmanchon talking about #green #algorithms with the presence of the Secretary of State and innovation @carmeartigas  #Inspiringwomenleaders #Wstartupc #AI #ML https://t.co/nD6FtN6F2U\tgreen, algorithms, Inspiringwomenleaders, Wstartupc, AI, ML\tFri Nov 27 20:29:32 +0000 2020\t0\t0\tTrue\tFalse\t1332421318222995456\tAI Bot\ttrendsinAI\t437\tNone\tNone\t\n"
        ],
        [
         "PhilARodriguez",
         "The Global Partnership on Artificial Intelligence website is now live! For updates, please follow @GPAI_PMIA  https://t.co/b5fVmEeERL #AI #ResponsibleAI\tAI, ResponsibleAI\tFri Nov 27 20:29:48 +0000 2020\t0\t0\tFalse\tTrue\t1332421386627903494\tPhilippe Rodriguez\tPhilARodriguez\t441\tNone\tNone\t\n"
        ],
        [
         "Manifattura40",
         "#GoodNewsFriday: Using artificial intelligence, @NASA scientists mapped 1.8 billion trees to better understand climate change! Fascinating and indicative of the positive impact #AI can have. https://t.co/ua6iVmMZYH\tGoodNewsFriday, AI\tFri Nov 27 20:29:54 +0000 2020\t0\t0\tTrue\tFalse\t1332421414012538882\tIndustry 4.0\tManifattura40\t4693\tWeb\tNone\t\n"
        ],
        [
         "Will_Gaines",
         "The latest The People and Workforce Analytics Daily! https://t.co/phOu1j6AQe Thanks to @avantage #ai #2021digitaltrends\tai, 2021digitaltrends\tFri Nov 27 20:29:55 +0000 2020\t0\t0\tFalse\tFalse\t1332421416373940258\tWill Gaines\tWill_Gaines\t1232\tSF Bay Area | Central Valley\tNone\t\n"
        ],
        [
         "AgileThought",
         "With #manufacturing, optimization is the name of the game. That’s why manufacturers are looking for ways to build cost-effective products more efficiently and easily. Read part one of this series to learn how #AI can help optimize processes: https://t.co/7O5d78OQme\tmanufacturing, AI\tFri Nov 27 20:29:59 +0000 2020\t0\t0\tFalse\tTrue\t1332421432412954625\tAgileThought\tAgileThought\t1568\tTampa, FL\tNone\t\n"
        ],
        [
         "SusanBratton_1",
         "For companies that use #AI, #datamanagement is the foundation for success. Storage space and processing power must work together in a manner that supports high flow of #data from numerous applications while maintaining #dataprivacy and retention. https://t.co/86kFkSkEQo\tAI, datamanagement, data, dataprivacy\tFri Nov 27 20:30:00 +0000 2020\t0\t0\tFalse\tTrue\t1332421436615626756\tSusan Bratton\tSusanBratton_1\t1012\tNew York, USA\tNone\t\n"
        ],
        [
         "MirrorReview1",
         "Toby Ruckert, CEO &amp; Founder of @uibglobal is a serial #entrepreneur, board director, strategic advisor, mentor, trustee, and notably, a trained pianist. Read more about him.  #Chatbots #VirtualAssistants #AI #IoT #AIoT #NLP #RPA #ConversationalAIoT #H2M https://t.co/h9sJCdpyQJ\tentrepreneur, Chatbots, VirtualAssistants, AI, IoT, AIoT, NLP, RPA, ConversationalAIoT, H2M\tFri Nov 27 20:30:00 +0000 2020\t0\t0\tFalse\tTrue\t1332421437341245448\tMirrorReview\tMirrorReview1\t4348\tPune, India\tNone\t\n"
        ],
        [
         "obj_news",
         "#Appliedresearch and #technologytransfer at @uOttawaGenie is addressing a range of societal needs to benefit all of us. Read about one team’s work with #AI and natural language processing, or #NLP. #uOttawa (sponsored)\tAppliedresearch, technologytransfer, AI, NLP, uOttawa\tFri Nov 27 20:30:00 +0000 2020\t0\t0\tFalse\tTrue\t1332421438117175299\tOBJ Ottawa News\tobj_news\t17355\tOttawa, Canada\tNone\t\n"
        ],
        [
         "5stocksinto",
         "5 Chinese Stocks Into E-Governance https://t.co/ZpTfTjzZxp #China #Technology #Stocks #Investing #Surveillance #SmartCities #CCTV #AI #Biometrics #Facialrecognition #cybersecurity #Detection #IoT #Stockmarket #Dividends #BigData\tChina, Technology, Stocks, Investing, Surveillance, SmartCities, CCTV, AI, Biometrics, Facialrecognition, cybersecurity, Detection, IoT, Stockmarket, Dividends, BigData\tFri Nov 27 20:30:03 +0000 2020\t0\t0\tTrue\tFalse\t1332421451274612737\tAndrew Duff\t5stocksinto\t1067\tWorldWide\tNone\t\n"
        ],
        [
         "Manifattura40",
         "#TechStuff: Opinion: How AI can push for equitable access to COVID-19 vaccines - Devex  #ai #ml #neuralnetworks #deeplearning #machinelearning  Read More Here: https://t.co/cPJb1zkeiQ\tTechStuff, ai, ml, neuralnetworks, deeplearning, machinelearning\tFri Nov 27 20:30:04 +0000 2020\t0\t0\tTrue\tFalse\t1332421452419756041\tIndustry 4.0\tManifattura40\t4693\tWeb\tNone\t\n"
        ],
        [
         "bobehayes",
         "December 2nd - #AI Enabled Business Live Premiere Registration... with @Ronald_vanLoon \"How to Advance Resilience and Agility with AI-Enabled Business Processes\"  https://t.co/J13neg0rTo  @SAP #artificialintelligence https://t.co/7w4A8k4o3e\tAI, artificialintelligence\tFri Nov 27 20:30:04 +0000 2020\t0\t0\tFalse\tTrue\t1332421453405417472\tBob E. Hayes\tbobehayes\t46161\tSeattle, WA\tNone\t\n"
        ],
        [
         "ConstructCanMag",
         "@autodesk acquires tech company @spacemaker_ai. https://t.co/kGRqSdRgl6. #ai #generativedesign #technology https://t.co/msymyuASBX\tai, generativedesign, technology\tFri Nov 27 20:30:06 +0000 2020\t0\t0\tFalse\tFalse\t1332421463098310659\tConstruction Canada\tConstructCanMag\t3544\tNone\tNone\t\n"
        ],
        [
         "FlutterBot007",
         "Our Pick For The Best Online Data Science courses And Programs https://t.co/KH2kKEOlsJ   #MachineLearning #DataScience #Python #AI #100DaysOfCode #DEVCommunity #IoT #flutter #javascript #Serverless #cybersecurity #RStats #CodeNewbie #WomenWhoCode #dataviz #DeepLearning #MLOps\tMachineLearning, DataScience, Python, AI, 100DaysOfCode, DEVCommunity, IoT, flutter, javascript, Serverless, cybersecurity, RStats, CodeNewbie, WomenWhoCode, dataviz, DeepLearning, MLOps\tFri Nov 27 20:30:07 +0000 2020\t0\t0\tTrue\tFalse\t1332421465648615433\tFlutter Bot\tFlutterBot007\t53\tNone\tNone\t\n"
        ],
        [
         "pdisoftware",
         "Manual processes reduce the time you have to focus on your customers. PDI #logistics solutions leverage #AI and #machinelearning to provide insights and improve decision making so you can focus on value-added work. https://t.co/HDWkE4BtYw https://t.co/nCNyXwEoA2\tlogistics, AI, machinelearning\tFri Nov 27 20:30:07 +0000 2020\t0\t0\tFalse\tTrue\t1332421466252603392\tPDI Software\tpdisoftware\t764\tAtlanta, GA\tNone\t\n"
        ],
        [
         "jmmoran12",
         "Bringing machine learning into marketing CAN improve business results. Here's how. https://t.co/Se2zSY6q02 #marketing #analytics #machinelearning #datascience\tmarketing, analytics, machinelearning, datascience\tFri Nov 27 20:30:09 +0000 2020\t0\t0\tFalse\tTrue\t1332421475580645376\tJonathan Moran\tjmmoran12\t619\tRaleigh, NC\tNone\t\n"
        ],
        [
         "TheCuriousLuke",
         "Bringing machine learning into marketing CAN improve business results. Here's how. https://t.co/Se2zSY6q02 #marketing #analytics #machinelearning #datascience\tmarketing, analytics, machinelearning, datascience\tFri Nov 27 20:30:12 +0000 2020\t0\t0\tTrue\tFalse\t1332421486855016448\tCurious Luke\tTheCuriousLuke\t5626\tSwitzerland\tNone\t\n"
        ],
        [
         "ML_Tweet_Bot",
         "Bringing machine learning into marketing CAN improve business results. Here's how. https://t.co/Se2zSY6q02 #marketing #analytics #machinelearning #datascience\tmarketing, analytics, machinelearning, datascience\tFri Nov 27 20:30:15 +0000 2020\t0\t0\tTrue\tFalse\t1332421498305474564\tMachine Learning Bot\tML_Tweet_Bot\t4149\tNone\tNone\t\n"
        ],
        [
         "iamShyd2",
         "This cable driven parallel #Robot could be used for different purposes such as product assembling, rehabilitation and filmmaking. By @gigadgets_ #AI #IoT #4IR #Robotics  #ArtificialIntelligence Cc: @PawlowskiMario @jblefevre60 @labordeolivier @mvollmer1  @kuriharan @Nicochan33 https://t.co/DV2EgKlXWR\tRobot, AI, IoT, 4IR, Robotics, ArtificialIntelligence\tFri Nov 27 20:30:15 +0000 2020\t0\t0\tTrue\tFalse\t1332421499718918147\tKwame Shyd 👑\tiamShyd2\t1392\tNone\tNone\t\n"
        ],
        [
         "WITI",
         "#FeatureFriday Sue Savage is the CFO of Blue Yonder. She believes data, software, and artificial intelligence is the key to future business growth!   Read more here: https://t.co/PAnghK993S #JoinWITI #womenwhowork #empoweringwomen #mentoring #successfulwomen #fintech #article #ai https://t.co/aSqBaH69sD\tFeatureFriday, JoinWITI, womenwhowork, empoweringwomen, mentoring, successfulwomen, fintech, article, ai\tFri Nov 27 20:30:15 +0000 2020\t0\t0\tFalse\tTrue\t1332421502285844482\tWITI - Women In Technology International\tWITI\t9607\tHeadquartered in CA\tNone\t\n"
        ],
        [
         "PeopleHum",
         "https://t.co/0Oexg2Cb1a Catch @stelzner, the founder and managing principal at IA as he discusses how the new-age leaders are stepping up &amp; moulding the future of work in HR in a positive way for the long haul! #hr #hrtech #futureofwork #nowofwork #ai #automation #leadership\thr, hrtech, futureofwork, nowofwork, ai, automation, leadership\tFri Nov 27 20:30:17 +0000 2020\t0\t0\tFalse\tTrue\t1332421509688778754\tpeopleHum\tPeopleHum\t2687\tSingapore\tNone\t\n"
        ],
        [
         "Manifattura40",
         "Free training day to accelerate innovation at your company- Microsoft Azure AI Machine Learning, Cognitive Services, Cognitive Search, bots - sign up here: https://t.co/CUaHF7rNqn https://t.co/CU0a5owXnc #innovation #AI https://t.co/sqKjoq3P7c\tinnovation, AI\tFri Nov 27 20:30:18 +0000 2020\t0\t0\tTrue\tFalse\t1332421512192782344\tIndustry 4.0\tManifattura40\t4693\tWeb\tNone\t\n"
        ],
        [
         "VUEngineering",
         "Starting w/ #COVID-19 open-source data, team will use #NSFConvergence pilot grant to streamline how research translates  to real-world applications #imaging #AI https://t.co/rmSaNrfdpY\tCOVID, NSFConvergence, imaging, AI\tFri Nov 27 20:30:20 +0000 2020\t0\t0\tFalse\tTrue\t1332421521038602244\tVU Engineering\tVUEngineering\t4033\tNashville, Tennessee\tNone\t\n"
        ],
        [
         "ConnectedWMag",
         "A new team is dedicated to the development and promotion of a standard for commercial markets. https://t.co/FP4rQw0Mla #IoT #sustainability #AI #5G #cloud #edge #futureofwork #infrastructure #digitaltransformation .@zigbeealliance .@SchneiderElec\tIoT, sustainability, AI, 5G, cloud, edge, futureofwork, infrastructure, digitaltransformation\tFri Nov 27 20:30:21 +0000 2020\t0\t0\tFalse\tTrue\t1332421525002211328\tPeggy Smedley\tConnectedWMag\t30726\tCarol Stream, IL\tNone\t\n"
        ],
        [
         "DataSocietyTW",
         "Get ready to take your organization’s decision making into the fast lane as we unveil the future of analytics #AI #ChiefDataOfficer #BusinessIntelligence @thoughtspot  https://t.co/elTQvqJ61f #7wDataEvent  https://t.co/e1XVPQpytb\tAI, ChiefDataOfficer, BusinessIntelligence, 7wDataEvent\tFri Nov 27 20:30:21 +0000 2020\t0\t0\tTrue\tFalse\t1332421526788988932\tData Society TW\tDataSocietyTW\t1180\tNetwork\tNone\t\n"
        ],
        [
         "Manifattura40",
         "Our advisor @pilarmanchon talking about #green #algorithms with the presence of the Secretary of State and innovation @carmeartigas  #Inspiringwomenleaders #Wstartupc #AI #ML https://t.co/nD6FtN6F2U\tgreen, algorithms, Inspiringwomenleaders, Wstartupc, AI, ML\tFri Nov 27 20:30:24 +0000 2020\t0\t0\tTrue\tFalse\t1332421537991946242\tIndustry 4.0\tManifattura40\t4693\tWeb\tNone\t\n"
        ],
        [
         "MetaPropNYC",
         "Are connected cars, kitchens and homes really the epitome of AI value?  There’s increased quality of life, reduced admin, improved budgeting, better use of resources and many others that optimize, transform and improve.  Read more: https://t.co/ajtiGYN7sC #PropTech #Investing #AI\tPropTech, Investing, AI\tFri Nov 27 20:30:24 +0000 2020\t0\t0\tFalse\tTrue\t1332421539376099331\tMetaProp\tMetaPropNYC\t6630\tNew York, NY\tNone\t\n"
        ],
        [
         "Multimedia_MMV",
         "The Journal of Multimedia MMV  https://t.co/2KLwzzTzxF #cybersecurity #ai\tcybersecurity, ai\tFri Nov 27 20:30:28 +0000 2020\t0\t0\tFalse\tFalse\t1332421552948850688\tMULTIMEDIA VALENCIA (MMV)\tMultimedia_MMV\t5305\tNone\tNone\t\n"
        ],
        [
         "BalanceOt",
         "#AI look at hourly charts #BTC  Since the top at 19488.81 on 2020/11/25  at 13 pm BTC/USD has been trending downwards on the one-hour chart, a series of lower lows and lower highs clearly indicates downwards...  Just choose your coin and be an expert! #crypto #trading https://t.co/JxFbicBHSv\tAI, BTC, crypto, trading\tFri Nov 27 20:30:28 +0000 2020\t0\t0\tFalse\tTrue\t1332421552932057088\tOcean Trade Balance (tweets ≠ financial advice)\tBalanceOt\t101\tNone\tNone\t\n"
        ],
        [
         "Manifattura40",
         "The Global Partnership on Artificial Intelligence website is now live! For updates, please follow @GPAI_PMIA  https://t.co/b5fVmEeERL #AI #ResponsibleAI\tAI, ResponsibleAI\tFri Nov 27 20:30:30 +0000 2020\t0\t0\tTrue\tFalse\t1332421563837247501\tIndustry 4.0\tManifattura40\t4693\tWeb\tNone\t\n"
        ],
        [
         "Strategic_Adv",
         "The latest Today's Daily Snapshot! https://t.co/ZLfiG0Qoop Thanks to @risingbricsam #nlp #machinelearning\tnlp, machinelearning\tFri Nov 27 20:30:31 +0000 2020\t0\t0\tFalse\tFalse\t1332421567901528065\tStrategic Growth LLC\tStrategic_Adv\t1\tNone\tNone\t\n"
        ],
        [
         "nfteam3",
         "Digital Twin Technology Simulation Models and Why Are They Special  #Machinelearning #100DaysOfCode #IoT #IIoT #Bigdata #100DaysOfMLCode #Python #flutter #cybersecurity #RStats #CodeNewbie #DataScience #DEVCommunity #RPA #artificialintelligence  https://t.co/Sx4Lat9apu\tMachinelearning, 100DaysOfCode, IoT, IIoT, Bigdata, 100DaysOfMLCode, Python, flutter, cybersecurity, RStats, CodeNewbie, DataScience, DEVCommunity, RPA, artificialintelligence\tFri Nov 27 20:30:40 +0000 2020\t0\t0\tTrue\tFalse\t1332421603431473155\tnfteam\tnfteam3\t1094\tSpain\tNone\t\n"
        ],
        [
         "AICatFacts",
         "How can I build a cute cat? It seems like you're very talented. It would be awesome to build a robot cat like your cat. Click to expand. #ai #cats https://t.co/fHMXBrUon8\tai, cats\tFri Nov 27 20:30:45 +0000 2020\t0\t0\tFalse\tTrue\t1332421627972255745\tA.I. Cat Facts\tAICatFacts\t602\tEphemeral instances\tNone\t\n"
        ],
        [
         "E_v_e__l_y_n",
         "WATCH: China's first high-speed maglev prototype with a designed top speed of 600 km/h CC @CurieuxExplorer #Robotics #FemTech #womenintech #AI #ArtificialIntelligence #Automation #100DaysOfCode #MachineLearning #CodeNewbie #100DaysOfMLCode #WomenWhoCode #VegaLMS 📽 via XHscitech https://t.co/2J7BzHfKV7\tRobotics, FemTech, womenintech, AI, ArtificialIntelligence, Automation, 100DaysOfCode, MachineLearning, CodeNewbie, 100DaysOfMLCode, WomenWhoCode, VegaLMS\tFri Nov 27 20:30:46 +0000 2020\t0\t0\tTrue\tFalse\t1332421630505734151\tEve-lyn\tE_v_e__l_y_n\t295\tNone\tNone\t\n"
        ],
        [
         "mlhcromwell16",
         "Fascinating and scary at the same time 😊\t\tFri Nov 27 20:30:49 +0000 2020\t0\t0\tTrue\tFalse\t1332421643004645376\t🇺🇸🌴🌞DepMo 🌴🇺🇸\tmlhcromwell16\t14280\twishing4Maui\tNone\t\n"
        ],
        [
         "micadam",
         "The latest The training Daily! https://t.co/d8Y597WwXL Thanks to @H2Standard #machinelearning #ai\tmachinelearning, ai\tFri Nov 27 20:30:52 +0000 2020\t0\t0\tFalse\tFalse\t1332421653654016007\tMic V Adam\tmicadam\t14254\tBrugge, Belgium\tNone\t\n"
        ],
        [
         "domingonarvaez1",
         "Top 10 mobile #risks and how to secure devices and #apps against them https://t.co/gKfeUNALFa via @ingliguori #IoT #Appsec #IIoT #CyberSecurity #infosec #dataprotection #cybersec #infosecurity #AI #DigitalTransformation #encryption #Security #DataSecurity #Hacking @antgrasso https://t.co/OOhlDGhwtg\trisks, apps, IoT, Appsec, IIoT, CyberSecurity, infosec, dataprotection, cybersec, infosecurity, AI, DigitalTransformation, encryption, Security, DataSecurity, Hacking\tFri Nov 27 20:30:59 +0000 2020\t0\t0\tTrue\tFalse\t1332421686797492231\tDomingo Narvaez\tdomingonarvaez1\t534\tAragua-Vzla\tNone\t\n"
        ],
        [
         "RichardEudes",
         "New technique builds animal brain–like spontaneity into AI https://t.co/KuUvAXqXZW #analytics, #artificialintelligence, #datascience, #machinelearning\tanalytics, artificialintelligence, datascience, machinelearning\tFri Nov 27 20:31:01 +0000 2020\t0\t0\tFalse\tTrue\t1332421691889291266\tRichard Eudes, PhD\tRichardEudes\t16570\tParis, France\tNone\t\n"
        ],
        [
         "Arnold_Haine",
         "10 Awesome Real-World Applications Of #DataScience And #AI https://t.co/T9bMYKEQu4 https://t.co/SxBWe6tzMi\tDataScience, AI\tFri Nov 27 20:31:01 +0000 2020\t0\t0\tFalse\tFalse\t1332421695051853832\tArnold Haine\tArnold_Haine\t8381\tParis\tNone\t\n"
        ],
        [
         "lhbalance",
         "The latest Strategy+Innovation! https://t.co/jFou1ctmbJ #ai #internetofthings\tai, internetofthings\tFri Nov 27 20:31:02 +0000 2020\t0\t0\tFalse\tFalse\t1332421697526517761\tLogical Heuristics\tlhbalance\t570\tAustin, TX\tNone\t\n"
        ]
       ],
       "datasetInfos": [],
       "dbfsResultPath": null,
       "isJsonSchema": true,
       "overflow": false,
       "plotOptions": {
        "customPlotOptions": {},
        "displayType": "table",
        "pivotAggregation": null,
        "pivotColumns": null,
        "xColumns": null,
        "yColumns": null
       },
       "removedWidgets": [],
       "schema": [
        {
         "metadata": "{}",
         "name": "partitionKey",
         "type": "\"string\""
        },
        {
         "metadata": "{}",
         "name": "data",
         "type": "\"string\""
        }
       ],
       "type": "table"
      }
     },
     "output_type": "display_data"
    }
   ],
   "source": [
    "%sql\n",
    "\n",
    "select partitionKey, cast(data as string) from tweets;"
   ]
  },
  {
   "cell_type": "code",
   "execution_count": null,
   "metadata": {
    "application/vnd.databricks.v1+cell": {
     "inputWidgets": {},
     "nuid": "3351f8e1-8ec3-4ef2-a82b-879c91492887",
     "showTitle": false,
     "title": ""
    }
   },
   "outputs": [
    {
     "data": {
      "text/html": [
       "<style scoped>\n",
       "  .ansiout {\n",
       "    display: block;\n",
       "    unicode-bidi: embed;\n",
       "    white-space: pre-wrap;\n",
       "    word-wrap: break-word;\n",
       "    word-break: break-all;\n",
       "    font-family: \"Source Code Pro\", \"Menlo\", monospace;;\n",
       "    font-size: 13px;\n",
       "    color: #555;\n",
       "    margin-left: 4px;\n",
       "    line-height: 19px;\n",
       "  }\n",
       "</style>\n",
       "<div class=\"ansiout\"></div>"
      ]
     },
     "metadata": {
      "application/vnd.databricks.v1+output": {
       "addedWidgets": {},
       "arguments": {},
       "data": "<div class=\"ansiout\"></div>",
       "datasetInfos": [
        {
         "name": "tweets",
         "schema": {
          "fields": [
           {
            "metadata": {},
            "name": "data",
            "nullable": true,
            "type": "string"
           }
          ],
          "type": "struct"
         },
         "tableIdentifier": null,
         "typeStr": "pyspark.sql.dataframe.DataFrame"
        }
       ],
       "removedWidgets": [],
       "type": "html"
      }
     },
     "output_type": "display_data"
    }
   ],
   "source": [
    "tweets = spark.sql(\"select cast(data as string) from tweets\")"
   ]
  },
  {
   "cell_type": "code",
   "execution_count": null,
   "metadata": {
    "application/vnd.databricks.v1+cell": {
     "inputWidgets": {},
     "nuid": "6134b97c-2e28-4360-9532-13fc8b7bdb64",
     "showTitle": false,
     "title": ""
    }
   },
   "outputs": [
    {
     "data": {
      "text/html": [
       "<style scoped>\n",
       "  .ansiout {\n",
       "    display: block;\n",
       "    unicode-bidi: embed;\n",
       "    white-space: pre-wrap;\n",
       "    word-wrap: break-word;\n",
       "    word-break: break-all;\n",
       "    font-family: \"Source Code Pro\", \"Menlo\", monospace;;\n",
       "    font-size: 13px;\n",
       "    color: #555;\n",
       "    margin-left: 4px;\n",
       "    line-height: 19px;\n",
       "  }\n",
       "</style>\n",
       "<div class=\"ansiout\">root\n",
       "-- data: string (nullable = true)\n",
       "\n",
       "</div>"
      ]
     },
     "metadata": {
      "application/vnd.databricks.v1+output": {
       "addedWidgets": {},
       "arguments": {},
       "data": "<div class=\"ansiout\">root\n |-- data: string (nullable = true)\n\n</div>",
       "datasetInfos": [],
       "removedWidgets": [],
       "type": "html"
      }
     },
     "output_type": "display_data"
    }
   ],
   "source": [
    "tweets.printSchema()"
   ]
  },
  {
   "cell_type": "code",
   "execution_count": null,
   "metadata": {
    "application/vnd.databricks.v1+cell": {
     "inputWidgets": {},
     "nuid": "881573fa-3b43-4453-857a-4b4de5d316ce",
     "showTitle": false,
     "title": ""
    }
   },
   "outputs": [
    {
     "data": {
      "text/html": [
       "<style scoped>\n",
       "  .ansiout {\n",
       "    display: block;\n",
       "    unicode-bidi: embed;\n",
       "    white-space: pre-wrap;\n",
       "    word-wrap: break-word;\n",
       "    word-break: break-all;\n",
       "    font-family: \"Source Code Pro\", \"Menlo\", monospace;;\n",
       "    font-size: 13px;\n",
       "    color: #555;\n",
       "    margin-left: 4px;\n",
       "    line-height: 19px;\n",
       "  }\n",
       "</style>\n",
       "<div class=\"ansiout\">+--------------------------------------------------------------------------------------------------------------------------------------------------------------------------------------------------------------------------------------------------------------------------------------------------------------------------------------------------------------------------------------------------------------------------------------------------------------------------------------------------------------------------------------------------------------------------------------------------------------------------------------------+\n",
       "data                                                                                                                                                                                                                                                                                                                                                                                                                                                                                                                                                                                                                                        |\n",
       "+--------------------------------------------------------------------------------------------------------------------------------------------------------------------------------------------------------------------------------------------------------------------------------------------------------------------------------------------------------------------------------------------------------------------------------------------------------------------------------------------------------------------------------------------------------------------------------------------------------------------------------------------+\n",
       "The pope has joined forces with #Microsoft and #IBM to create a doctrine for ethical #AI and facial recognition. Here&#39;s how the Vatican wants to shape it👇 https://t.co/TW653XayEE\tMicrosoft, IBM, AI\tFri Nov 27 20:28:00 +0000 2020\t0\t0\tTrue\tFalse\t1332420933169143809\tAbdulrahmanAlSultan 🇸🇦\twelcomehier\t2482\tSA\tNone\t\n",
       "\n",
       "Machine Learning with Core ML 2 and Swift 5  @udemy   ➡️https://t.co/xHqTShMund  #MachineLearning #Swift5 #AugmentedReality #DeepLearning #Analytics #DataScience #AI #IoT #IIoT #Python #RStats #CloudComputing #Serverless #Linux #Coding #100DaysofCode #100DaysOfMLCode #udemycoupon https://t.co/qD5q6TLm4a\tMachineLearning, Swift5, AugmentedReality, DeepLearning, Analytics, DataScience, AI, IoT, IIoT, Python, RStats, CloudComputing, Serverless, Linux, Coding, 100DaysofCode, 100DaysOfMLCode, udemycoupon\tFri Nov 27 20:28:04 +0000 2020\t0\t0\tTrue\tFalse\t1332420949266886659\tAlexey Chang\tAlexeyChang\t146\tRussia\tNone\t\n",
       "\n",
       "New research: #AI systems lack common sense needed to generate plausible sentences https://t.co/ZDa0IHfkvc via @TechXplore_com\tAI\tFri Nov 27 20:28:07 +0000 2020\t0\t0\tFalse\tFalse\t1332420963556843524\tCSTV\tUW_CSTV\t190\tUniversity of Waterloo\tNone\t\n",
       "\n",
       "The latest Breaking Banks Asia! https://t.co/EuUiryRZI1 Thanks to @LeeSlaterSCB @MaximilieMoreau @AlgorithmXLab #fintech #ai\tfintech, ai\tFri Nov 27 20:28:09 +0000 2020\t0\t0\tTrue\tFalse\t1332420969680531456\tFINTECHNA\tfintechna\t27980\tLON | NYC | HKG  | SYD | SIN\tNone\t\n",
       "\n",
       "Machine Learning with Core ML 2 and Swift 5  @udemy   ➡️https://t.co/xHqTShMund  #MachineLearning #Swift5 #AugmentedReality #DeepLearning #Analytics #DataScience #AI #IoT #IIoT #Python #RStats #CloudComputing #Serverless #Linux #Coding #100DaysofCode #100DaysOfMLCode #udemycoupon https://t.co/qD5q6TLm4a\tMachineLearning, Swift5, AugmentedReality, DeepLearning, Analytics, DataScience, AI, IoT, IIoT, Python, RStats, CloudComputing, Serverless, Linux, Coding, 100DaysofCode, 100DaysOfMLCode, udemycoupon\tFri Nov 27 20:28:09 +0000 2020\t0\t0\tTrue\tFalse\t1332420971844788229\tMachine Learning Bot\tML_Tweet_Bot\t4149\tNone\tNone\t\n",
       "\n",
       "+--------------------------------------------------------------------------------------------------------------------------------------------------------------------------------------------------------------------------------------------------------------------------------------------------------------------------------------------------------------------------------------------------------------------------------------------------------------------------------------------------------------------------------------------------------------------------------------------------------------------------------------------+\n",
       "only showing top 5 rows\n",
       "\n",
       "</div>"
      ]
     },
     "metadata": {
      "application/vnd.databricks.v1+output": {
       "addedWidgets": {},
       "arguments": {},
       "data": "<div class=\"ansiout\">+--------------------------------------------------------------------------------------------------------------------------------------------------------------------------------------------------------------------------------------------------------------------------------------------------------------------------------------------------------------------------------------------------------------------------------------------------------------------------------------------------------------------------------------------------------------------------------------------------------------------------------------------+\n|data                                                                                                                                                                                                                                                                                                                                                                                                                                                                                                                                                                                                                                        |\n+--------------------------------------------------------------------------------------------------------------------------------------------------------------------------------------------------------------------------------------------------------------------------------------------------------------------------------------------------------------------------------------------------------------------------------------------------------------------------------------------------------------------------------------------------------------------------------------------------------------------------------------------+\n|The pope has joined forces with #Microsoft and #IBM to create a doctrine for ethical #AI and facial recognition. Here&#39;s how the Vatican wants to shape it👇 https://t.co/TW653XayEE\tMicrosoft, IBM, AI\tFri Nov 27 20:28:00 +0000 2020\t0\t0\tTrue\tFalse\t1332420933169143809\tAbdulrahmanAlSultan 🇸🇦\twelcomehier\t2482\tSA\tNone\t\n                                                                                                                                                                                                                                                                                                                |\n|Machine Learning with Core ML 2 and Swift 5  @udemy   ➡️https://t.co/xHqTShMund  #MachineLearning #Swift5 #AugmentedReality #DeepLearning #Analytics #DataScience #AI #IoT #IIoT #Python #RStats #CloudComputing #Serverless #Linux #Coding #100DaysofCode #100DaysOfMLCode #udemycoupon https://t.co/qD5q6TLm4a\tMachineLearning, Swift5, AugmentedReality, DeepLearning, Analytics, DataScience, AI, IoT, IIoT, Python, RStats, CloudComputing, Serverless, Linux, Coding, 100DaysofCode, 100DaysOfMLCode, udemycoupon\tFri Nov 27 20:28:04 +0000 2020\t0\t0\tTrue\tFalse\t1332420949266886659\tAlexey Chang\tAlexeyChang\t146\tRussia\tNone\t\n        |\n|New research: #AI systems lack common sense needed to generate plausible sentences https://t.co/ZDa0IHfkvc via @TechXplore_com\tAI\tFri Nov 27 20:28:07 +0000 2020\t0\t0\tFalse\tFalse\t1332420963556843524\tCSTV\tUW_CSTV\t190\tUniversity of Waterloo\tNone\t\n                                                                                                                                                                                                                                                                                                                                                                                         |\n|The latest Breaking Banks Asia! https://t.co/EuUiryRZI1 Thanks to @LeeSlaterSCB @MaximilieMoreau @AlgorithmXLab #fintech #ai\tfintech, ai\tFri Nov 27 20:28:09 +0000 2020\t0\t0\tTrue\tFalse\t1332420969680531456\tFINTECHNA\tfintechna\t27980\tLON | NYC | HKG  | SYD | SIN\tNone\t\n                                                                                                                                                                                                                                                                                                                                                                    |\n|Machine Learning with Core ML 2 and Swift 5  @udemy   ➡️https://t.co/xHqTShMund  #MachineLearning #Swift5 #AugmentedReality #DeepLearning #Analytics #DataScience #AI #IoT #IIoT #Python #RStats #CloudComputing #Serverless #Linux #Coding #100DaysofCode #100DaysOfMLCode #udemycoupon https://t.co/qD5q6TLm4a\tMachineLearning, Swift5, AugmentedReality, DeepLearning, Analytics, DataScience, AI, IoT, IIoT, Python, RStats, CloudComputing, Serverless, Linux, Coding, 100DaysofCode, 100DaysOfMLCode, udemycoupon\tFri Nov 27 20:28:09 +0000 2020\t0\t0\tTrue\tFalse\t1332420971844788229\tMachine Learning Bot\tML_Tweet_Bot\t4149\tNone\tNone\t\n|\n+--------------------------------------------------------------------------------------------------------------------------------------------------------------------------------------------------------------------------------------------------------------------------------------------------------------------------------------------------------------------------------------------------------------------------------------------------------------------------------------------------------------------------------------------------------------------------------------------------------------------------------------------+\nonly showing top 5 rows\n\n</div>",
       "datasetInfos": [],
       "removedWidgets": [],
       "type": "html"
      }
     },
     "output_type": "display_data"
    }
   ],
   "source": [
    "tweets.show(5, truncate=False)"
   ]
  },
  {
   "cell_type": "code",
   "execution_count": null,
   "metadata": {
    "application/vnd.databricks.v1+cell": {
     "inputWidgets": {},
     "nuid": "919eeecb-3393-4b0f-b79e-26342c39b0f3",
     "showTitle": false,
     "title": ""
    }
   },
   "outputs": [
    {
     "data": {
      "text/html": [
       "<style scoped>\n",
       "  .ansiout {\n",
       "    display: block;\n",
       "    unicode-bidi: embed;\n",
       "    white-space: pre-wrap;\n",
       "    word-wrap: break-word;\n",
       "    word-break: break-all;\n",
       "    font-family: \"Source Code Pro\", \"Menlo\", monospace;;\n",
       "    font-size: 13px;\n",
       "    color: #555;\n",
       "    margin-left: 4px;\n",
       "    line-height: 19px;\n",
       "  }\n",
       "</style>\n",
       "<div class=\"ansiout\">Out[26]: 978</div>"
      ]
     },
     "metadata": {
      "application/vnd.databricks.v1+output": {
       "addedWidgets": {},
       "arguments": {},
       "data": "<div class=\"ansiout\">Out[26]: 978</div>",
       "datasetInfos": [],
       "removedWidgets": [],
       "type": "html"
      }
     },
     "output_type": "display_data"
    }
   ],
   "source": [
    "tweets.count()"
   ]
  },
  {
   "cell_type": "code",
   "execution_count": null,
   "metadata": {
    "application/vnd.databricks.v1+cell": {
     "inputWidgets": {},
     "nuid": "0d7a0637-5d5e-4398-92b6-d431cf10ea3f",
     "showTitle": false,
     "title": ""
    }
   },
   "outputs": [
    {
     "data": {
      "text/html": [
       "<style scoped>\n",
       "  .ansiout {\n",
       "    display: block;\n",
       "    unicode-bidi: embed;\n",
       "    white-space: pre-wrap;\n",
       "    word-wrap: break-word;\n",
       "    word-break: break-all;\n",
       "    font-family: \"Source Code Pro\", \"Menlo\", monospace;;\n",
       "    font-size: 13px;\n",
       "    color: #555;\n",
       "    margin-left: 4px;\n",
       "    line-height: 19px;\n",
       "  }\n",
       "</style>\n",
       "<div class=\"ansiout\">+--------------------+\n",
       "                data|\n",
       "+--------------------+\n",
       "The pope has join...|\n",
       "Machine Learning ...|\n",
       "New research: #AI...|\n",
       "The latest Breaki...|\n",
       "Machine Learning ...|\n",
       "+--------------------+\n",
       "only showing top 5 rows\n",
       "\n",
       "</div>"
      ]
     },
     "metadata": {
      "application/vnd.databricks.v1+output": {
       "addedWidgets": {},
       "arguments": {},
       "data": "<div class=\"ansiout\">+--------------------+\n|                data|\n+--------------------+\n|The pope has join...|\n|Machine Learning ...|\n|New research: #AI...|\n|The latest Breaki...|\n|Machine Learning ...|\n+--------------------+\nonly showing top 5 rows\n\n</div>",
       "datasetInfos": [
        {
         "name": "tweets_sample",
         "schema": {
          "fields": [
           {
            "metadata": {},
            "name": "data",
            "nullable": true,
            "type": "string"
           }
          ],
          "type": "struct"
         },
         "tableIdentifier": null,
         "typeStr": "pyspark.sql.dataframe.DataFrame"
        }
       ],
       "removedWidgets": [],
       "type": "html"
      }
     },
     "output_type": "display_data"
    }
   ],
   "source": [
    "tweets_sample = tweets.limit(50)\n",
    "tweets_sample.cache()\n",
    "tweets_sample.show(5)"
   ]
  },
  {
   "cell_type": "code",
   "execution_count": null,
   "metadata": {
    "application/vnd.databricks.v1+cell": {
     "inputWidgets": {},
     "nuid": "b978444a-4091-4732-9abf-864e1aeb5880",
     "showTitle": false,
     "title": ""
    }
   },
   "outputs": [
    {
     "data": {
      "text/html": [
       "<style scoped>\n",
       "  .ansiout {\n",
       "    display: block;\n",
       "    unicode-bidi: embed;\n",
       "    white-space: pre-wrap;\n",
       "    word-wrap: break-word;\n",
       "    word-break: break-all;\n",
       "    font-family: \"Source Code Pro\", \"Menlo\", monospace;;\n",
       "    font-size: 13px;\n",
       "    color: #555;\n",
       "    margin-left: 4px;\n",
       "    line-height: 19px;\n",
       "  }\n",
       "</style>\n",
       "<div class=\"ansiout\">+--------------------------------------------------------------------------------------------------------------------------------------------------------------------------------------------------------------------------------------------------------------------------------------------------------------------------------------------------------------------------------------------------------------------------------------------------------------------------------------------------------------------------------------------------------------------------------------------------------------------------------------------+\n",
       "data                                                                                                                                                                                                                                                                                                                                                                                                                                                                                                                                                                                                                                        |\n",
       "+--------------------------------------------------------------------------------------------------------------------------------------------------------------------------------------------------------------------------------------------------------------------------------------------------------------------------------------------------------------------------------------------------------------------------------------------------------------------------------------------------------------------------------------------------------------------------------------------------------------------------------------------+\n",
       "The pope has joined forces with #Microsoft and #IBM to create a doctrine for ethical #AI and facial recognition. Here&#39;s how the Vatican wants to shape it👇 https://t.co/TW653XayEE\tMicrosoft, IBM, AI\tFri Nov 27 20:28:00 +0000 2020\t0\t0\tTrue\tFalse\t1332420933169143809\tAbdulrahmanAlSultan 🇸🇦\twelcomehier\t2482\tSA\tNone\t\n",
       "\n",
       "Machine Learning with Core ML 2 and Swift 5  @udemy   ➡️https://t.co/xHqTShMund  #MachineLearning #Swift5 #AugmentedReality #DeepLearning #Analytics #DataScience #AI #IoT #IIoT #Python #RStats #CloudComputing #Serverless #Linux #Coding #100DaysofCode #100DaysOfMLCode #udemycoupon https://t.co/qD5q6TLm4a\tMachineLearning, Swift5, AugmentedReality, DeepLearning, Analytics, DataScience, AI, IoT, IIoT, Python, RStats, CloudComputing, Serverless, Linux, Coding, 100DaysofCode, 100DaysOfMLCode, udemycoupon\tFri Nov 27 20:28:04 +0000 2020\t0\t0\tTrue\tFalse\t1332420949266886659\tAlexey Chang\tAlexeyChang\t146\tRussia\tNone\t\n",
       "\n",
       "New research: #AI systems lack common sense needed to generate plausible sentences https://t.co/ZDa0IHfkvc via @TechXplore_com\tAI\tFri Nov 27 20:28:07 +0000 2020\t0\t0\tFalse\tFalse\t1332420963556843524\tCSTV\tUW_CSTV\t190\tUniversity of Waterloo\tNone\t\n",
       "\n",
       "The latest Breaking Banks Asia! https://t.co/EuUiryRZI1 Thanks to @LeeSlaterSCB @MaximilieMoreau @AlgorithmXLab #fintech #ai\tfintech, ai\tFri Nov 27 20:28:09 +0000 2020\t0\t0\tTrue\tFalse\t1332420969680531456\tFINTECHNA\tfintechna\t27980\tLON | NYC | HKG  | SYD | SIN\tNone\t\n",
       "\n",
       "Machine Learning with Core ML 2 and Swift 5  @udemy   ➡️https://t.co/xHqTShMund  #MachineLearning #Swift5 #AugmentedReality #DeepLearning #Analytics #DataScience #AI #IoT #IIoT #Python #RStats #CloudComputing #Serverless #Linux #Coding #100DaysofCode #100DaysOfMLCode #udemycoupon https://t.co/qD5q6TLm4a\tMachineLearning, Swift5, AugmentedReality, DeepLearning, Analytics, DataScience, AI, IoT, IIoT, Python, RStats, CloudComputing, Serverless, Linux, Coding, 100DaysofCode, 100DaysOfMLCode, udemycoupon\tFri Nov 27 20:28:09 +0000 2020\t0\t0\tTrue\tFalse\t1332420971844788229\tMachine Learning Bot\tML_Tweet_Bot\t4149\tNone\tNone\t\n",
       "\n",
       "+--------------------------------------------------------------------------------------------------------------------------------------------------------------------------------------------------------------------------------------------------------------------------------------------------------------------------------------------------------------------------------------------------------------------------------------------------------------------------------------------------------------------------------------------------------------------------------------------------------------------------------------------+\n",
       "only showing top 5 rows\n",
       "\n",
       "</div>"
      ]
     },
     "metadata": {
      "application/vnd.databricks.v1+output": {
       "addedWidgets": {},
       "arguments": {},
       "data": "<div class=\"ansiout\">+--------------------------------------------------------------------------------------------------------------------------------------------------------------------------------------------------------------------------------------------------------------------------------------------------------------------------------------------------------------------------------------------------------------------------------------------------------------------------------------------------------------------------------------------------------------------------------------------------------------------------------------------+\n|data                                                                                                                                                                                                                                                                                                                                                                                                                                                                                                                                                                                                                                        |\n+--------------------------------------------------------------------------------------------------------------------------------------------------------------------------------------------------------------------------------------------------------------------------------------------------------------------------------------------------------------------------------------------------------------------------------------------------------------------------------------------------------------------------------------------------------------------------------------------------------------------------------------------+\n|The pope has joined forces with #Microsoft and #IBM to create a doctrine for ethical #AI and facial recognition. Here&#39;s how the Vatican wants to shape it👇 https://t.co/TW653XayEE\tMicrosoft, IBM, AI\tFri Nov 27 20:28:00 +0000 2020\t0\t0\tTrue\tFalse\t1332420933169143809\tAbdulrahmanAlSultan 🇸🇦\twelcomehier\t2482\tSA\tNone\t\n                                                                                                                                                                                                                                                                                                                |\n|Machine Learning with Core ML 2 and Swift 5  @udemy   ➡️https://t.co/xHqTShMund  #MachineLearning #Swift5 #AugmentedReality #DeepLearning #Analytics #DataScience #AI #IoT #IIoT #Python #RStats #CloudComputing #Serverless #Linux #Coding #100DaysofCode #100DaysOfMLCode #udemycoupon https://t.co/qD5q6TLm4a\tMachineLearning, Swift5, AugmentedReality, DeepLearning, Analytics, DataScience, AI, IoT, IIoT, Python, RStats, CloudComputing, Serverless, Linux, Coding, 100DaysofCode, 100DaysOfMLCode, udemycoupon\tFri Nov 27 20:28:04 +0000 2020\t0\t0\tTrue\tFalse\t1332420949266886659\tAlexey Chang\tAlexeyChang\t146\tRussia\tNone\t\n        |\n|New research: #AI systems lack common sense needed to generate plausible sentences https://t.co/ZDa0IHfkvc via @TechXplore_com\tAI\tFri Nov 27 20:28:07 +0000 2020\t0\t0\tFalse\tFalse\t1332420963556843524\tCSTV\tUW_CSTV\t190\tUniversity of Waterloo\tNone\t\n                                                                                                                                                                                                                                                                                                                                                                                         |\n|The latest Breaking Banks Asia! https://t.co/EuUiryRZI1 Thanks to @LeeSlaterSCB @MaximilieMoreau @AlgorithmXLab #fintech #ai\tfintech, ai\tFri Nov 27 20:28:09 +0000 2020\t0\t0\tTrue\tFalse\t1332420969680531456\tFINTECHNA\tfintechna\t27980\tLON | NYC | HKG  | SYD | SIN\tNone\t\n                                                                                                                                                                                                                                                                                                                                                                    |\n|Machine Learning with Core ML 2 and Swift 5  @udemy   ➡️https://t.co/xHqTShMund  #MachineLearning #Swift5 #AugmentedReality #DeepLearning #Analytics #DataScience #AI #IoT #IIoT #Python #RStats #CloudComputing #Serverless #Linux #Coding #100DaysofCode #100DaysOfMLCode #udemycoupon https://t.co/qD5q6TLm4a\tMachineLearning, Swift5, AugmentedReality, DeepLearning, Analytics, DataScience, AI, IoT, IIoT, Python, RStats, CloudComputing, Serverless, Linux, Coding, 100DaysofCode, 100DaysOfMLCode, udemycoupon\tFri Nov 27 20:28:09 +0000 2020\t0\t0\tTrue\tFalse\t1332420971844788229\tMachine Learning Bot\tML_Tweet_Bot\t4149\tNone\tNone\t\n|\n+--------------------------------------------------------------------------------------------------------------------------------------------------------------------------------------------------------------------------------------------------------------------------------------------------------------------------------------------------------------------------------------------------------------------------------------------------------------------------------------------------------------------------------------------------------------------------------------------------------------------------------------------+\nonly showing top 5 rows\n\n</div>",
       "datasetInfos": [],
       "removedWidgets": [],
       "type": "html"
      }
     },
     "output_type": "display_data"
    }
   ],
   "source": [
    "tweets_sample.show(5, truncate=False)"
   ]
  },
  {
   "cell_type": "code",
   "execution_count": null,
   "metadata": {
    "application/vnd.databricks.v1+cell": {
     "inputWidgets": {},
     "nuid": "972d05ee-d842-42d9-b9f2-4b7ab4a1bba0",
     "showTitle": false,
     "title": ""
    }
   },
   "outputs": [
    {
     "data": {
      "text/html": [
       "<style scoped>\n",
       "  .ansiout {\n",
       "    display: block;\n",
       "    unicode-bidi: embed;\n",
       "    white-space: pre-wrap;\n",
       "    word-wrap: break-word;\n",
       "    word-break: break-all;\n",
       "    font-family: \"Source Code Pro\", \"Menlo\", monospace;;\n",
       "    font-size: 13px;\n",
       "    color: #555;\n",
       "    margin-left: 4px;\n",
       "    line-height: 19px;\n",
       "  }\n",
       "</style>\n",
       "<div class=\"ansiout\">Out[7]: 88</div>"
      ]
     },
     "metadata": {
      "application/vnd.databricks.v1+output": {
       "addedWidgets": {},
       "arguments": {},
       "data": "<div class=\"ansiout\">Out[7]: 88</div>",
       "datasetInfos": [],
       "removedWidgets": [],
       "type": "html"
      }
     },
     "output_type": "display_data"
    }
   ],
   "source": []
  },
  {
   "cell_type": "code",
   "execution_count": null,
   "metadata": {
    "application/vnd.databricks.v1+cell": {
     "inputWidgets": {},
     "nuid": "8c304b77-6f1c-4c07-920a-842afd0b2b13",
     "showTitle": false,
     "title": ""
    }
   },
   "outputs": [
    {
     "data": {
      "text/html": [
       "<style scoped>\n",
       "  .table-result-container {\n",
       "    max-height: 300px;\n",
       "    overflow: auto;\n",
       "  }\n",
       "  table, th, td {\n",
       "    border: 1px solid black;\n",
       "    border-collapse: collapse;\n",
       "  }\n",
       "  th, td {\n",
       "    padding: 5px;\n",
       "  }\n",
       "  th {\n",
       "    text-align: left;\n",
       "  }\n",
       "</style><div class='table-result-container'><table class='table-result'><thead style='background-color: white'><tr><th>path</th><th>name</th><th>size</th></tr></thead><tbody><tr><td>dbfs:/mnt/anonymous_telecom/</td><td>anonymous_telecom/</td><td>0</td></tr><tr><td>dbfs:/mnt/aws_logs/</td><td>aws_logs/</td><td>0</td></tr><tr><td>dbfs:/mnt/bikeshare/</td><td>bikeshare/</td><td>0</td></tr><tr><td>dbfs:/mnt/cdr/</td><td>cdr/</td><td>0</td></tr><tr><td>dbfs:/mnt/china_telecom_churn/</td><td>china_telecom_churn/</td><td>0</td></tr><tr><td>dbfs:/mnt/geo/</td><td>geo/</td><td>0</td></tr><tr><td>dbfs:/mnt/movie/</td><td>movie/</td><td>0</td></tr><tr><td>dbfs:/mnt/my_twitter_data_project/</td><td>my_twitter_data_project/</td><td>0</td></tr><tr><td>dbfs:/mnt/orange/</td><td>orange/</td><td>0</td></tr><tr><td>dbfs:/mnt/paysim_fraud/</td><td>paysim_fraud/</td><td>0</td></tr><tr><td>dbfs:/mnt/shakespeare/</td><td>shakespeare/</td><td>0</td></tr><tr><td>dbfs:/mnt/stackoverflow/</td><td>stackoverflow/</td><td>0</td></tr><tr><td>dbfs:/mnt/twitter/</td><td>twitter/</td><td>0</td></tr><tr><td>dbfs:/mnt/twitter_sentiment_dataset/</td><td>twitter_sentiment_dataset/</td><td>0</td></tr><tr><td>dbfs:/mnt/wikipedia/</td><td>wikipedia/</td><td>0</td></tr></tbody></table></div>"
      ]
     },
     "metadata": {
      "application/vnd.databricks.v1+output": {
       "addedWidgets": {},
       "aggData": [],
       "aggError": "",
       "aggOverflow": false,
       "aggSchema": [],
       "aggSeriesLimitReached": false,
       "aggType": "",
       "arguments": {},
       "columnCustomDisplayInfos": {},
       "data": [
        [
         "dbfs:/mnt/anonymous_telecom/",
         "anonymous_telecom/",
         0
        ],
        [
         "dbfs:/mnt/aws_logs/",
         "aws_logs/",
         0
        ],
        [
         "dbfs:/mnt/bikeshare/",
         "bikeshare/",
         0
        ],
        [
         "dbfs:/mnt/cdr/",
         "cdr/",
         0
        ],
        [
         "dbfs:/mnt/china_telecom_churn/",
         "china_telecom_churn/",
         0
        ],
        [
         "dbfs:/mnt/geo/",
         "geo/",
         0
        ],
        [
         "dbfs:/mnt/movie/",
         "movie/",
         0
        ],
        [
         "dbfs:/mnt/my_twitter_data_project/",
         "my_twitter_data_project/",
         0
        ],
        [
         "dbfs:/mnt/orange/",
         "orange/",
         0
        ],
        [
         "dbfs:/mnt/paysim_fraud/",
         "paysim_fraud/",
         0
        ],
        [
         "dbfs:/mnt/shakespeare/",
         "shakespeare/",
         0
        ],
        [
         "dbfs:/mnt/stackoverflow/",
         "stackoverflow/",
         0
        ],
        [
         "dbfs:/mnt/twitter/",
         "twitter/",
         0
        ],
        [
         "dbfs:/mnt/twitter_sentiment_dataset/",
         "twitter_sentiment_dataset/",
         0
        ],
        [
         "dbfs:/mnt/wikipedia/",
         "wikipedia/",
         0
        ]
       ],
       "datasetInfos": [],
       "dbfsResultPath": null,
       "isJsonSchema": true,
       "overflow": false,
       "plotOptions": {
        "customPlotOptions": {},
        "displayType": "table",
        "pivotAggregation": null,
        "pivotColumns": null,
        "xColumns": null,
        "yColumns": null
       },
       "removedWidgets": [],
       "schema": [
        {
         "metadata": "{}",
         "name": "path",
         "type": "\"string\""
        },
        {
         "metadata": "{}",
         "name": "name",
         "type": "\"string\""
        },
        {
         "metadata": "{}",
         "name": "size",
         "type": "\"long\""
        }
       ],
       "type": "table"
      }
     },
     "output_type": "display_data"
    }
   ],
   "source": [
    "%fs ls /mnt/"
   ]
  },
  {
   "cell_type": "code",
   "execution_count": null,
   "metadata": {
    "application/vnd.databricks.v1+cell": {
     "inputWidgets": {},
     "nuid": "a264d766-749d-4d2e-9425-35b9584692e9",
     "showTitle": false,
     "title": ""
    }
   },
   "outputs": [
    {
     "data": {
      "text/html": [
       "<style scoped>\n",
       "  .table-result-container {\n",
       "    max-height: 300px;\n",
       "    overflow: auto;\n",
       "  }\n",
       "  table, th, td {\n",
       "    border: 1px solid black;\n",
       "    border-collapse: collapse;\n",
       "  }\n",
       "  th, td {\n",
       "    padding: 5px;\n",
       "  }\n",
       "  th {\n",
       "    text-align: left;\n",
       "  }\n",
       "</style><div class='table-result-container'><table class='table-result'><thead style='background-color: white'><tr><th>path</th><th>name</th><th>size</th></tr></thead><tbody><tr><td>dbfs:/mnt/my_twitter_data_project/2020/</td><td>2020/</td><td>0</td></tr><tr><td>dbfs:/mnt/my_twitter_data_project/EMR_bootstrap.sh</td><td>EMR_bootstrap.sh</td><td>231</td></tr><tr><td>dbfs:/mnt/my_twitter_data_project/ML_models/</td><td>ML_models/</td><td>0</td></tr><tr><td>dbfs:/mnt/my_twitter_data_project/_metadata</td><td>_metadata</td><td>0</td></tr><tr><td>dbfs:/mnt/my_twitter_data_project/archived/</td><td>archived/</td><td>0</td></tr><tr><td>dbfs:/mnt/my_twitter_data_project/e-C5ILVFSIV1XJG93IA6UOH3E9D/</td><td>e-C5ILVFSIV1XJG93IA6UOH3E9D/</td><td>0</td></tr><tr><td>dbfs:/mnt/my_twitter_data_project/e-DAI1FF74OJ28MX3NGIPULOOE7/</td><td>e-DAI1FF74OJ28MX3NGIPULOOE7/</td><td>0</td></tr><tr><td>dbfs:/mnt/my_twitter_data_project/e-GZ60A1KFQY7FICPF38QRQ33A/</td><td>e-GZ60A1KFQY7FICPF38QRQ33A/</td><td>0</td></tr><tr><td>dbfs:/mnt/my_twitter_data_project/parquet/</td><td>parquet/</td><td>0</td></tr><tr><td>dbfs:/mnt/my_twitter_data_project/sparkLDA.zip</td><td>sparkLDA.zip</td><td>9752</td></tr></tbody></table></div>"
      ]
     },
     "metadata": {
      "application/vnd.databricks.v1+output": {
       "addedWidgets": {},
       "aggData": [],
       "aggError": "",
       "aggOverflow": false,
       "aggSchema": [],
       "aggSeriesLimitReached": false,
       "aggType": "",
       "arguments": {},
       "columnCustomDisplayInfos": {},
       "data": [
        [
         "dbfs:/mnt/my_twitter_data_project/2020/",
         "2020/",
         0
        ],
        [
         "dbfs:/mnt/my_twitter_data_project/EMR_bootstrap.sh",
         "EMR_bootstrap.sh",
         231
        ],
        [
         "dbfs:/mnt/my_twitter_data_project/ML_models/",
         "ML_models/",
         0
        ],
        [
         "dbfs:/mnt/my_twitter_data_project/_metadata",
         "_metadata",
         0
        ],
        [
         "dbfs:/mnt/my_twitter_data_project/archived/",
         "archived/",
         0
        ],
        [
         "dbfs:/mnt/my_twitter_data_project/e-C5ILVFSIV1XJG93IA6UOH3E9D/",
         "e-C5ILVFSIV1XJG93IA6UOH3E9D/",
         0
        ],
        [
         "dbfs:/mnt/my_twitter_data_project/e-DAI1FF74OJ28MX3NGIPULOOE7/",
         "e-DAI1FF74OJ28MX3NGIPULOOE7/",
         0
        ],
        [
         "dbfs:/mnt/my_twitter_data_project/e-GZ60A1KFQY7FICPF38QRQ33A/",
         "e-GZ60A1KFQY7FICPF38QRQ33A/",
         0
        ],
        [
         "dbfs:/mnt/my_twitter_data_project/parquet/",
         "parquet/",
         0
        ],
        [
         "dbfs:/mnt/my_twitter_data_project/sparkLDA.zip",
         "sparkLDA.zip",
         9752
        ]
       ],
       "datasetInfos": [],
       "dbfsResultPath": null,
       "isJsonSchema": true,
       "overflow": false,
       "plotOptions": {
        "customPlotOptions": {},
        "displayType": "table",
        "pivotAggregation": null,
        "pivotColumns": null,
        "xColumns": null,
        "yColumns": null
       },
       "removedWidgets": [],
       "schema": [
        {
         "metadata": "{}",
         "name": "path",
         "type": "\"string\""
        },
        {
         "metadata": "{}",
         "name": "name",
         "type": "\"string\""
        },
        {
         "metadata": "{}",
         "name": "size",
         "type": "\"long\""
        }
       ],
       "type": "table"
      }
     },
     "output_type": "display_data"
    }
   ],
   "source": [
    "%fs ls /mnt/my_twitter_data_project/"
   ]
  },
  {
   "cell_type": "code",
   "execution_count": null,
   "metadata": {
    "application/vnd.databricks.v1+cell": {
     "inputWidgets": {},
     "nuid": "78345202-a851-4abd-b553-3e974ffb4d47",
     "showTitle": false,
     "title": ""
    }
   },
   "outputs": [
    {
     "data": {
      "text/html": [
       "<style scoped>\n",
       "  .ansiout {\n",
       "    display: block;\n",
       "    unicode-bidi: embed;\n",
       "    white-space: pre-wrap;\n",
       "    word-wrap: break-word;\n",
       "    word-break: break-all;\n",
       "    font-family: \"Source Code Pro\", \"Menlo\", monospace;;\n",
       "    font-size: 13px;\n",
       "    color: #555;\n",
       "    margin-left: 4px;\n",
       "    line-height: 19px;\n",
       "  }\n",
       "</style>\n",
       "<div class=\"ansiout\"></div>"
      ]
     },
     "metadata": {
      "application/vnd.databricks.v1+output": {
       "addedWidgets": {},
       "arguments": {},
       "data": "<div class=\"ansiout\"></div>",
       "datasetInfos": [],
       "removedWidgets": [],
       "type": "html"
      }
     },
     "output_type": "display_data"
    }
   ],
   "source": [
    "sc = spark.sparkContext\n",
    "sc.addPyFile(\"dbfs:/mnt/my_twitter_data_project/sparkLDA.zip\")"
   ]
  },
  {
   "cell_type": "code",
   "execution_count": null,
   "metadata": {
    "application/vnd.databricks.v1+cell": {
     "inputWidgets": {},
     "nuid": "d9238d5a-77aa-4016-9c87-ca5351242d19",
     "showTitle": false,
     "title": ""
    }
   },
   "outputs": [
    {
     "data": {
      "text/html": [
       "<style scoped>\n",
       "  .ansiout {\n",
       "    display: block;\n",
       "    unicode-bidi: embed;\n",
       "    white-space: pre-wrap;\n",
       "    word-wrap: break-word;\n",
       "    word-break: break-all;\n",
       "    font-family: \"Source Code Pro\", \"Menlo\", monospace;;\n",
       "    font-size: 13px;\n",
       "    color: #555;\n",
       "    margin-left: 4px;\n",
       "    line-height: 19px;\n",
       "  }\n",
       "</style>\n",
       "<div class=\"ansiout\"></div>"
      ]
     },
     "metadata": {
      "application/vnd.databricks.v1+output": {
       "addedWidgets": {},
       "arguments": {},
       "data": "<div class=\"ansiout\"></div>",
       "datasetInfos": [],
       "removedWidgets": [],
       "type": "html"
      }
     },
     "output_type": "display_data"
    }
   ],
   "source": [
    "from sparkLDA.config import n_topics, extra_for_stemmed, seedNum, file_schema\n",
    "from sparkLDA.utils import show_topics, evaluate\n",
    "from sparkLDA.processing import preprocess_text"
   ]
  },
  {
   "cell_type": "code",
   "execution_count": null,
   "metadata": {
    "application/vnd.databricks.v1+cell": {
     "inputWidgets": {},
     "nuid": "c88c8f14-2c7a-43c3-84b8-ba5bbab8ccc2",
     "showTitle": false,
     "title": ""
    }
   },
   "outputs": [
    {
     "data": {
      "text/html": [
       "<style scoped>\n",
       "  .ansiout {\n",
       "    display: block;\n",
       "    unicode-bidi: embed;\n",
       "    white-space: pre-wrap;\n",
       "    word-wrap: break-word;\n",
       "    word-break: break-all;\n",
       "    font-family: \"Source Code Pro\", \"Menlo\", monospace;;\n",
       "    font-size: 13px;\n",
       "    color: #555;\n",
       "    margin-left: 4px;\n",
       "    line-height: 19px;\n",
       "  }\n",
       "</style>\n",
       "<div class=\"ansiout\">Out[16]: StructType(List(StructField(data,StringType,true)))</div>"
      ]
     },
     "metadata": {
      "application/vnd.databricks.v1+output": {
       "addedWidgets": {},
       "arguments": {},
       "data": "<div class=\"ansiout\">Out[16]: StructType(List(StructField(data,StringType,true)))</div>",
       "datasetInfos": [],
       "removedWidgets": [],
       "type": "html"
      }
     },
     "output_type": "display_data"
    }
   ],
   "source": [
    "tweets_sample.schema"
   ]
  },
  {
   "cell_type": "code",
   "execution_count": null,
   "metadata": {
    "application/vnd.databricks.v1+cell": {
     "inputWidgets": {},
     "nuid": "4d27f7f6-7a06-44a7-81a5-58810c719aab",
     "showTitle": false,
     "title": ""
    }
   },
   "outputs": [
    {
     "data": {
      "text/html": [
       "<style scoped>\n",
       "  .ansiout {\n",
       "    display: block;\n",
       "    unicode-bidi: embed;\n",
       "    white-space: pre-wrap;\n",
       "    word-wrap: break-word;\n",
       "    word-break: break-all;\n",
       "    font-family: \"Source Code Pro\", \"Menlo\", monospace;;\n",
       "    font-size: 13px;\n",
       "    color: #555;\n",
       "    margin-left: 4px;\n",
       "    line-height: 19px;\n",
       "  }\n",
       "</style>\n",
       "<div class=\"ansiout\">root\n",
       "-- data: string (nullable = true)\n",
       "\n",
       "</div>"
      ]
     },
     "metadata": {
      "application/vnd.databricks.v1+output": {
       "addedWidgets": {},
       "arguments": {},
       "data": "<div class=\"ansiout\">root\n |-- data: string (nullable = true)\n\n</div>",
       "datasetInfos": [],
       "removedWidgets": [],
       "type": "html"
      }
     },
     "output_type": "display_data"
    }
   ],
   "source": [
    "tweets_sample.printSchema()"
   ]
  },
  {
   "cell_type": "code",
   "execution_count": null,
   "metadata": {
    "application/vnd.databricks.v1+cell": {
     "inputWidgets": {},
     "nuid": "5596eb24-92eb-4ccd-8b87-7e6c2e7e3be8",
     "showTitle": false,
     "title": ""
    }
   },
   "outputs": [
    {
     "data": {
      "text/html": [
       "<style scoped>\n",
       "  .ansiout {\n",
       "    display: block;\n",
       "    unicode-bidi: embed;\n",
       "    white-space: pre-wrap;\n",
       "    word-wrap: break-word;\n",
       "    word-break: break-all;\n",
       "    font-family: \"Source Code Pro\", \"Menlo\", monospace;;\n",
       "    font-size: 13px;\n",
       "    color: #555;\n",
       "    margin-left: 4px;\n",
       "    line-height: 19px;\n",
       "  }\n",
       "</style>\n",
       "<div class=\"ansiout\"></div>"
      ]
     },
     "metadata": {
      "application/vnd.databricks.v1+output": {
       "addedWidgets": {},
       "arguments": {},
       "data": "<div class=\"ansiout\"></div>",
       "datasetInfos": [],
       "removedWidgets": [],
       "type": "html"
      }
     },
     "output_type": "display_data"
    }
   ],
   "source": [
    "file_schema_str = StructType([StructField(\"tweet_text\", StringType(), True), \n",
    "                          # StructField(\"hash_tag\", ArrayType(StringType(), True), True), \n",
    "                          StructField(\"hash_tag\", StringType(), True), \n",
    "                          StructField(\"created_at\", StringType(), True), \n",
    "                          StructField(\"retweet_count\", StringType(), True), \n",
    "                          StructField(\"favorite_count\", StringType(), True), \n",
    "                          StructField(\"retweeted\", StringType(), True), \n",
    "                          StructField(\"truncated\", StringType(), True), \n",
    "                          StructField(\"id\", StringType(), True), \n",
    "                          StructField(\"user_name\", StringType(), True), \n",
    "                          StructField(\"screen_name\", StringType(), True), \n",
    "                          StructField(\"followers_count\", StringType(), True), \n",
    "                          StructField(\"location\", StringType(), True), \n",
    "                          StructField(\"geo\", StringType(), True),\n",
    "                          StructField(\"invalid\", StringType(), True)])"
   ]
  },
  {
   "cell_type": "code",
   "execution_count": null,
   "metadata": {
    "application/vnd.databricks.v1+cell": {
     "inputWidgets": {},
     "nuid": "ff95689c-8382-44e6-b929-7b14793a6b68",
     "showTitle": false,
     "title": ""
    }
   },
   "outputs": [
    {
     "data": {
      "text/html": [
       "<style scoped>\n",
       "  .ansiout {\n",
       "    display: block;\n",
       "    unicode-bidi: embed;\n",
       "    white-space: pre-wrap;\n",
       "    word-wrap: break-word;\n",
       "    word-break: break-all;\n",
       "    font-family: \"Source Code Pro\", \"Menlo\", monospace;;\n",
       "    font-size: 13px;\n",
       "    color: #555;\n",
       "    margin-left: 4px;\n",
       "    line-height: 19px;\n",
       "  }\n",
       "</style>\n",
       "<div class=\"ansiout\">+--------------------+--------------------+--------------------+-------------+--------------+---------+---------+-------------------+--------------------+---------------+---------------+--------------------+----+-------+\n",
       "          tweet_text|            hash_tag|          created_at|retweet_count|favorite_count|retweeted|truncated|                 id|           user_name|    screen_name|followers_count|            location| geo|invalid|\n",
       "+--------------------+--------------------+--------------------+-------------+--------------+---------+---------+-------------------+--------------------+---------------+---------------+--------------------+----+-------+\n",
       "The pope has join...|  Microsoft, IBM, AI|Fri Nov 27 20:28:...|            0|             0|     True|    False|1332420933169143809|AbdulrahmanAlSult...|    welcomehier|           2482|                  SA|None|      \n",
       "\n",
       "Machine Learning ...|MachineLearning, ...|Fri Nov 27 20:28:...|            0|             0|     True|    False|1332420949266886659|        Alexey Chang|    AlexeyChang|            146|              Russia|None|      \n",
       "\n",
       "New research: #AI...|                  AI|Fri Nov 27 20:28:...|            0|             0|    False|    False|1332420963556843524|                CSTV|        UW_CSTV|            190|University of Wat...|None|      \n",
       "\n",
       "The latest Breaki...|         fintech, ai|Fri Nov 27 20:28:...|            0|             0|     True|    False|1332420969680531456|           FINTECHNA|      fintechna|          27980|LON | NYC | HKG  ...|None|      \n",
       "\n",
       "Machine Learning ...|MachineLearning, ...|Fri Nov 27 20:28:...|            0|             0|     True|    False|1332420971844788229|Machine Learning Bot|   ML_Tweet_Bot|           4149|                None|None|      \n",
       "\n",
       "Drone taxis are a...|AI, MachineLearni...|Fri Nov 27 20:28:...|            0|             0|     True|    False|1332420972692074496|          Mark Twain|MarkTwa01197091|          10583|                None|None|      \n",
       "\n",
       "6 ways #5G mobile...|5G, Broadband, AI...|Fri Nov 27 20:28:...|            0|             0|     True|    False|1332420989892894720|Dr. Marcell Vollm...|      mvollmer1|          65306|  Frankfurt, Germany|None|      \n",
       "\n",
       "#Trending: UN exp...|Trending, ai, ml,...|Fri Nov 27 20:28:...|            0|             0|     True|    False|1332420999552315394|              Nobody|      askN0B0DY|            954|         Some Server|None|      \n",
       "\n",
       "  Looks promising...|                    |Fri Nov 27 20:28:...|            0|             0|    False|    False|1332421009820045314|   David Casacuberta|   dcasacuberta|           2095|    Barcelona, Spain|None|      \n",
       "\n",
       "#GoodNewsFriday: ...|  GoodNewsFriday, AI|Fri Nov 27 20:28:...|            0|             0|    False|     True|1332421034054725632|Stephanie von Fri...| SvonFriedeburg|           3124|      Washington, DC|None|      \n",
       "\n",
       "German Startup’s ...|MachineLearning, ...|Fri Nov 27 20:28:...|            0|             0|     True|    False|1332421049863069704|        NourTrabelsi|nourtra00456201|           1184| Wo noch niemand war|None|      \n",
       "\n",
       "@amazon 5-year-ol...|Alexa, RespectNam...|Fri Nov 27 20:28:...|            0|             0|    False|     True|1332421049766584322|        Human Alexas|    HumanAlexas|            839|       United States|None|      \n",
       "\n",
       "The latest The Ar...|deeplearning, mac...|Fri Nov 27 20:28:...|            0|             0|     True|    False|1332421090459721731|        Madhav Kunal|  maddykutechno|            214|          Edison, NJ|None|      \n",
       "\n",
       "This cable driven...|Robot, AI, IoT, 4...|Fri Nov 27 20:28:...|            0|             0|     True|    False|1332421095526461446|Dr. Marcell Vollm...|      mvollmer1|          65306|  Frankfurt, Germany|None|      \n",
       "\n",
       "#TechStuff: Opini...|TechStuff, ai, ml...|Fri Nov 27 20:28:...|            0|             0|    False|     True|1332421163532816387|       Chuck Russell|iamChuckRussell|          21454|       Camp Hill, PA|None|      \n",
       "\n",
       "&#39;5⭐️...elements o...|scifi, sciencefic...|Fri Nov 27 20:28:...|            0|             0|     True|    False|1332421168880525312| Natasha Blackthorne|   Nblackthorne|          41642|                None|None|      \n",
       "\n",
       "Organisations tha...| AI, hyperautomation|Fri Nov 27 20:28:...|            0|             0|     True|    False|1332421171908898817|       Nacho H Prado|    NachoHPrado|           3304|Madrid, Comunidad...|None|      \n",
       "\n",
       "#TechStuff: Opini...|TechStuff, ai, ml...|Fri Nov 27 20:28:...|            0|             0|     True|    False|1332421174526177280|       Andrew Morris| andrewmorrisuk|          12134|             Bedford|None|      \n",
       "\n",
       "A beginner&#39;s guid...|MachineLearning, ...|Fri Nov 27 20:29:...|            0|             0|     True|    False|1332421188560281600|           SeetaLabs|      SeetaLabs|           1013|               Italy|None|      \n",
       "\n",
       "RT/MT: Thanks to ...|HappyFriday, Arti...|Fri Nov 27 20:29:...|            0|             0|    False|     True|1332421187373240320|        Chris Garrod|   ChrisGGarrod|           5627|Bermuda, Other Pl...|None|      \n",
       "\n",
       "+--------------------+--------------------+--------------------+-------------+--------------+---------+---------+-------------------+--------------------+---------------+---------------+--------------------+----+-------+\n",
       "only showing top 20 rows\n",
       "\n",
       "</div>"
      ]
     },
     "metadata": {
      "application/vnd.databricks.v1+output": {
       "addedWidgets": {},
       "arguments": {},
       "data": "<div class=\"ansiout\">+--------------------+--------------------+--------------------+-------------+--------------+---------+---------+-------------------+--------------------+---------------+---------------+--------------------+----+-------+\n|          tweet_text|            hash_tag|          created_at|retweet_count|favorite_count|retweeted|truncated|                 id|           user_name|    screen_name|followers_count|            location| geo|invalid|\n+--------------------+--------------------+--------------------+-------------+--------------+---------+---------+-------------------+--------------------+---------------+---------------+--------------------+----+-------+\n|The pope has join...|  Microsoft, IBM, AI|Fri Nov 27 20:28:...|            0|             0|     True|    False|1332420933169143809|AbdulrahmanAlSult...|    welcomehier|           2482|                  SA|None|      \n|\n|Machine Learning ...|MachineLearning, ...|Fri Nov 27 20:28:...|            0|             0|     True|    False|1332420949266886659|        Alexey Chang|    AlexeyChang|            146|              Russia|None|      \n|\n|New research: #AI...|                  AI|Fri Nov 27 20:28:...|            0|             0|    False|    False|1332420963556843524|                CSTV|        UW_CSTV|            190|University of Wat...|None|      \n|\n|The latest Breaki...|         fintech, ai|Fri Nov 27 20:28:...|            0|             0|     True|    False|1332420969680531456|           FINTECHNA|      fintechna|          27980|LON | NYC | HKG  ...|None|      \n|\n|Machine Learning ...|MachineLearning, ...|Fri Nov 27 20:28:...|            0|             0|     True|    False|1332420971844788229|Machine Learning Bot|   ML_Tweet_Bot|           4149|                None|None|      \n|\n|Drone taxis are a...|AI, MachineLearni...|Fri Nov 27 20:28:...|            0|             0|     True|    False|1332420972692074496|          Mark Twain|MarkTwa01197091|          10583|                None|None|      \n|\n|6 ways #5G mobile...|5G, Broadband, AI...|Fri Nov 27 20:28:...|            0|             0|     True|    False|1332420989892894720|Dr. Marcell Vollm...|      mvollmer1|          65306|  Frankfurt, Germany|None|      \n|\n|#Trending: UN exp...|Trending, ai, ml,...|Fri Nov 27 20:28:...|            0|             0|     True|    False|1332420999552315394|              Nobody|      askN0B0DY|            954|         Some Server|None|      \n|\n|  Looks promising...|                    |Fri Nov 27 20:28:...|            0|             0|    False|    False|1332421009820045314|   David Casacuberta|   dcasacuberta|           2095|    Barcelona, Spain|None|      \n|\n|#GoodNewsFriday: ...|  GoodNewsFriday, AI|Fri Nov 27 20:28:...|            0|             0|    False|     True|1332421034054725632|Stephanie von Fri...| SvonFriedeburg|           3124|      Washington, DC|None|      \n|\n|German Startup’s ...|MachineLearning, ...|Fri Nov 27 20:28:...|            0|             0|     True|    False|1332421049863069704|        NourTrabelsi|nourtra00456201|           1184| Wo noch niemand war|None|      \n|\n|@amazon 5-year-ol...|Alexa, RespectNam...|Fri Nov 27 20:28:...|            0|             0|    False|     True|1332421049766584322|        Human Alexas|    HumanAlexas|            839|       United States|None|      \n|\n|The latest The Ar...|deeplearning, mac...|Fri Nov 27 20:28:...|            0|             0|     True|    False|1332421090459721731|        Madhav Kunal|  maddykutechno|            214|          Edison, NJ|None|      \n|\n|This cable driven...|Robot, AI, IoT, 4...|Fri Nov 27 20:28:...|            0|             0|     True|    False|1332421095526461446|Dr. Marcell Vollm...|      mvollmer1|          65306|  Frankfurt, Germany|None|      \n|\n|#TechStuff: Opini...|TechStuff, ai, ml...|Fri Nov 27 20:28:...|            0|             0|    False|     True|1332421163532816387|       Chuck Russell|iamChuckRussell|          21454|       Camp Hill, PA|None|      \n|\n|&#39;5⭐️...elements o...|scifi, sciencefic...|Fri Nov 27 20:28:...|            0|             0|     True|    False|1332421168880525312| Natasha Blackthorne|   Nblackthorne|          41642|                None|None|      \n|\n|Organisations tha...| AI, hyperautomation|Fri Nov 27 20:28:...|            0|             0|     True|    False|1332421171908898817|       Nacho H Prado|    NachoHPrado|           3304|Madrid, Comunidad...|None|      \n|\n|#TechStuff: Opini...|TechStuff, ai, ml...|Fri Nov 27 20:28:...|            0|             0|     True|    False|1332421174526177280|       Andrew Morris| andrewmorrisuk|          12134|             Bedford|None|      \n|\n|A beginner&#39;s guid...|MachineLearning, ...|Fri Nov 27 20:29:...|            0|             0|     True|    False|1332421188560281600|           SeetaLabs|      SeetaLabs|           1013|               Italy|None|      \n|\n|RT/MT: Thanks to ...|HappyFriday, Arti...|Fri Nov 27 20:29:...|            0|             0|    False|     True|1332421187373240320|        Chris Garrod|   ChrisGGarrod|           5627|Bermuda, Other Pl...|None|      \n|\n+--------------------+--------------------+--------------------+-------------+--------------+---------+---------+-------------------+--------------------+---------------+---------------+--------------------+----+-------+\nonly showing top 20 rows\n\n</div>",
       "datasetInfos": [],
       "removedWidgets": [],
       "type": "html"
      }
     },
     "output_type": "display_data"
    }
   ],
   "source": [
    "def parse_tweets(raw_records):\n",
    "  for pdf in raw_records:\n",
    "    # yield pdf.data.apply(lambda record: record.split(\"\\t\"))\n",
    "    yield pdf.data.str.split(pat=\"\\t\", expand=True)\n",
    "  \n",
    "tweets_sample.mapInPandas(parse_tweets, schema = file_schema_str).show()"
   ]
  },
  {
   "cell_type": "markdown",
   "metadata": {
    "application/vnd.databricks.v1+cell": {
     "inputWidgets": {},
     "nuid": "6a7dafba-b641-4073-ae17-5f54c707b02a",
     "showTitle": false,
     "title": ""
    }
   },
   "source": [
    "process the data in memory"
   ]
  },
  {
   "cell_type": "code",
   "execution_count": null,
   "metadata": {
    "application/vnd.databricks.v1+cell": {
     "inputWidgets": {},
     "nuid": "a00ded19-7d1e-402c-a1c4-e47e8fb48b2c",
     "showTitle": false,
     "title": ""
    }
   },
   "outputs": [
    {
     "data": {
      "text/html": [
       "<style scoped>\n",
       "  .ansiout {\n",
       "    display: block;\n",
       "    unicode-bidi: embed;\n",
       "    white-space: pre-wrap;\n",
       "    word-wrap: break-word;\n",
       "    word-break: break-all;\n",
       "    font-family: \"Source Code Pro\", \"Menlo\", monospace;;\n",
       "    font-size: 13px;\n",
       "    color: #555;\n",
       "    margin-left: 4px;\n",
       "    line-height: 19px;\n",
       "  }\n",
       "</style>\n",
       "<div class=\"ansiout\"></div>"
      ]
     },
     "metadata": {
      "application/vnd.databricks.v1+output": {
       "addedWidgets": {},
       "arguments": {},
       "data": "<div class=\"ansiout\"></div>",
       "datasetInfos": [
        {
         "name": "df",
         "schema": {
          "fields": [
           {
            "metadata": {},
            "name": "tweet_text",
            "nullable": true,
            "type": "string"
           },
           {
            "metadata": {},
            "name": "hash_tag",
            "nullable": true,
            "type": "string"
           },
           {
            "metadata": {},
            "name": "created_at",
            "nullable": true,
            "type": "string"
           },
           {
            "metadata": {},
            "name": "retweet_count",
            "nullable": true,
            "type": "string"
           },
           {
            "metadata": {},
            "name": "favorite_count",
            "nullable": true,
            "type": "string"
           },
           {
            "metadata": {},
            "name": "tokens",
            "nullable": true,
            "type": {
             "containsNull": true,
             "elementType": "string",
             "type": "array"
            }
           },
           {
            "metadata": {},
            "name": "remove_stop",
            "nullable": true,
            "type": {
             "containsNull": true,
             "elementType": "string",
             "type": "array"
            }
           },
           {
            "metadata": {},
            "name": "stemmed",
            "nullable": true,
            "type": {
             "containsNull": true,
             "elementType": "string",
             "type": "array"
            }
           }
          ],
          "type": "struct"
         },
         "tableIdentifier": null,
         "typeStr": "pyspark.sql.dataframe.DataFrame"
        }
       ],
       "removedWidgets": [],
       "type": "html"
      }
     },
     "output_type": "display_data"
    }
   ],
   "source": [
    "df = tweets.mapInPandas(parse_tweets, schema = file_schema_str)\n",
    "df = preprocess_text(df)"
   ]
  },
  {
   "cell_type": "code",
   "execution_count": null,
   "metadata": {
    "application/vnd.databricks.v1+cell": {
     "inputWidgets": {},
     "nuid": "e82a9200-108b-4abc-a069-719d2833b154",
     "showTitle": false,
     "title": ""
    }
   },
   "outputs": [
    {
     "data": {
      "text/html": [
       "<style scoped>\n",
       "  .ansiout {\n",
       "    display: block;\n",
       "    unicode-bidi: embed;\n",
       "    white-space: pre-wrap;\n",
       "    word-wrap: break-word;\n",
       "    word-break: break-all;\n",
       "    font-family: \"Source Code Pro\", \"Menlo\", monospace;;\n",
       "    font-size: 13px;\n",
       "    color: #555;\n",
       "    margin-left: 4px;\n",
       "    line-height: 19px;\n",
       "  }\n",
       "</style>\n",
       "<div class=\"ansiout\"></div>"
      ]
     },
     "metadata": {
      "application/vnd.databricks.v1+output": {
       "addedWidgets": {},
       "arguments": {},
       "data": "<div class=\"ansiout\"></div>",
       "datasetInfos": [],
       "removedWidgets": [],
       "type": "html"
      }
     },
     "output_type": "display_data"
    }
   ],
   "source": [
    "pipelinePath = \"dbfs:/mnt/my_twitter_data_project/ML_models/LDA-pipeline-model_Oct_data\"\n",
    "from pyspark.ml import PipelineModel"
   ]
  },
  {
   "cell_type": "code",
   "execution_count": null,
   "metadata": {
    "application/vnd.databricks.v1+cell": {
     "inputWidgets": {},
     "nuid": "7771059d-50b1-4ed4-ba73-242f1ec6834b",
     "showTitle": false,
     "title": ""
    }
   },
   "outputs": [
    {
     "data": {
      "text/html": [
       "<style scoped>\n",
       "  .ansiout {\n",
       "    display: block;\n",
       "    unicode-bidi: embed;\n",
       "    white-space: pre-wrap;\n",
       "    word-wrap: break-word;\n",
       "    word-break: break-all;\n",
       "    font-family: \"Source Code Pro\", \"Menlo\", monospace;;\n",
       "    font-size: 13px;\n",
       "    color: #555;\n",
       "    margin-left: 4px;\n",
       "    line-height: 19px;\n",
       "  }\n",
       "</style>\n",
       "<div class=\"ansiout\"></div>"
      ]
     },
     "metadata": {
      "application/vnd.databricks.v1+output": {
       "addedWidgets": {},
       "arguments": {},
       "data": "<div class=\"ansiout\"></div>",
       "datasetInfos": [
        {
         "name": "df_with_topics",
         "schema": {
          "fields": [
           {
            "metadata": {},
            "name": "tweet_text",
            "nullable": true,
            "type": "string"
           },
           {
            "metadata": {},
            "name": "hash_tag",
            "nullable": true,
            "type": "string"
           },
           {
            "metadata": {},
            "name": "created_at",
            "nullable": true,
            "type": "string"
           },
           {
            "metadata": {},
            "name": "retweet_count",
            "nullable": true,
            "type": "string"
           },
           {
            "metadata": {},
            "name": "favorite_count",
            "nullable": true,
            "type": "string"
           },
           {
            "metadata": {},
            "name": "tokens",
            "nullable": true,
            "type": {
             "containsNull": true,
             "elementType": "string",
             "type": "array"
            }
           },
           {
            "metadata": {},
            "name": "remove_stop",
            "nullable": true,
            "type": {
             "containsNull": true,
             "elementType": "string",
             "type": "array"
            }
           },
           {
            "metadata": {},
            "name": "stemmed",
            "nullable": true,
            "type": {
             "containsNull": true,
             "elementType": "string",
             "type": "array"
            }
           },
           {
            "metadata": {
             "ml_attr": {
              "attrs": {},
              "num_attrs": 57725
             }
            },
            "name": "rawFeatures",
            "nullable": true,
            "type": {
             "class": "org.apache.spark.ml.linalg.VectorUDT",
             "pyClass": "pyspark.ml.linalg.VectorUDT",
             "sqlType": {
              "fields": [
               {
                "metadata": {},
                "name": "type",
                "nullable": false,
                "type": "byte"
               },
               {
                "metadata": {},
                "name": "size",
                "nullable": true,
                "type": "integer"
               },
               {
                "metadata": {},
                "name": "indices",
                "nullable": true,
                "type": {
                 "containsNull": false,
                 "elementType": "integer",
                 "type": "array"
                }
               },
               {
                "metadata": {},
                "name": "values",
                "nullable": true,
                "type": {
                 "containsNull": false,
                 "elementType": "double",
                 "type": "array"
                }
               }
              ],
              "type": "struct"
             },
             "type": "udt"
            }
           },
           {
            "metadata": {
             "ml_attr": {
              "num_attrs": 57725
             }
            },
            "name": "features",
            "nullable": true,
            "type": {
             "class": "org.apache.spark.ml.linalg.VectorUDT",
             "pyClass": "pyspark.ml.linalg.VectorUDT",
             "sqlType": {
              "fields": [
               {
                "metadata": {},
                "name": "type",
                "nullable": false,
                "type": "byte"
               },
               {
                "metadata": {},
                "name": "size",
                "nullable": true,
                "type": "integer"
               },
               {
                "metadata": {},
                "name": "indices",
                "nullable": true,
                "type": {
                 "containsNull": false,
                 "elementType": "integer",
                 "type": "array"
                }
               },
               {
                "metadata": {},
                "name": "values",
                "nullable": true,
                "type": {
                 "containsNull": false,
                 "elementType": "double",
                 "type": "array"
                }
               }
              ],
              "type": "struct"
             },
             "type": "udt"
            }
           },
           {
            "metadata": {
             "ml_attr": {
              "num_attrs": 10
             }
            },
            "name": "topicDistribution",
            "nullable": true,
            "type": {
             "class": "org.apache.spark.ml.linalg.VectorUDT",
             "pyClass": "pyspark.ml.linalg.VectorUDT",
             "sqlType": {
              "fields": [
               {
                "metadata": {},
                "name": "type",
                "nullable": false,
                "type": "byte"
               },
               {
                "metadata": {},
                "name": "size",
                "nullable": true,
                "type": "integer"
               },
               {
                "metadata": {},
                "name": "indices",
                "nullable": true,
                "type": {
                 "containsNull": false,
                 "elementType": "integer",
                 "type": "array"
                }
               },
               {
                "metadata": {},
                "name": "values",
                "nullable": true,
                "type": {
                 "containsNull": false,
                 "elementType": "double",
                 "type": "array"
                }
               }
              ],
              "type": "struct"
             },
             "type": "udt"
            }
           }
          ],
          "type": "struct"
         },
         "tableIdentifier": null,
         "typeStr": "pyspark.sql.dataframe.DataFrame"
        }
       ],
       "removedWidgets": [],
       "type": "html"
      }
     },
     "output_type": "display_data"
    }
   ],
   "source": [
    "savedPipelineModel = PipelineModel.load(pipelinePath)\n",
    "\n",
    "df_with_topics = savedPipelineModel.transform(df)"
   ]
  },
  {
   "cell_type": "code",
   "execution_count": null,
   "metadata": {
    "application/vnd.databricks.v1+cell": {
     "inputWidgets": {},
     "nuid": "c8fb9c7e-2c30-45c6-9d34-680e4696d949",
     "showTitle": false,
     "title": ""
    }
   },
   "outputs": [
    {
     "data": {
      "text/html": [
       "<style scoped>\n",
       "  .ansiout {\n",
       "    display: block;\n",
       "    unicode-bidi: embed;\n",
       "    white-space: pre-wrap;\n",
       "    word-wrap: break-word;\n",
       "    word-break: break-all;\n",
       "    font-family: \"Source Code Pro\", \"Menlo\", monospace;;\n",
       "    font-size: 13px;\n",
       "    color: #555;\n",
       "    margin-left: 4px;\n",
       "    line-height: 19px;\n",
       "  }\n",
       "</style>\n",
       "<div class=\"ansiout\"></div>"
      ]
     },
     "metadata": {
      "application/vnd.databricks.v1+output": {
       "addedWidgets": {},
       "arguments": {},
       "data": "<div class=\"ansiout\"></div>",
       "datasetInfos": [],
       "removedWidgets": [],
       "type": "html"
      }
     },
     "output_type": "display_data"
    }
   ],
   "source": [
    "import pyspark.sql.functions as F\n",
    "\n",
    "from textblob import TextBlob\n",
    "\n",
    "def get_sentiment_vectorized(texts):\n",
    "    testimonials = texts.apply(lambda text: TextBlob(text).sentiment.polarity)\n",
    "    return testimonials\n",
    "  \n",
    "getSentiment = F.pandas_udf(get_sentiment_vectorized, FloatType())"
   ]
  },
  {
   "cell_type": "code",
   "execution_count": null,
   "metadata": {
    "application/vnd.databricks.v1+cell": {
     "inputWidgets": {},
     "nuid": "2cf9b27f-4eba-4783-98de-a8a5ed71f14e",
     "showTitle": false,
     "title": ""
    }
   },
   "outputs": [
    {
     "data": {
      "text/html": [
       "<style scoped>\n",
       "  .ansiout {\n",
       "    display: block;\n",
       "    unicode-bidi: embed;\n",
       "    white-space: pre-wrap;\n",
       "    word-wrap: break-word;\n",
       "    word-break: break-all;\n",
       "    font-family: \"Source Code Pro\", \"Menlo\", monospace;;\n",
       "    font-size: 13px;\n",
       "    color: #555;\n",
       "    margin-left: 4px;\n",
       "    line-height: 19px;\n",
       "  }\n",
       "</style>\n",
       "<div class=\"ansiout\"></div>"
      ]
     },
     "metadata": {
      "application/vnd.databricks.v1+output": {
       "addedWidgets": {},
       "arguments": {},
       "data": "<div class=\"ansiout\"></div>",
       "datasetInfos": [
        {
         "name": "df_with_topics",
         "schema": {
          "fields": [
           {
            "metadata": {},
            "name": "tweet_text",
            "nullable": true,
            "type": "string"
           },
           {
            "metadata": {},
            "name": "hash_tag",
            "nullable": true,
            "type": "string"
           },
           {
            "metadata": {},
            "name": "created_at",
            "nullable": true,
            "type": "string"
           },
           {
            "metadata": {},
            "name": "retweet_count",
            "nullable": true,
            "type": "string"
           },
           {
            "metadata": {},
            "name": "favorite_count",
            "nullable": true,
            "type": "string"
           },
           {
            "metadata": {},
            "name": "tokens",
            "nullable": true,
            "type": {
             "containsNull": true,
             "elementType": "string",
             "type": "array"
            }
           },
           {
            "metadata": {},
            "name": "remove_stop",
            "nullable": true,
            "type": {
             "containsNull": true,
             "elementType": "string",
             "type": "array"
            }
           },
           {
            "metadata": {},
            "name": "stemmed",
            "nullable": true,
            "type": {
             "containsNull": true,
             "elementType": "string",
             "type": "array"
            }
           },
           {
            "metadata": {
             "ml_attr": {
              "attrs": {},
              "num_attrs": 57725
             }
            },
            "name": "rawFeatures",
            "nullable": true,
            "type": {
             "class": "org.apache.spark.ml.linalg.VectorUDT",
             "pyClass": "pyspark.ml.linalg.VectorUDT",
             "sqlType": {
              "fields": [
               {
                "metadata": {},
                "name": "type",
                "nullable": false,
                "type": "byte"
               },
               {
                "metadata": {},
                "name": "size",
                "nullable": true,
                "type": "integer"
               },
               {
                "metadata": {},
                "name": "indices",
                "nullable": true,
                "type": {
                 "containsNull": false,
                 "elementType": "integer",
                 "type": "array"
                }
               },
               {
                "metadata": {},
                "name": "values",
                "nullable": true,
                "type": {
                 "containsNull": false,
                 "elementType": "double",
                 "type": "array"
                }
               }
              ],
              "type": "struct"
             },
             "type": "udt"
            }
           },
           {
            "metadata": {
             "ml_attr": {
              "num_attrs": 57725
             }
            },
            "name": "features",
            "nullable": true,
            "type": {
             "class": "org.apache.spark.ml.linalg.VectorUDT",
             "pyClass": "pyspark.ml.linalg.VectorUDT",
             "sqlType": {
              "fields": [
               {
                "metadata": {},
                "name": "type",
                "nullable": false,
                "type": "byte"
               },
               {
                "metadata": {},
                "name": "size",
                "nullable": true,
                "type": "integer"
               },
               {
                "metadata": {},
                "name": "indices",
                "nullable": true,
                "type": {
                 "containsNull": false,
                 "elementType": "integer",
                 "type": "array"
                }
               },
               {
                "metadata": {},
                "name": "values",
                "nullable": true,
                "type": {
                 "containsNull": false,
                 "elementType": "double",
                 "type": "array"
                }
               }
              ],
              "type": "struct"
             },
             "type": "udt"
            }
           },
           {
            "metadata": {
             "ml_attr": {
              "num_attrs": 10
             }
            },
            "name": "topicDistribution",
            "nullable": true,
            "type": {
             "class": "org.apache.spark.ml.linalg.VectorUDT",
             "pyClass": "pyspark.ml.linalg.VectorUDT",
             "sqlType": {
              "fields": [
               {
                "metadata": {},
                "name": "type",
                "nullable": false,
                "type": "byte"
               },
               {
                "metadata": {},
                "name": "size",
                "nullable": true,
                "type": "integer"
               },
               {
                "metadata": {},
                "name": "indices",
                "nullable": true,
                "type": {
                 "containsNull": false,
                 "elementType": "integer",
                 "type": "array"
                }
               },
               {
                "metadata": {},
                "name": "values",
                "nullable": true,
                "type": {
                 "containsNull": false,
                 "elementType": "double",
                 "type": "array"
                }
               }
              ],
              "type": "struct"
             },
             "type": "udt"
            }
           },
           {
            "metadata": {},
            "name": "topicDistributionArray",
            "nullable": true,
            "type": {
             "containsNull": true,
             "elementType": "float",
             "type": "array"
            }
           }
          ],
          "type": "struct"
         },
         "tableIdentifier": null,
         "typeStr": "pyspark.sql.dataframe.DataFrame"
        }
       ],
       "removedWidgets": [],
       "type": "html"
      }
     },
     "output_type": "display_data"
    }
   ],
   "source": [
    "to_array = F.udf(lambda v: v.toArray().tolist(), ArrayType(FloatType()))\n",
    "\n",
    "df_with_topics = df_with_topics.withColumn(\"topicDistributionArray\", \n",
    "                                         to_array(\"topicDistribution\"))"
   ]
  },
  {
   "cell_type": "code",
   "execution_count": null,
   "metadata": {
    "application/vnd.databricks.v1+cell": {
     "inputWidgets": {},
     "nuid": "ec66c5db-9ae3-4b58-86a6-84be850082f6",
     "showTitle": false,
     "title": ""
    }
   },
   "outputs": [
    {
     "data": {
      "text/html": [
       "<style scoped>\n",
       "  .ansiout {\n",
       "    display: block;\n",
       "    unicode-bidi: embed;\n",
       "    white-space: pre-wrap;\n",
       "    word-wrap: break-word;\n",
       "    word-break: break-all;\n",
       "    font-family: \"Source Code Pro\", \"Menlo\", monospace;;\n",
       "    font-size: 13px;\n",
       "    color: #555;\n",
       "    margin-left: 4px;\n",
       "    line-height: 19px;\n",
       "  }\n",
       "</style>\n",
       "<div class=\"ansiout\">[&#39;tweet_text&#39;, &#39;hash_tag&#39;, &#39;created_at&#39;, &#39;retweet_count&#39;, &#39;favorite_count&#39;]\n",
       "</div>"
      ]
     },
     "metadata": {
      "application/vnd.databricks.v1+output": {
       "addedWidgets": {},
       "arguments": {},
       "data": "<div class=\"ansiout\">[&#39;tweet_text&#39;, &#39;hash_tag&#39;, &#39;created_at&#39;, &#39;retweet_count&#39;, &#39;favorite_count&#39;]\n</div>",
       "datasetInfos": [],
       "removedWidgets": [],
       "type": "html"
      }
     },
     "output_type": "display_data"
    }
   ],
   "source": [
    "cols_select = ['tweet_text', 'hash_tag', 'created_at', 'retweet_count', 'favorite_count']\n",
    "print(cols_select)"
   ]
  },
  {
   "cell_type": "code",
   "execution_count": null,
   "metadata": {
    "application/vnd.databricks.v1+cell": {
     "inputWidgets": {},
     "nuid": "3369fdb5-e4b5-49e8-8767-dba3d1a4ea9e",
     "showTitle": false,
     "title": ""
    }
   },
   "outputs": [
    {
     "data": {
      "text/html": [
       "<style scoped>\n",
       "  .ansiout {\n",
       "    display: block;\n",
       "    unicode-bidi: embed;\n",
       "    white-space: pre-wrap;\n",
       "    word-wrap: break-word;\n",
       "    word-break: break-all;\n",
       "    font-family: \"Source Code Pro\", \"Menlo\", monospace;;\n",
       "    font-size: 13px;\n",
       "    color: #555;\n",
       "    margin-left: 4px;\n",
       "    line-height: 19px;\n",
       "  }\n",
       "</style>\n",
       "<div class=\"ansiout\"></div>"
      ]
     },
     "metadata": {
      "application/vnd.databricks.v1+output": {
       "addedWidgets": {},
       "arguments": {},
       "data": "<div class=\"ansiout\"></div>",
       "datasetInfos": [
        {
         "name": "df_with_topics",
         "schema": {
          "fields": [
           {
            "metadata": {},
            "name": "tweet_text",
            "nullable": true,
            "type": "string"
           },
           {
            "metadata": {},
            "name": "hash_tag",
            "nullable": true,
            "type": "string"
           },
           {
            "metadata": {},
            "name": "created_at",
            "nullable": true,
            "type": "string"
           },
           {
            "metadata": {},
            "name": "retweet_count",
            "nullable": true,
            "type": "string"
           },
           {
            "metadata": {},
            "name": "favorite_count",
            "nullable": true,
            "type": "string"
           },
           {
            "metadata": {},
            "name": "topic_0",
            "nullable": true,
            "type": "float"
           },
           {
            "metadata": {},
            "name": "topic_1",
            "nullable": true,
            "type": "float"
           },
           {
            "metadata": {},
            "name": "topic_2",
            "nullable": true,
            "type": "float"
           },
           {
            "metadata": {},
            "name": "topic_3",
            "nullable": true,
            "type": "float"
           },
           {
            "metadata": {},
            "name": "topic_4",
            "nullable": true,
            "type": "float"
           },
           {
            "metadata": {},
            "name": "topic_5",
            "nullable": true,
            "type": "float"
           },
           {
            "metadata": {},
            "name": "topic_6",
            "nullable": true,
            "type": "float"
           },
           {
            "metadata": {},
            "name": "topic_7",
            "nullable": true,
            "type": "float"
           },
           {
            "metadata": {},
            "name": "topic_8",
            "nullable": true,
            "type": "float"
           },
           {
            "metadata": {},
            "name": "topic_9",
            "nullable": true,
            "type": "float"
           }
          ],
          "type": "struct"
         },
         "tableIdentifier": null,
         "typeStr": "pyspark.sql.dataframe.DataFrame"
        }
       ],
       "removedWidgets": [],
       "type": "html"
      }
     },
     "output_type": "display_data"
    }
   ],
   "source": [
    "df_with_topics = df_with_topics.select(*cols_select, *[(F.col(\"topicDistributionArray\")[i])\n",
    "                                 .alias(\"topic_\"+str(i)) for i in range(n_topics)])"
   ]
  },
  {
   "cell_type": "code",
   "execution_count": null,
   "metadata": {
    "application/vnd.databricks.v1+cell": {
     "inputWidgets": {},
     "nuid": "a98b53b5-b45c-4f4c-a1ea-f4c66f914e51",
     "showTitle": false,
     "title": ""
    }
   },
   "outputs": [
    {
     "data": {
      "text/html": [
       "<style scoped>\n",
       "  .ansiout {\n",
       "    display: block;\n",
       "    unicode-bidi: embed;\n",
       "    white-space: pre-wrap;\n",
       "    word-wrap: break-word;\n",
       "    word-break: break-all;\n",
       "    font-family: \"Source Code Pro\", \"Menlo\", monospace;;\n",
       "    font-size: 13px;\n",
       "    color: #555;\n",
       "    margin-left: 4px;\n",
       "    line-height: 19px;\n",
       "  }\n",
       "</style>\n",
       "<div class=\"ansiout\">+--------------------+--------------------+--------------------+-------------+--------------+-----------+----------+-----------+----------+----------+----------+-----------+-----------+-----------+-----------+\n",
       "          tweet_text|            hash_tag|          created_at|retweet_count|favorite_count|    topic_0|   topic_1|    topic_2|   topic_3|   topic_4|   topic_5|    topic_6|    topic_7|    topic_8|    topic_9|\n",
       "+--------------------+--------------------+--------------------+-------------+--------------+-----------+----------+-----------+----------+----------+----------+-----------+-----------+-----------+-----------+\n",
       "the pope has join...|  Microsoft, IBM, AI|Fri Nov 27 20:28:...|            0|             0| 0.10492598|0.07193848| 0.06570499|0.05744596|0.06647186|0.17364535|0.062009085| 0.26428443| 0.07284105|0.060732827|\n",
       "machine learning ...|MachineLearning, ...|Fri Nov 27 20:28:...|            0|             0|0.089632474|0.08827755| 0.08713678| 0.0833544|0.17070848| 0.1264772|0.087077774| 0.08736985| 0.08575915| 0.09420635|\n",
       "new research syst...|                  AI|Fri Nov 27 20:28:...|            0|             0| 0.18605746|  0.067211| 0.07489017|0.18183424|0.11748559|0.07559689|0.070340976|0.069928035|0.089275956| 0.06737969|\n",
       "the latest breaki...|         fintech, ai|Fri Nov 27 20:28:...|            0|             0| 0.09118679|0.09167263|0.106806256| 0.1055957|0.10518496|0.09069894|0.093467824| 0.09957159|0.107262984| 0.10855233|\n",
       "machine learning ...|MachineLearning, ...|Fri Nov 27 20:28:...|            0|             0|0.089632474|0.08827755| 0.08713678| 0.0833544|0.17070848| 0.1264772|0.087077774| 0.08736985| 0.08575915| 0.09420635|\n",
       "+--------------------+--------------------+--------------------+-------------+--------------+-----------+----------+-----------+----------+----------+----------+-----------+-----------+-----------+-----------+\n",
       "only showing top 5 rows\n",
       "\n",
       "</div>"
      ]
     },
     "metadata": {
      "application/vnd.databricks.v1+output": {
       "addedWidgets": {},
       "arguments": {},
       "data": "<div class=\"ansiout\">+--------------------+--------------------+--------------------+-------------+--------------+-----------+----------+-----------+----------+----------+----------+-----------+-----------+-----------+-----------+\n|          tweet_text|            hash_tag|          created_at|retweet_count|favorite_count|    topic_0|   topic_1|    topic_2|   topic_3|   topic_4|   topic_5|    topic_6|    topic_7|    topic_8|    topic_9|\n+--------------------+--------------------+--------------------+-------------+--------------+-----------+----------+-----------+----------+----------+----------+-----------+-----------+-----------+-----------+\n|the pope has join...|  Microsoft, IBM, AI|Fri Nov 27 20:28:...|            0|             0| 0.10492598|0.07193848| 0.06570499|0.05744596|0.06647186|0.17364535|0.062009085| 0.26428443| 0.07284105|0.060732827|\n|machine learning ...|MachineLearning, ...|Fri Nov 27 20:28:...|            0|             0|0.089632474|0.08827755| 0.08713678| 0.0833544|0.17070848| 0.1264772|0.087077774| 0.08736985| 0.08575915| 0.09420635|\n|new research syst...|                  AI|Fri Nov 27 20:28:...|            0|             0| 0.18605746|  0.067211| 0.07489017|0.18183424|0.11748559|0.07559689|0.070340976|0.069928035|0.089275956| 0.06737969|\n|the latest breaki...|         fintech, ai|Fri Nov 27 20:28:...|            0|             0| 0.09118679|0.09167263|0.106806256| 0.1055957|0.10518496|0.09069894|0.093467824| 0.09957159|0.107262984| 0.10855233|\n|machine learning ...|MachineLearning, ...|Fri Nov 27 20:28:...|            0|             0|0.089632474|0.08827755| 0.08713678| 0.0833544|0.17070848| 0.1264772|0.087077774| 0.08736985| 0.08575915| 0.09420635|\n+--------------------+--------------------+--------------------+-------------+--------------+-----------+----------+-----------+----------+----------+----------+-----------+-----------+-----------+-----------+\nonly showing top 5 rows\n\n</div>",
       "datasetInfos": [],
       "removedWidgets": [],
       "type": "html"
      }
     },
     "output_type": "display_data"
    }
   ],
   "source": [
    "df_with_topics.show(5)"
   ]
  },
  {
   "cell_type": "code",
   "execution_count": null,
   "metadata": {
    "application/vnd.databricks.v1+cell": {
     "inputWidgets": {},
     "nuid": "4fd8c065-d583-4173-b6bc-debb83874c71",
     "showTitle": false,
     "title": ""
    }
   },
   "outputs": [
    {
     "data": {
      "text/html": [
       "<style scoped>\n",
       "  .ansiout {\n",
       "    display: block;\n",
       "    unicode-bidi: embed;\n",
       "    white-space: pre-wrap;\n",
       "    word-wrap: break-word;\n",
       "    word-break: break-all;\n",
       "    font-family: \"Source Code Pro\", \"Menlo\", monospace;;\n",
       "    font-size: 13px;\n",
       "    color: #555;\n",
       "    margin-left: 4px;\n",
       "    line-height: 19px;\n",
       "  }\n",
       "</style>\n",
       "<div class=\"ansiout\"></div>"
      ]
     },
     "metadata": {
      "application/vnd.databricks.v1+output": {
       "addedWidgets": {},
       "arguments": {},
       "data": "<div class=\"ansiout\"></div>",
       "datasetInfos": [
        {
         "name": "df_with_topics_sentiment",
         "schema": {
          "fields": [
           {
            "metadata": {},
            "name": "tweet_text",
            "nullable": true,
            "type": "string"
           },
           {
            "metadata": {},
            "name": "hash_tag",
            "nullable": true,
            "type": "string"
           },
           {
            "metadata": {},
            "name": "created_at",
            "nullable": true,
            "type": "string"
           },
           {
            "metadata": {},
            "name": "retweet_count",
            "nullable": true,
            "type": "string"
           },
           {
            "metadata": {},
            "name": "favorite_count",
            "nullable": true,
            "type": "string"
           },
           {
            "metadata": {},
            "name": "topic_0",
            "nullable": true,
            "type": "float"
           },
           {
            "metadata": {},
            "name": "topic_1",
            "nullable": true,
            "type": "float"
           },
           {
            "metadata": {},
            "name": "topic_2",
            "nullable": true,
            "type": "float"
           },
           {
            "metadata": {},
            "name": "topic_3",
            "nullable": true,
            "type": "float"
           },
           {
            "metadata": {},
            "name": "topic_4",
            "nullable": true,
            "type": "float"
           },
           {
            "metadata": {},
            "name": "topic_5",
            "nullable": true,
            "type": "float"
           },
           {
            "metadata": {},
            "name": "topic_6",
            "nullable": true,
            "type": "float"
           },
           {
            "metadata": {},
            "name": "topic_7",
            "nullable": true,
            "type": "float"
           },
           {
            "metadata": {},
            "name": "topic_8",
            "nullable": true,
            "type": "float"
           },
           {
            "metadata": {},
            "name": "topic_9",
            "nullable": true,
            "type": "float"
           },
           {
            "metadata": {},
            "name": "sentiment",
            "nullable": true,
            "type": "string"
           }
          ],
          "type": "struct"
         },
         "tableIdentifier": null,
         "typeStr": "pyspark.sql.dataframe.DataFrame"
        }
       ],
       "removedWidgets": [],
       "type": "html"
      }
     },
     "output_type": "display_data"
    }
   ],
   "source": [
    "df_with_topics_sentiment = df_with_topics.withColumn(\"sentiment\", getSentiment(F.col(\"tweet_text\")))\\\n",
    "                            .withColumn(\"sentiment\", F.format_number(\"sentiment\", 3))"
   ]
  },
  {
   "cell_type": "code",
   "execution_count": null,
   "metadata": {
    "application/vnd.databricks.v1+cell": {
     "inputWidgets": {},
     "nuid": "2fb8cd8a-0976-460c-9f7c-f254fdf46484",
     "showTitle": false,
     "title": ""
    }
   },
   "outputs": [
    {
     "data": {
      "text/html": [
       "<style scoped>\n",
       "  .ansiout {\n",
       "    display: block;\n",
       "    unicode-bidi: embed;\n",
       "    white-space: pre-wrap;\n",
       "    word-wrap: break-word;\n",
       "    word-break: break-all;\n",
       "    font-family: \"Source Code Pro\", \"Menlo\", monospace;;\n",
       "    font-size: 13px;\n",
       "    color: #555;\n",
       "    margin-left: 4px;\n",
       "    line-height: 19px;\n",
       "  }\n",
       "</style>"
      ]
     },
     "metadata": {
      "application/vnd.databricks.v1+output": {
       "arguments": {},
       "data": "",
       "errorSummary": "",
       "type": "ipynbError"
      }
     },
     "output_type": "display_data"
    }
   ],
   "source": [
    "[]"
   ]
  },
  {
   "cell_type": "code",
   "execution_count": null,
   "metadata": {
    "application/vnd.databricks.v1+cell": {
     "inputWidgets": {},
     "nuid": "70dd2d2e-7ff5-424d-bf6a-fc17adc13e0e",
     "showTitle": false,
     "title": ""
    }
   },
   "outputs": [
    {
     "data": {
      "text/html": [
       "<style scoped>\n",
       "  .ansiout {\n",
       "    display: block;\n",
       "    unicode-bidi: embed;\n",
       "    white-space: pre-wrap;\n",
       "    word-wrap: break-word;\n",
       "    word-break: break-all;\n",
       "    font-family: \"Source Code Pro\", \"Menlo\", monospace;;\n",
       "    font-size: 13px;\n",
       "    color: #555;\n",
       "    margin-left: 4px;\n",
       "    line-height: 19px;\n",
       "  }\n",
       "</style>\n",
       "<div class=\"ansiout\">+------------------------------------------------------------------------------------------------------------------------------------------------------------+---------+-----------+-----------+-----------+-----------+-----------+-----------+-----------+-----------+-----------+-----------+\n",
       "tweet_text                                                                                                                                                  |sentiment|topic_0    |topic_1    |topic_2    |topic_3    |topic_4    |topic_5    |topic_6    |topic_7    |topic_8    |topic_9    |\n",
       "+------------------------------------------------------------------------------------------------------------------------------------------------------------+---------+-----------+-----------+-----------+-----------+-----------+-----------+-----------+-----------+-----------+-----------+\n",
       "the pope has joined forces with and to create a doctrine for ethical and facial recognition here s how the vatican wants to shape it                        |0.133    |0.10492598 |0.07193848 |0.06570499 |0.05744596 |0.06647186 |0.17364535 |0.062009085|0.26428443 |0.07284105 |0.060732827|\n",
       "machine learning with core ml and swift                                                                                                                     |0.000    |0.089632474|0.08827755 |0.08713678 |0.0833544  |0.17070848 |0.1264772  |0.087077774|0.08736985 |0.08575915 |0.09420635 |\n",
       "new research systems lack common sense needed to generate plausible sentences via                                                                           |0.112    |0.18605746 |0.067211   |0.07489017 |0.18183424 |0.11748559 |0.07559689 |0.070340976|0.069928035|0.089275956|0.06737969 |\n",
       "the latest breaking banks asia thanks to                                                                                                                    |0.350    |0.09118679 |0.09167263 |0.106806256|0.1055957  |0.10518496 |0.09069894 |0.093467824|0.09957159 |0.107262984|0.10855233 |\n",
       "machine learning with core ml and swift                                                                                                                     |0.000    |0.089632474|0.08827755 |0.08713678 |0.0833544  |0.17070848 |0.1264772  |0.087077774|0.08736985 |0.08575915 |0.09420635 |\n",
       "drone taxis are a reality in china                                                                                                                          |0.000    |0.08175878 |0.084658064|0.08809326 |0.1828313  |0.08226121 |0.1258502  |0.087564   |0.087808244|0.09262557 |0.086549364|\n",
       "ways mobile will impact the world cc                                                                                                                        |0.000    |0.10462556 |0.09600069 |0.096476085|0.10824327 |0.10645242 |0.09645034 |0.09749233 |0.10066631 |0.09615426 |0.09743875 |\n",
       "un experts sound alarm over ai enhanced racial profiling the jakarta post jakarta post read more here                                                       |0.450    |0.064055435|0.3293089  |0.11451924 |0.06630602 |0.061099745|0.07295442 |0.057264805|0.06415868 |0.08237231 |0.087960474|\n",
       "looks promising                                                                                                                                             |0.200    |0.10754137 |0.09645416 |0.101482704|0.096895345|0.100050874|0.10196502 |0.10181935 |0.09550458 |0.09553902 |0.10274759 |\n",
       "using artificial intelligence scientists mapped billion trees to better understand climate change fascinating and indicative of the positive impact can have|0.207    |0.105063535|0.102030486|0.081838384|0.10777468 |0.08859508 |0.082259074|0.09974582 |0.07948149 |0.09212145 |0.16109    |\n",
       "german startup s ai expert roadmap gets k github stars via                                                                                                  |0.000    |0.1347757  |0.08917777 |0.079930976|0.08215079 |0.07740592 |0.1382903  |0.10183365 |0.13784581 |0.07544569 |0.08314338 |\n",
       "year old in the uk                                                                                                                                          |0.100    |0.092689596|0.096837796|0.090412736|0.111408696|0.09388522 |0.09488657 |0.11253832 |0.11730488 |0.09645041 |0.093585774|\n",
       "the latest the artificial intelligence daily thanks to                                                                                                      |0.025    |0.09638157 |0.100420184|0.09969226 |0.10823118 |0.09860085 |0.10035951 |0.0997125  |0.09705115 |0.09878477 |0.10076605 |\n",
       "this cable driven parallel could be used for different purposes such as product assembling rehabilitation and filmmaking by cc                              |0.000    |0.06961801 |0.16830279 |0.19091558 |0.06996829 |0.077851065|0.070342466|0.06738052 |0.1405389  |0.08103779 |0.064044595|\n",
       "opinion how ai can push for equitable access to covid vaccines devex read more here                                                                         |0.500    |0.076562196|0.078004025|0.083490126|0.08408501 |0.14288819 |0.08613028 |0.11650855 |0.07985518 |0.14639963 |0.106076814|\n",
       "elements of thrilling mystery suspense dystopian fantasy and science fiction the lenders saga from                                                          |0.250    |0.04639203 |0.046183567|0.047057312|0.046319727|0.046210006|0.047138095|0.046209835|0.58145237 |0.046591163|0.04644588 |\n",
       "organisations that are not applying risk of becoming irrelevant in the market take action today to transform your business                                  |0.017    |0.10617273 |0.07891672 |0.090545245|0.0817453  |0.11457542 |0.08682006 |0.09033395 |0.08475276 |0.07917527 |0.18696254 |\n",
       "opinion how ai can push for equitable access to covid vaccines devex read more here                                                                         |0.500    |0.076562196|0.078004025|0.083490126|0.08408501 |0.14288819 |0.08613028 |0.11650855 |0.07985518 |0.14639963 |0.106076814|\n",
       "a beginner s guide to creating artwork for d video games                                                                                                    |0.000    |0.08532464 |0.10600954 |0.08124259 |0.08637682 |0.085793026|0.094247706|0.07967032 |0.081294574|0.08500704 |0.21503372 |\n",
       "rt mt thanks to cc                                                                                                                                          |0.200    |0.0982456  |0.10030027 |0.100582086|0.10326949 |0.10009108 |0.098980635|0.09975693 |0.0995824  |0.09859559 |0.10059593 |\n",
       "+------------------------------------------------------------------------------------------------------------------------------------------------------------+---------+-----------+-----------+-----------+-----------+-----------+-----------+-----------+-----------+-----------+-----------+\n",
       "only showing top 20 rows\n",
       "\n",
       "</div>"
      ]
     },
     "metadata": {
      "application/vnd.databricks.v1+output": {
       "addedWidgets": {},
       "arguments": {},
       "data": "<div class=\"ansiout\">+------------------------------------------------------------------------------------------------------------------------------------------------------------+---------+-----------+-----------+-----------+-----------+-----------+-----------+-----------+-----------+-----------+-----------+\n|tweet_text                                                                                                                                                  |sentiment|topic_0    |topic_1    |topic_2    |topic_3    |topic_4    |topic_5    |topic_6    |topic_7    |topic_8    |topic_9    |\n+------------------------------------------------------------------------------------------------------------------------------------------------------------+---------+-----------+-----------+-----------+-----------+-----------+-----------+-----------+-----------+-----------+-----------+\n|the pope has joined forces with and to create a doctrine for ethical and facial recognition here s how the vatican wants to shape it                        |0.133    |0.10492598 |0.07193848 |0.06570499 |0.05744596 |0.06647186 |0.17364535 |0.062009085|0.26428443 |0.07284105 |0.060732827|\n|machine learning with core ml and swift                                                                                                                     |0.000    |0.089632474|0.08827755 |0.08713678 |0.0833544  |0.17070848 |0.1264772  |0.087077774|0.08736985 |0.08575915 |0.09420635 |\n|new research systems lack common sense needed to generate plausible sentences via                                                                           |0.112    |0.18605746 |0.067211   |0.07489017 |0.18183424 |0.11748559 |0.07559689 |0.070340976|0.069928035|0.089275956|0.06737969 |\n|the latest breaking banks asia thanks to                                                                                                                    |0.350    |0.09118679 |0.09167263 |0.106806256|0.1055957  |0.10518496 |0.09069894 |0.093467824|0.09957159 |0.107262984|0.10855233 |\n|machine learning with core ml and swift                                                                                                                     |0.000    |0.089632474|0.08827755 |0.08713678 |0.0833544  |0.17070848 |0.1264772  |0.087077774|0.08736985 |0.08575915 |0.09420635 |\n|drone taxis are a reality in china                                                                                                                          |0.000    |0.08175878 |0.084658064|0.08809326 |0.1828313  |0.08226121 |0.1258502  |0.087564   |0.087808244|0.09262557 |0.086549364|\n|ways mobile will impact the world cc                                                                                                                        |0.000    |0.10462556 |0.09600069 |0.096476085|0.10824327 |0.10645242 |0.09645034 |0.09749233 |0.10066631 |0.09615426 |0.09743875 |\n|un experts sound alarm over ai enhanced racial profiling the jakarta post jakarta post read more here                                                       |0.450    |0.064055435|0.3293089  |0.11451924 |0.06630602 |0.061099745|0.07295442 |0.057264805|0.06415868 |0.08237231 |0.087960474|\n|looks promising                                                                                                                                             |0.200    |0.10754137 |0.09645416 |0.101482704|0.096895345|0.100050874|0.10196502 |0.10181935 |0.09550458 |0.09553902 |0.10274759 |\n|using artificial intelligence scientists mapped billion trees to better understand climate change fascinating and indicative of the positive impact can have|0.207    |0.105063535|0.102030486|0.081838384|0.10777468 |0.08859508 |0.082259074|0.09974582 |0.07948149 |0.09212145 |0.16109    |\n|german startup s ai expert roadmap gets k github stars via                                                                                                  |0.000    |0.1347757  |0.08917777 |0.079930976|0.08215079 |0.07740592 |0.1382903  |0.10183365 |0.13784581 |0.07544569 |0.08314338 |\n|year old in the uk                                                                                                                                          |0.100    |0.092689596|0.096837796|0.090412736|0.111408696|0.09388522 |0.09488657 |0.11253832 |0.11730488 |0.09645041 |0.093585774|\n|the latest the artificial intelligence daily thanks to                                                                                                      |0.025    |0.09638157 |0.100420184|0.09969226 |0.10823118 |0.09860085 |0.10035951 |0.0997125  |0.09705115 |0.09878477 |0.10076605 |\n|this cable driven parallel could be used for different purposes such as product assembling rehabilitation and filmmaking by cc                              |0.000    |0.06961801 |0.16830279 |0.19091558 |0.06996829 |0.077851065|0.070342466|0.06738052 |0.1405389  |0.08103779 |0.064044595|\n|opinion how ai can push for equitable access to covid vaccines devex read more here                                                                         |0.500    |0.076562196|0.078004025|0.083490126|0.08408501 |0.14288819 |0.08613028 |0.11650855 |0.07985518 |0.14639963 |0.106076814|\n|elements of thrilling mystery suspense dystopian fantasy and science fiction the lenders saga from                                                          |0.250    |0.04639203 |0.046183567|0.047057312|0.046319727|0.046210006|0.047138095|0.046209835|0.58145237 |0.046591163|0.04644588 |\n|organisations that are not applying risk of becoming irrelevant in the market take action today to transform your business                                  |0.017    |0.10617273 |0.07891672 |0.090545245|0.0817453  |0.11457542 |0.08682006 |0.09033395 |0.08475276 |0.07917527 |0.18696254 |\n|opinion how ai can push for equitable access to covid vaccines devex read more here                                                                         |0.500    |0.076562196|0.078004025|0.083490126|0.08408501 |0.14288819 |0.08613028 |0.11650855 |0.07985518 |0.14639963 |0.106076814|\n|a beginner s guide to creating artwork for d video games                                                                                                    |0.000    |0.08532464 |0.10600954 |0.08124259 |0.08637682 |0.085793026|0.094247706|0.07967032 |0.081294574|0.08500704 |0.21503372 |\n|rt mt thanks to cc                                                                                                                                          |0.200    |0.0982456  |0.10030027 |0.100582086|0.10326949 |0.10009108 |0.098980635|0.09975693 |0.0995824  |0.09859559 |0.10059593 |\n+------------------------------------------------------------------------------------------------------------------------------------------------------------+---------+-----------+-----------+-----------+-----------+-----------+-----------+-----------+-----------+-----------+-----------+\nonly showing top 20 rows\n\n</div>",
       "datasetInfos": [],
       "removedWidgets": [],
       "type": "html"
      }
     },
     "output_type": "display_data"
    }
   ],
   "source": [
    "df_with_topics_sentiment.select(\"tweet_text\", \"sentiment\", *[\"topic_\"+str(i) for i in range(n_topics)]).show(20, truncate=False)"
   ]
  },
  {
   "cell_type": "code",
   "execution_count": null,
   "metadata": {
    "application/vnd.databricks.v1+cell": {
     "inputWidgets": {},
     "nuid": "5a73b106-143f-4ac0-993d-b8fe78b22077",
     "showTitle": false,
     "title": ""
    }
   },
   "outputs": [
    {
     "data": {
      "text/html": [
       "<style scoped>\n",
       "  .ansiout {\n",
       "    display: block;\n",
       "    unicode-bidi: embed;\n",
       "    white-space: pre-wrap;\n",
       "    word-wrap: break-word;\n",
       "    word-break: break-all;\n",
       "    font-family: \"Source Code Pro\", \"Menlo\", monospace;;\n",
       "    font-size: 13px;\n",
       "    color: #555;\n",
       "    margin-left: 4px;\n",
       "    line-height: 19px;\n",
       "  }\n",
       "</style>"
      ]
     },
     "metadata": {
      "application/vnd.databricks.v1+output": {
       "arguments": {},
       "data": "",
       "errorSummary": "",
       "type": "ipynbError"
      }
     },
     "output_type": "display_data"
    }
   ],
   "source": []
  }
 ],
 "metadata": {
  "application/vnd.databricks.v1+notebook": {
   "dashboards": [],
   "language": "python",
   "notebookName": "spark_streaming_test",
   "notebookOrigID": 3229554690368122,
   "widgets": {}
  },
  "kernelspec": {
   "display_name": "Python 3",
   "language": "python",
   "name": "python3"
  },
  "language_info": {
   "codemirror_mode": {
    "name": "ipython",
    "version": 3
   },
   "file_extension": ".py",
   "mimetype": "text/x-python",
   "name": "python",
   "nbconvert_exporter": "python",
   "pygments_lexer": "ipython3",
   "version": "3.7.5"
  }
 },
 "nbformat": 4,
 "nbformat_minor": 4
}
